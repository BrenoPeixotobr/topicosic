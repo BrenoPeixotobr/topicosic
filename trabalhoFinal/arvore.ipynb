{
 "cells": [
  {
   "cell_type": "markdown",
   "metadata": {
    "colab_type": "text",
    "id": "lLEordwSAkX2"
   },
   "source": [
    "Importa as bibliotecas necessárias"
   ]
  },
  {
   "cell_type": "code",
   "execution_count": 72,
   "metadata": {
    "colab": {
     "base_uri": "https://localhost:8080/",
     "height": 35
    },
    "colab_type": "code",
    "executionInfo": {
     "elapsed": 6209,
     "status": "ok",
     "timestamp": 1549030585538,
     "user": {
      "displayName": "Daniel Rocha",
      "photoUrl": "https://lh5.googleusercontent.com/-inuoj_DxYnw/AAAAAAAAAAI/AAAAAAAAUVI/VXNXI0mFJ5s/s64/photo.jpg",
      "userId": "07686225848023141970"
     },
     "user_tz": 120
    },
    "id": "uH77ChnTAkX5",
    "outputId": "52a591df-f280-4881-9db8-1a54855d36d0"
   },
   "outputs": [],
   "source": [
    "import pandas\n",
    "import matplotlib.pyplot as plt\n",
    "import numpy as np\n",
    "from random import randint\n",
    "from sklearn.neural_network import MLPClassifier\n",
    "from sklearn.naive_bayes import GaussianNB\n",
    "from sklearn.neighbors import KNeighborsClassifier\n",
    "\n",
    "#from sklearn.metrics import  confusion_matrix  \n",
    "\n",
    "# Modulos Básicos\n",
    "import itertools\n",
    "import numpy as np\n",
    "import matplotlib.pyplot as plt\n",
    "# Divisão do datasets\n",
    "from sklearn.model_selection import train_test_split\n",
    "# Arvores de decisao\n",
    "from sklearn import tree\n",
    "import graphviz\n",
    "# Matriz de Confusao\n",
    "from sklearn.externals.six import StringIO  \n",
    "from sklearn.metrics import classification_report, confusion_matrix\n",
    "from sklearn.tree import export_graphviz\n",
    "import pydotplus\n",
    "\n",
    "\n",
    "\n",
    "arquivo = pandas.read_csv('datasets/numericos.csv', sep=',')\n",
    "dados = pandas.DataFrame(arquivo)\n",
    "\n",
    "condicao=[(dados['NT_GER']>=0)&(dados['NT_GER']<=20),\n",
    "         (dados['NT_GER']>20)&(dados['NT_GER']<=40),\n",
    "         (dados['NT_GER']>40)&(dados['NT_GER']<=60),\n",
    "         (dados['NT_GER']>60)&(dados['NT_GER']<=80),\n",
    "         (dados['NT_GER']>80)&(dados['NT_GER']<=100)]\n",
    "escolha=[1,2,3,4,5]\n",
    "dados['NT_GER']=np.select(condicao,escolha)\n",
    "#dados.NT_GER= np.select()\n",
    "#dados['NT_GER']\n",
    "\n"
   ]
  },
  {
   "cell_type": "code",
   "execution_count": 73,
   "metadata": {
    "colab": {
     "base_uri": "https://localhost:8080/",
     "height": 55
    },
    "colab_type": "code",
    "executionInfo": {
     "elapsed": 6208,
     "status": "ok",
     "timestamp": 1549030585540,
     "user": {
      "displayName": "Daniel Rocha",
      "photoUrl": "https://lh5.googleusercontent.com/-inuoj_DxYnw/AAAAAAAAAAI/AAAAAAAAUVI/VXNXI0mFJ5s/s64/photo.jpg",
      "userId": "07686225848023141970"
     },
     "user_tz": 120
    },
    "id": "B0Xv6r28AkX_",
    "outputId": "0ff958c8-0ec5-4f13-ec6e-6416266f8ee6"
   },
   "outputs": [
    {
     "data": {
      "text/plain": [
       "\"\\nfor k in range(1,3):\\n    c1=randint(2,51)\\n    c2=randint(2,51)\\n    x1 = dados.iloc[:,[1,c1,c2]]\\n    a=0\\n        \\n    x1_treino = x1.iloc[0:398582,1:]\\n    x1_teste = x1.iloc[398583:442867,1:]\\n\\n    y1_treino=dados[1,0:398582]\\n    y1_teste=dados[1,398583:442867]\\n\\n\\n    #clf = MLPClassifier(alpha=0.01,max_iter=2000)\\n    clf = GaussianNB()\\n    clf.fit(x1_treino, y1_treino) \\n\\n    y1_previsto = clf.predict(x1_treino)\\n\\n    with open('/content/drive/My Drive/Colab Notebooks/topicosic/trabalhoFinal/output.txt', 'a') as f:    \\n        print >> f,'---------------------------------Teste '+str(k)+'--------------------------'\\n        print >>f,'Variaveis '+str(c1)+' '+str(c2)\\n        print >>f,'Matriz de confusão '\\n        print >>f,confusion_matrix(y1_treino,y1_previsto)\\n        print >>f,'resulatdo classificação '\\n        print >>f,classification_report(y1_treino,y1_previsto)\\n        print >>f,'\\n-----------------------------------------------------------------------\\n'\\n\""
      ]
     },
     "execution_count": 73,
     "metadata": {},
     "output_type": "execute_result"
    }
   ],
   "source": [
    "'''\n",
    "for k in range(1,3):\n",
    "    c1=randint(2,51)\n",
    "    c2=randint(2,51)\n",
    "    x1 = dados.iloc[:,[1,c1,c2]]\n",
    "    a=0\n",
    "        \n",
    "    x1_treino = x1.iloc[0:398582,1:]\n",
    "    x1_teste = x1.iloc[398583:442867,1:]\n",
    "\n",
    "    y1_treino=dados[1,0:398582]\n",
    "    y1_teste=dados[1,398583:442867]\n",
    "\n",
    "\n",
    "    #clf = MLPClassifier(alpha=0.01,max_iter=2000)\n",
    "    clf = GaussianNB()\n",
    "    clf.fit(x1_treino, y1_treino) \n",
    "\n",
    "    y1_previsto = clf.predict(x1_treino)\n",
    "\n",
    "    with open('/content/drive/My Drive/Colab Notebooks/topicosic/trabalhoFinal/output.txt', 'a') as f:    \n",
    "        print >> f,'---------------------------------Teste '+str(k)+'--------------------------'\n",
    "        print >>f,'Variaveis '+str(c1)+' '+str(c2)\n",
    "        print >>f,'Matriz de confusão '\n",
    "        print >>f,confusion_matrix(y1_treino,y1_previsto)\n",
    "        print >>f,'resulatdo classificação '\n",
    "        print >>f,classification_report(y1_treino,y1_previsto)\n",
    "        print >>f,'\\n-----------------------------------------------------------------------\\n'\n",
    "'''"
   ]
  },
  {
   "cell_type": "code",
   "execution_count": 74,
   "metadata": {
    "colab": {},
    "colab_type": "code",
    "id": "3xhiPt6aZacf"
   },
   "outputs": [],
   "source": [
    "from sklearn.metrics import confusion_matrix\n",
    "\n",
    "def plot_confusion_matrix(cm, classes, normalize=False, title='Matriz de Confusão',cmap=plt.cm.Blues):\n",
    "    \"\"\"\n",
    "    Essa função imprime a matriz de confusão\n",
    "    A matriz pode ser nomarlizada atraves de `normalize=True`.\n",
    "    \"\"\"\n",
    "    if normalize:\n",
    "        cm = cm.astype('float') / cm.sum(axis=1)[:, np.newaxis]\n",
    "\n",
    "    plt.imshow(cm, interpolation='nearest', cmap=cmap)\n",
    "    plt.title(title)\n",
    "    plt.colorbar()\n",
    "    tick_marks = np.arange(len(classes))\n",
    "    plt.xticks(tick_marks, classes, rotation=45)\n",
    "    plt.yticks(tick_marks, classes)\n",
    "\n",
    "    fmt = '.2f' if normalize else 'd'\n",
    "    thresh = cm.max() / 2.\n",
    "    for i, j in itertools.product(range(cm.shape[0]), range(cm.shape[1])):\n",
    "        plt.text(j, i, format(cm[i, j], fmt),\n",
    "                 horizontalalignment=\"center\",\n",
    "                 color=\"white\" if cm[i, j] > thresh else \"black\")\n",
    "                 \n",
    "    plt.tight_layout()\n",
    "    plt.ylabel('Classe Verdadeira')\n",
    "    plt.xlabel('Classe Obtida')\n",
    "\n",
    "def MatrizConfusao(y_test, y_pred,class_names):\n",
    "    # Matriz de confusao\n",
    "    cnf_matrix = confusion_matrix(y_test, y_pred)\n",
    "    np.set_printoptions(precision=2)\n",
    "    # Plot non-normalized confusion matrix\n",
    "    plt.figure()\n",
    "    plot_confusion_matrix(cnf_matrix, classes=class_names,title='Matriz de confusão não normalizada')\n",
    "    # Plot normalized confusion matrix\n",
    "    plt.figure()\n",
    "    plot_confusion_matrix(cnf_matrix, classes=class_names, normalize=True, title='Matriz de confusão normalizada')\n",
    "    plt.show()"
   ]
  },
  {
   "cell_type": "code",
   "execution_count": 75,
   "metadata": {
    "colab": {
     "base_uri": "https://localhost:8080/",
     "height": 4019
    },
    "colab_type": "code",
    "executionInfo": {
     "elapsed": 18609,
     "status": "error",
     "timestamp": 1549030702730,
     "user": {
      "displayName": "Daniel Rocha",
      "photoUrl": "https://lh5.googleusercontent.com/-inuoj_DxYnw/AAAAAAAAAAI/AAAAAAAAUVI/VXNXI0mFJ5s/s64/photo.jpg",
      "userId": "07686225848023141970"
     },
     "user_tz": 120
    },
    "id": "PjpMINAlDi6a",
    "outputId": "ba5228d7-bbfe-47d7-cc61-ae99649f10c6"
   },
   "outputs": [
    {
     "name": "stdout",
     "output_type": "stream",
     "text": [
      "Score: 0.403803\n"
     ]
    },
    {
     "data": {
      "image/png": "[encoded data removed]",
      "text/plain": [
       "<Figure size 432x288 with 2 Axes>"
      ]
     },
     "metadata": {
      "needs_background": "light"
     },
     "output_type": "display_data"
    },
    {
     "data": {
      "image/png": "[encoded data removed]",
      "text/plain": [
       "<Figure size 432x288 with 2 Axes>"
      ]
     },
     "metadata": {
      "needs_background": "light"
     },
     "output_type": "display_data"
    },
    {
     "name": "stdout",
     "output_type": "stream",
     "text": [
      "Matriz Confusao Concluida\n"
     ]
    },
    {
     "ename": "ExecutableNotFound",
     "evalue": "failed to execute ['dot', '-Tpdf', '-O', 'Source.gv'], make sure the Graphviz executables are on your systems' PATH",
     "output_type": "error",
     "traceback": [
      "\u001b[0;31m---------------------------------------------------------------------------\u001b[0m",
      "\u001b[0;31mFileNotFoundError\u001b[0m                         Traceback (most recent call last)",
      "\u001b[0;32m~/.local/lib/python3.6/site-packages/graphviz/backend.py\u001b[0m in \u001b[0;36mrun\u001b[0;34m(cmd, input, capture_output, check, quiet, **kwargs)\u001b[0m\n\u001b[1;32m    146\u001b[0m     \u001b[0;32mtry\u001b[0m\u001b[0;34m:\u001b[0m\u001b[0;34m\u001b[0m\u001b[0m\n\u001b[0;32m--> 147\u001b[0;31m         \u001b[0mproc\u001b[0m \u001b[0;34m=\u001b[0m \u001b[0msubprocess\u001b[0m\u001b[0;34m.\u001b[0m\u001b[0mPopen\u001b[0m\u001b[0;34m(\u001b[0m\u001b[0mcmd\u001b[0m\u001b[0;34m,\u001b[0m \u001b[0mstartupinfo\u001b[0m\u001b[0;34m=\u001b[0m\u001b[0mget_startupinfo\u001b[0m\u001b[0;34m(\u001b[0m\u001b[0;34m)\u001b[0m\u001b[0;34m,\u001b[0m \u001b[0;34m**\u001b[0m\u001b[0mkwargs\u001b[0m\u001b[0;34m)\u001b[0m\u001b[0;34m\u001b[0m\u001b[0m\n\u001b[0m\u001b[1;32m    148\u001b[0m     \u001b[0;32mexcept\u001b[0m \u001b[0mOSError\u001b[0m \u001b[0;32mas\u001b[0m \u001b[0me\u001b[0m\u001b[0;34m:\u001b[0m\u001b[0;34m\u001b[0m\u001b[0m\n",
      "\u001b[0;32m~/anaconda3/lib/python3.6/subprocess.py\u001b[0m in \u001b[0;36m__init__\u001b[0;34m(self, args, bufsize, executable, stdin, stdout, stderr, preexec_fn, close_fds, shell, cwd, env, universal_newlines, startupinfo, creationflags, restore_signals, start_new_session, pass_fds, encoding, errors)\u001b[0m\n\u001b[1;32m    708\u001b[0m                                 \u001b[0merrread\u001b[0m\u001b[0;34m,\u001b[0m \u001b[0merrwrite\u001b[0m\u001b[0;34m,\u001b[0m\u001b[0;34m\u001b[0m\u001b[0m\n\u001b[0;32m--> 709\u001b[0;31m                                 restore_signals, start_new_session)\n\u001b[0m\u001b[1;32m    710\u001b[0m         \u001b[0;32mexcept\u001b[0m\u001b[0;34m:\u001b[0m\u001b[0;34m\u001b[0m\u001b[0m\n",
      "\u001b[0;32m~/anaconda3/lib/python3.6/subprocess.py\u001b[0m in \u001b[0;36m_execute_child\u001b[0;34m(self, args, executable, preexec_fn, close_fds, pass_fds, cwd, env, startupinfo, creationflags, shell, p2cread, p2cwrite, c2pread, c2pwrite, errread, errwrite, restore_signals, start_new_session)\u001b[0m\n\u001b[1;32m   1343\u001b[0m                             \u001b[0merr_msg\u001b[0m \u001b[0;34m+=\u001b[0m \u001b[0;34m': '\u001b[0m \u001b[0;34m+\u001b[0m \u001b[0mrepr\u001b[0m\u001b[0;34m(\u001b[0m\u001b[0merr_filename\u001b[0m\u001b[0;34m)\u001b[0m\u001b[0;34m\u001b[0m\u001b[0m\n\u001b[0;32m-> 1344\u001b[0;31m                     \u001b[0;32mraise\u001b[0m \u001b[0mchild_exception_type\u001b[0m\u001b[0;34m(\u001b[0m\u001b[0merrno_num\u001b[0m\u001b[0;34m,\u001b[0m \u001b[0merr_msg\u001b[0m\u001b[0;34m,\u001b[0m \u001b[0merr_filename\u001b[0m\u001b[0;34m)\u001b[0m\u001b[0;34m\u001b[0m\u001b[0m\n\u001b[0m\u001b[1;32m   1345\u001b[0m                 \u001b[0;32mraise\u001b[0m \u001b[0mchild_exception_type\u001b[0m\u001b[0;34m(\u001b[0m\u001b[0merr_msg\u001b[0m\u001b[0;34m)\u001b[0m\u001b[0;34m\u001b[0m\u001b[0m\n",
      "\u001b[0;31mFileNotFoundError\u001b[0m: [Errno 2] No such file or directory: 'dot': 'dot'",
      "\nDuring handling of the above exception, another exception occurred:\n",
      "\u001b[0;31mExecutableNotFound\u001b[0m                        Traceback (most recent call last)",
      "\u001b[0;32m<ipython-input-75-a469f24aa3cd>\u001b[0m in \u001b[0;36m<module>\u001b[0;34m()\u001b[0m\n\u001b[1;32m     60\u001b[0m \u001b[0;34m\u001b[0m\u001b[0m\n\u001b[1;32m     61\u001b[0m \u001b[0;34m\u001b[0m\u001b[0m\n\u001b[0;32m---> 62\u001b[0;31m \u001b[0mmain\u001b[0m\u001b[0;34m(\u001b[0m\u001b[0;34m)\u001b[0m\u001b[0;34m\u001b[0m\u001b[0m\n\u001b[0m",
      "\u001b[0;32m<ipython-input-75-a469f24aa3cd>\u001b[0m in \u001b[0;36mmain\u001b[0;34m()\u001b[0m\n\u001b[1;32m     57\u001b[0m \u001b[0;34m\u001b[0m\u001b[0m\n\u001b[1;32m     58\u001b[0m     \u001b[0mg\u001b[0m \u001b[0;34m=\u001b[0m \u001b[0mplot_tree\u001b[0m\u001b[0;34m(\u001b[0m\u001b[0mclf\u001b[0m\u001b[0;34m,\u001b[0m\u001b[0mdados\u001b[0m\u001b[0;34m)\u001b[0m\u001b[0;34m\u001b[0m\u001b[0m\n\u001b[0;32m---> 59\u001b[0;31m     \u001b[0mg\u001b[0m\u001b[0;34m.\u001b[0m\u001b[0mview\u001b[0m\u001b[0;34m(\u001b[0m\u001b[0;34m)\u001b[0m\u001b[0;34m\u001b[0m\u001b[0m\n\u001b[0m\u001b[1;32m     60\u001b[0m \u001b[0;34m\u001b[0m\u001b[0m\n\u001b[1;32m     61\u001b[0m \u001b[0;34m\u001b[0m\u001b[0m\n",
      "\u001b[0;32m~/.local/lib/python3.6/site-packages/graphviz/files.py\u001b[0m in \u001b[0;36mview\u001b[0;34m(self, filename, directory, cleanup)\u001b[0m\n\u001b[1;32m    213\u001b[0m         \"\"\"\n\u001b[1;32m    214\u001b[0m         return self.render(filename=filename, directory=directory, view=True,\n\u001b[0;32m--> 215\u001b[0;31m                            cleanup=cleanup)\n\u001b[0m\u001b[1;32m    216\u001b[0m \u001b[0;34m\u001b[0m\u001b[0m\n\u001b[1;32m    217\u001b[0m     \u001b[0;32mdef\u001b[0m \u001b[0m_view\u001b[0m\u001b[0;34m(\u001b[0m\u001b[0mself\u001b[0m\u001b[0;34m,\u001b[0m \u001b[0mfilepath\u001b[0m\u001b[0;34m,\u001b[0m \u001b[0mformat\u001b[0m\u001b[0;34m)\u001b[0m\u001b[0;34m:\u001b[0m\u001b[0;34m\u001b[0m\u001b[0m\n",
      "\u001b[0;32m~/.local/lib/python3.6/site-packages/graphviz/files.py\u001b[0m in \u001b[0;36mrender\u001b[0;34m(self, filename, directory, view, cleanup, format, renderer, formatter)\u001b[0m\n\u001b[1;32m    186\u001b[0m             \u001b[0mformat\u001b[0m \u001b[0;34m=\u001b[0m \u001b[0mself\u001b[0m\u001b[0;34m.\u001b[0m\u001b[0m_format\u001b[0m\u001b[0;34m\u001b[0m\u001b[0m\n\u001b[1;32m    187\u001b[0m \u001b[0;34m\u001b[0m\u001b[0m\n\u001b[0;32m--> 188\u001b[0;31m         \u001b[0mrendered\u001b[0m \u001b[0;34m=\u001b[0m \u001b[0mbackend\u001b[0m\u001b[0;34m.\u001b[0m\u001b[0mrender\u001b[0m\u001b[0;34m(\u001b[0m\u001b[0mself\u001b[0m\u001b[0;34m.\u001b[0m\u001b[0m_engine\u001b[0m\u001b[0;34m,\u001b[0m \u001b[0mformat\u001b[0m\u001b[0;34m,\u001b[0m \u001b[0mfilepath\u001b[0m\u001b[0;34m,\u001b[0m \u001b[0mrenderer\u001b[0m\u001b[0;34m,\u001b[0m \u001b[0mformatter\u001b[0m\u001b[0;34m)\u001b[0m\u001b[0;34m\u001b[0m\u001b[0m\n\u001b[0m\u001b[1;32m    189\u001b[0m \u001b[0;34m\u001b[0m\u001b[0m\n\u001b[1;32m    190\u001b[0m         \u001b[0;32mif\u001b[0m \u001b[0mcleanup\u001b[0m\u001b[0;34m:\u001b[0m\u001b[0;34m\u001b[0m\u001b[0m\n",
      "\u001b[0;32m~/.local/lib/python3.6/site-packages/graphviz/backend.py\u001b[0m in \u001b[0;36mrender\u001b[0;34m(engine, format, filepath, renderer, formatter, quiet)\u001b[0m\n\u001b[1;32m    181\u001b[0m     \"\"\"\n\u001b[1;32m    182\u001b[0m     \u001b[0mcmd\u001b[0m\u001b[0;34m,\u001b[0m \u001b[0mrendered\u001b[0m \u001b[0;34m=\u001b[0m \u001b[0mcommand\u001b[0m\u001b[0;34m(\u001b[0m\u001b[0mengine\u001b[0m\u001b[0;34m,\u001b[0m \u001b[0mformat\u001b[0m\u001b[0;34m,\u001b[0m \u001b[0mfilepath\u001b[0m\u001b[0;34m,\u001b[0m \u001b[0mrenderer\u001b[0m\u001b[0;34m,\u001b[0m \u001b[0mformatter\u001b[0m\u001b[0;34m)\u001b[0m\u001b[0;34m\u001b[0m\u001b[0m\n\u001b[0;32m--> 183\u001b[0;31m     \u001b[0mrun\u001b[0m\u001b[0;34m(\u001b[0m\u001b[0mcmd\u001b[0m\u001b[0;34m,\u001b[0m \u001b[0mcapture_output\u001b[0m\u001b[0;34m=\u001b[0m\u001b[0;32mTrue\u001b[0m\u001b[0;34m,\u001b[0m \u001b[0mcheck\u001b[0m\u001b[0;34m=\u001b[0m\u001b[0;32mTrue\u001b[0m\u001b[0;34m,\u001b[0m \u001b[0mquiet\u001b[0m\u001b[0;34m=\u001b[0m\u001b[0mquiet\u001b[0m\u001b[0;34m)\u001b[0m\u001b[0;34m\u001b[0m\u001b[0m\n\u001b[0m\u001b[1;32m    184\u001b[0m     \u001b[0;32mreturn\u001b[0m \u001b[0mrendered\u001b[0m\u001b[0;34m\u001b[0m\u001b[0m\n\u001b[1;32m    185\u001b[0m \u001b[0;34m\u001b[0m\u001b[0m\n",
      "\u001b[0;32m~/.local/lib/python3.6/site-packages/graphviz/backend.py\u001b[0m in \u001b[0;36mrun\u001b[0;34m(cmd, input, capture_output, check, quiet, **kwargs)\u001b[0m\n\u001b[1;32m    148\u001b[0m     \u001b[0;32mexcept\u001b[0m \u001b[0mOSError\u001b[0m \u001b[0;32mas\u001b[0m \u001b[0me\u001b[0m\u001b[0;34m:\u001b[0m\u001b[0;34m\u001b[0m\u001b[0m\n\u001b[1;32m    149\u001b[0m         \u001b[0;32mif\u001b[0m \u001b[0me\u001b[0m\u001b[0;34m.\u001b[0m\u001b[0merrno\u001b[0m \u001b[0;34m==\u001b[0m \u001b[0merrno\u001b[0m\u001b[0;34m.\u001b[0m\u001b[0mENOENT\u001b[0m\u001b[0;34m:\u001b[0m\u001b[0;34m\u001b[0m\u001b[0m\n\u001b[0;32m--> 150\u001b[0;31m             \u001b[0;32mraise\u001b[0m \u001b[0mExecutableNotFound\u001b[0m\u001b[0;34m(\u001b[0m\u001b[0mcmd\u001b[0m\u001b[0;34m)\u001b[0m\u001b[0;34m\u001b[0m\u001b[0m\n\u001b[0m\u001b[1;32m    151\u001b[0m         \u001b[0;32melse\u001b[0m\u001b[0;34m:\u001b[0m  \u001b[0;31m# pragma: no cover\u001b[0m\u001b[0;34m\u001b[0m\u001b[0m\n\u001b[1;32m    152\u001b[0m             \u001b[0;32mraise\u001b[0m\u001b[0;34m\u001b[0m\u001b[0m\n",
      "\u001b[0;31mExecutableNotFound\u001b[0m: failed to execute ['dot', '-Tpdf', '-O', 'Source.gv'], make sure the Graphviz executables are on your systems' PATH"
     ]
    }
   ],
   "source": [
    "from sklearn import tree\n",
    "import graphviz\n",
    "\n",
    "\n",
    "def DecisionTree(dados):\n",
    "    X_train = dados.iloc[0:398582,2:]\n",
    "    X_test = dados.iloc[398583:442867,2:]\n",
    "\n",
    "    y_train=dados.iloc[0:398582,1]\n",
    "    y_test=dados.iloc[398583:442867,1]\n",
    "    \n",
    "    clf = tree.DecisionTreeClassifier()\n",
    "    clf = clf.fit(X_train, y_train)\n",
    "    y_pred = clf.predict(X_test)\n",
    "    return clf, y_test,y_pred,clf.score(X_test,y_test)\n",
    "  \n",
    "def plot_tree(clf,iris):\n",
    "    \"\"\"\n",
    "    Essa função imprime a Árvore de decisão.\n",
    "    \"\"\"\n",
    "    dot_data = StringIO()\n",
    "    #dot_data = tree.export_graphviz(clf, out_file=None)  \n",
    "    #graph.render(\"iris\") \n",
    "\n",
    "    dot_data=tree.export_graphviz(clf, out_file=None, feature_names=dados.columns[2:],class_names=['1','2','3','4','5'], filled=True, rounded=True, special_characters=True)  \n",
    "    #graph = pydotplus.graph_from_dot_data(dot_data.getvalue())  \n",
    "    graph = graphviz.Source(dot_data)\n",
    "    graph \n",
    "    #Image(graph.create_png())\n",
    "    \n",
    "    #graph = graphviz.Source(dot_data)  \n",
    "    return graph \n",
    " \n",
    "  \n",
    "\n",
    "def main():\n",
    "    arquivo = pandas.read_csv('datasets/numericos.csv', sep=',')\n",
    "    dados = pandas.DataFrame(arquivo)\n",
    "   \n",
    "    condicao=[(dados['NT_GER']>=0)&(dados['NT_GER']<=20),\n",
    "         (dados['NT_GER']>20)&(dados['NT_GER']<=40),\n",
    "         (dados['NT_GER']>40)&(dados['NT_GER']<=60),\n",
    "         (dados['NT_GER']>60)&(dados['NT_GER']<=80),\n",
    "         (dados['NT_GER']>80)&(dados['NT_GER']<=100)]\n",
    "    escolha=[1,2,3,4,5]\n",
    "    dados['NT_GER']=np.select(condicao,escolha)\n",
    "   \n",
    "    \n",
    "    class_names = ['1','2','3','4','5']\n",
    "    clf,y_test,y_pred,score = DecisionTree(dados)\n",
    "    print('Score: %f' %score)\n",
    "    \n",
    "    #confusion_matrix(y_test,y_pred)\n",
    "    \n",
    "    MatrizConfusao(y_test, y_pred, class_names)\n",
    "    print(\"Matriz Confusao Concluida\")\n",
    "    \n",
    "    g = plot_tree(clf,dados)\n",
    "    g.view()\n",
    "\n",
    "\n",
    "main()"
   ]
  },
  {
   "cell_type": "code",
   "execution_count": null,
   "metadata": {},
   "outputs": [],
   "source": [
    "dados.columns[2:]\n"
   ]
  },
  {
   "cell_type": "code",
   "execution_count": null,
   "metadata": {},
   "outputs": [],
   "source": []
  }
 ],
 "metadata": {
  "accelerator": "TPU",
  "colab": {
   "collapsed_sections": [],
   "name": "TrabalhoFinal.ipynb",
   "provenance": [],
   "version": "0.3.2"
  },
  "kernelspec": {
   "display_name": "Python 2",
   "language": "python",
   "name": "python2"
  },
  "language_info": {
   "codemirror_mode": {
    "name": "ipython",
    "version": 3
   },
   "file_extension": ".py",
   "mimetype": "text/x-python",
   "name": "python",
   "nbconvert_exporter": "python",
   "pygments_lexer": "ipython3",
   "version": "3.6.5"
  }
 },
 "nbformat": 4,
 "nbformat_minor": 1
}
