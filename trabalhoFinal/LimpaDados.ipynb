{
 "cells": [
  {
   "cell_type": "markdown",
   "metadata": {},
   "source": [
    "# Disciplina: Tópicos em Inteligência Computacional\n",
    "Instituto Federal do Norte de Minas Gerais Campus Montes Claros <br/>\n",
    "Curso: Ciência da Computação <br/>\n",
    "Professora: Luciana Balieiro Cosme<br/>\n",
    "**Aula 5: Exploração de outras bases de dados** <br/>"
   ]
  },
  {
   "cell_type": "markdown",
   "metadata": {},
   "source": [
    "Importa as bibliotecas necessárias."
   ]
  },
  {
   "cell_type": "code",
   "execution_count": 13,
   "metadata": {},
   "outputs": [],
   "source": [
    "import pandas                   # Dataframes\n",
    "import matplotlib.pyplot as plt # Gráficos\n",
    "import numpy as np\n",
    "#import scipy.stats as stats\n",
    "#from google.colab import drive  # Google Drive"
   ]
  },
  {
   "cell_type": "markdown",
   "metadata": {},
   "source": [
    "Lê os dados do 'MICRODADOS_ENADE_2017.txt'.'"
   ]
  },
  {
   "cell_type": "code",
   "execution_count": 15,
   "metadata": {},
   "outputs": [
    {
     "name": "stderr",
     "output_type": "stream",
     "text": [
      "/home/yoskoslowich/Programas/Anaconda/anaconda3/lib/python3.6/site-packages/IPython/core/interactiveshell.py:2785: DtypeWarning: Columns (56) have mixed types. Specify dtype option on import or set low_memory=False.\n",
      "  interactivity=interactivity, compiler=compiler, result=result)\n"
     ]
    }
   ],
   "source": [
    "arquivo = pandas.read_csv(\"datasets/MICRODADOS_ENADE_2017.txt\", sep=';', dtype={\"DS_VT_ESC_OFG\": str, \n",
    "                                                                                'DS_VT_ESC_OCE':str,\n",
    "                                                                                'DS_VT_ACE_OCE':str,\n",
    "                                                                                'NT_GER':str,\n",
    "                                                                                'NT_FG':str,\n",
    "                                                                                'NT_OBJ_FG':str,\n",
    "                                                                                'NT_DIS_FG':str,\n",
    "                                                                                'NT_CE':str,\n",
    "                                                                                'NT_OBJ_CE':str,})\n",
    "                                                                                \n",
    "#drive.mount('/content/drive/', force_remount=True) # Monta o Drive para poder ler os dados\n",
    "#arquivo = pandas.read_csv('/content/drive/My Drive/Colab Notebooks/topicosic/trabalhoFinal/datasets/MICRODADOS_ENADE_2017.txt', sep=';') # Lê o .cvs"
   ]
  },
  {
   "cell_type": "markdown",
   "metadata": {},
   "source": [
    "Listas das colunas."
   ]
  },
  {
   "cell_type": "code",
   "execution_count": 16,
   "metadata": {},
   "outputs": [],
   "source": [
    "colunas_todas = arquivo.columns\n",
    "\n",
    "colunas_principais = ['NT_GER', 'CO_IES', 'CO_CATEGAD', 'CO_ORGACAD', 'CO_MODALIDADE', 'CO_UF_CURSO','CO_REGIAO_CURSO',\n",
    "                      'NU_IDADE','TP_SEXO', 'QE_I01', 'QE_I02', 'QE_I03', 'QE_I04', 'QE_I05', 'QE_I06', 'QE_I07', \n",
    "                      'QE_I08', 'QE_I09', 'QE_I10', 'QE_I12', 'QE_I13', 'QE_I14', 'QE_I15', 'QE_I16', 'QE_I17', 'QE_I18',\n",
    "                      'QE_I19', 'QE_I20', 'QE_I21', 'QE_I22', 'QE_I23', 'QE_I24', 'QE_I25', 'QE_I26', 'QE_I27', 'QE_I28',\n",
    "                      'QE_I29', 'QE_I30', 'QE_I31', 'QE_I32', 'QE_I33', 'QE_I34', 'QE_I35', 'QE_I36', 'QE_I37', 'QE_I38',\n",
    "                      'QE_I39', 'QE_I40', 'QE_I41', 'QE_I42', 'QE_I43', 'QE_I44', 'QE_I45', 'QE_I46', 'QE_I47', 'QE_I48',\n",
    "                      'QE_I49', 'QE_I50', 'QE_I51', 'QE_I52', 'QE_I53', 'QE_I54', 'QE_I55', 'QE_I56', 'QE_I57', 'QE_I58', \n",
    "                      'QE_I59', 'QE_I60', 'QE_I61', 'QE_I62', 'QE_I63', 'QE_I64', 'QE_I65', 'QE_I66', 'QE_I67', 'QE_I68', \n",
    "                      'QE_I69', 'QE_I70', 'QE_I71', 'QE_I72', 'QE_I73', 'QE_I74', 'QE_I75', 'QE_I76', 'QE_I77', 'QE_I78',\n",
    "                      'QE_I79', 'QE_I80', 'QE_I81']\n",
    "\n",
    "# colunas_numericas inclui renda que do tipo A, B, C...\n",
    "colunas_numericas = ['NT_GER', 'CO_IES','CO_CATEGAD', 'CO_ORGACAD', 'CO_MODALIDADE', 'CO_UF_CURSO', 'CO_REGIAO_CURSO', \n",
    "                     'NU_IDADE', 'QE_I08', 'QE_I16', 'QE_I27', 'QE_I28', 'QE_I29', 'QE_I30', 'QE_I31', 'QE_I32', 'QE_I33',\n",
    "                     'QE_I34', 'QE_I35', 'QE_I36', 'QE_I37', 'QE_I38', 'QE_I39', 'QE_I40', 'QE_I41', 'QE_I42', 'QE_I43',\n",
    "                     'QE_I44', 'QE_I45', 'QE_I46', 'QE_I47', 'QE_I48', 'QE_I49', 'QE_I50', 'QE_I51', 'QE_I52', 'QE_I53',\n",
    "                     'QE_I54', 'QE_I55', 'QE_I56', 'QE_I57', 'QE_I58', 'QE_I59', 'QE_I60','QE_I61', 'QE_I62', 'QE_I63',\n",
    "                     'QE_I64', 'QE_I65', 'QE_I66', 'QE_I67', 'QE_I68']\n"
   ]
  },
  {
   "cell_type": "code",
   "execution_count": 17,
   "metadata": {},
   "outputs": [],
   "source": [
    "# Cria o dataframe com base no .csv\n",
    "tabela = pandas.DataFrame(arquivo, columns = colunas_todas)\n",
    "\n",
    "# Converte renda (QE_I08) para numérico.\n",
    "tabela['QE_I08'] = tabela['QE_I08'].map({'A': 1, 'B': 2, 'C': 3, 'D': 4,'E': 5, 'F':6, 'G':7})\n",
    "\n",
    "# Corrija a nota trocando ',' por '.'.\n",
    "tabela['NT_GER'] = tabela['NT_GER'].str.replace(',', '.')"
   ]
  },
  {
   "cell_type": "code",
   "execution_count": 18,
   "metadata": {},
   "outputs": [],
   "source": [
    "# Remove os null de todas as colunas\n",
    "for i in range(len(colunas_todas)):\n",
    "    tabela = tabela.loc[ ( tabela[ colunas_todas[i] ].notnull() ) ]\n"
   ]
  },
  {
   "cell_type": "code",
   "execution_count": 19,
   "metadata": {},
   "outputs": [],
   "source": [
    "# Transforma colunas numericas em numericas mesmo\n",
    "tabela[colunas_numericas] = tabela[colunas_numericas].apply(pandas.to_numeric)"
   ]
  },
  {
   "cell_type": "code",
   "execution_count": 20,
   "metadata": {},
   "outputs": [],
   "source": [
    "# Salva um novo .csv com os arquivos limpos\n",
    "tabela[colunas_todas].to_csv(\"datasets/todas_colunas.csv\")"
   ]
  },
  {
   "cell_type": "code",
   "execution_count": null,
   "metadata": {},
   "outputs": [],
   "source": []
  }
 ],
 "metadata": {
  "kernelspec": {
   "display_name": "Python 3",
   "language": "python",
   "name": "python3"
  },
  "language_info": {
   "codemirror_mode": {
    "name": "ipython",
    "version": 3
   },
   "file_extension": ".py",
   "mimetype": "text/x-python",
   "name": "python",
   "nbconvert_exporter": "python",
   "pygments_lexer": "ipython3",
   "version": "3.6.5"
  }
 },
 "nbformat": 4,
 "nbformat_minor": 2
}
