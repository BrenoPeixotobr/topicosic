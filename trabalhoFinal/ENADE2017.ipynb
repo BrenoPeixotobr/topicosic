{
 "cells": [
  {
   "cell_type": "markdown",
   "metadata": {},
   "source": [
    "# Disciplina: Tópicos em Inteligência Computacional\n",
    "Instituto Federal do Norte de Minas Gerais Campus Montes Claros <br/>\n",
    "Curso: Ciência da Computação <br/>\n",
    "Professora: Luciana Balieiro Cosme<br/>\n",
    "**Aula 5: Exploração de outras bases de dados** <br/>"
   ]
  },
  {
   "cell_type": "code",
   "execution_count": null,
   "metadata": {},
   "outputs": [],
   "source": [
    "import pandas\n",
    "import matplotlib.pyplot as plt\n",
    "import scipy.stats as stats\n",
    "\n",
    "enade2017=pandas.read_csv(\"datasets/MICRODADOS_ENADE_2017.txt\", sep=';',dtype={\"DS_VT_ESC_OFG\": str, \n",
    "                                                                               'DS_VT_ESC_OCE':str,\n",
    "                                                                              'DS_VT_ACE_OCE':str,\n",
    "                                                                              'NT_GER':str,\n",
    "                                                                              'NT_FG':str,\n",
    "                                                                              'NT_OBJ_FG':str,\n",
    "                                                                              'NT_DIS_FG':str,\n",
    "                                                                              'NT_CE':str,\n",
    "                                                                              'NT_OBJ_CE':str,\n",
    "                                                                              'NT_DIS_CE':str})\n",
    "\n",
    "\n",
    "#enade2017.shape"
   ]
  },
  {
   "cell_type": "code",
   "execution_count": null,
   "metadata": {},
   "outputs": [],
   "source": [
    "#enade2017.columns[0:]"
   ]
  },
  {
   "cell_type": "code",
   "execution_count": null,
   "metadata": {},
   "outputs": [],
   "source": [
    "tabela = pandas.DataFrame(enade2017, columns=['NT_GER', 'CO_IES', 'CO_CATEGAD', 'CO_ORGACAD', \n",
    "'CO_MODALIDADE', 'CO_UF_CURSO', 'CO_REGIAO_CURSO', 'NU_IDADE','TP_SEXO',\n",
    "'QE_I01', \n",
    "'QE_I02', 'QE_I03', 'QE_I04', 'QE_I05', 'QE_I06', 'QE_I07', 'QE_I08', 'QE_I09', 'QE_I10',\n",
    "'QE_I12',\n",
    "'QE_I13', 'QE_I14', 'QE_I15', 'QE_I16', 'QE_I17', 'QE_I18', 'QE_I19', 'QE_I20', 'QE_I21',\n",
    "'QE_I22',\n",
    "'QE_I23','QE_I24','QE_I25','QE_I26','QE_I27','QE_I28','QE_I29','QE_I30','QE_I31','QE_I32',\n",
    "'QE_I33','QE_I34','QE_I35','QE_I36','QE_I37','QE_I38','QE_I39','QE_I40','QE_I41',\n",
    "'QE_I42','QE_I43','QE_I44','QE_I45','QE_I46','QE_I47','QE_I48','QE_I49','QE_I50',\n",
    "'QE_I51','QE_I52','QE_I53','QE_I54','QE_I55','QE_I56','QE_I57','QE_I58','QE_I59','QE_I60',\n",
    "'QE_I61','QE_I62','QE_I63','QE_I64','QE_I65','QE_I66','QE_I67','QE_I68','QE_I69','QE_I70',\n",
    "'QE_I71','QE_I72','QE_I73','QE_I74','QE_I75','QE_I76','QE_I77','QE_I78','QE_I79','QE_I80',\n",
    "'QE_I81'])"
   ]
  },
  {
   "cell_type": "code",
   "execution_count": null,
   "metadata": {},
   "outputs": [],
   "source": [
    "tabela['NT_GER'] = tabela['NT_GER'].str.replace(',', '.')\n",
    "tabela=tabela.loc[(tabela['NT_GER'].notnull())]\n",
    "#tabela['NT_GER'] = pandas.to_numeric(tabela['NT_GER'])\n",
    "#tabela.to_csv(\"dados.csv\")"
   ]
  },
  {
   "cell_type": "code",
   "execution_count": null,
   "metadata": {},
   "outputs": [],
   "source": [
    "col_numericos = ['NT_GER', 'CO_IES','CO_CATEGAD', 'CO_ORGACAD', 'CO_MODALIDADE', 'CO_UF_CURSO', 'CO_REGIAO_CURSO', 'NU_IDADE',\n",
    "'QE_I16', 'QE_I27', 'QE_I28', 'QE_I29', 'QE_I30', 'QE_I31', 'QE_I32', 'QE_I33', 'QE_I34', 'QE_I35', 'QE_I36', 'QE_I37', 'QE_I38',\n",
    "'QE_I39', 'QE_I40', 'QE_I41', 'QE_I42', 'QE_I43', 'QE_I44', 'QE_I45', 'QE_I46', 'QE_I47', 'QE_I48', 'QE_I49', 'QE_I50', 'QE_I51',\n",
    "'QE_I52', 'QE_I53', 'QE_I54', 'QE_I55', 'QE_I56', 'QE_I57', 'QE_I58', 'QE_I59', 'QE_I60','QE_I61', 'QE_I62', 'QE_I63', 'QE_I64',\n",
    "'QE_I65', 'QE_I66', 'QE_I67', 'QE_I68']"
   ]
  },
  {
   "cell_type": "code",
   "execution_count": null,
   "metadata": {},
   "outputs": [],
   "source": [
    "tabela=tabela.loc[(tabela['NT_GER'].notnull())]\n",
    "#print(tabela['NT_GER'])\n",
    "#print(tabela[col_numericos[1]])\n",
    "\n",
    "for i in range(len(col_numericos)):\n",
    "    tabela=tabela.loc[(tabela[col_numericos[i]].notnull())]\n",
    "# \n",
    "# de str para float\n",
    "# tabela[['NT_GER', 'CO_IES']] = tabela[['NT_GER', 'CO_IES']].apply(pandas.to_numeric)\n"
   ]
  },
  {
   "cell_type": "code",
   "execution_count": null,
   "metadata": {},
   "outputs": [],
   "source": [
    "tabela[col_numericos] = tabela[col_numericos].apply(pandas.to_numeric)"
   ]
  },
  {
   "cell_type": "code",
   "execution_count": null,
   "metadata": {},
   "outputs": [],
   "source": [
    "tabela\n",
    "tabela[col_numericos].to_csv(\"datasets/numericos.csv\")"
   ]
  },
  {
   "cell_type": "code",
   "execution_count": null,
   "metadata": {},
   "outputs": [],
   "source": []
  }
 ],
 "metadata": {
  "kernelspec": {
   "display_name": "Python 3",
   "language": "python",
   "name": "python3"
  },
  "language_info": {
   "codemirror_mode": {
    "name": "ipython",
    "version": 2
   },
   "file_extension": ".py",
   "mimetype": "text/x-python",
   "name": "python",
   "nbconvert_exporter": "python",
   "pygments_lexer": "ipython2",
   "version": "2.7.15rc1"
  }
 },
 "nbformat": 4,
 "nbformat_minor": 2
}
