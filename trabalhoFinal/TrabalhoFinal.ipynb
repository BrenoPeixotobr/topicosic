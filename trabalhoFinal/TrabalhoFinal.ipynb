{
 "cells": [
  {
   "cell_type": "markdown",
   "metadata": {},
   "source": [
    "Importa as bibliotecas necessárias"
   ]
  },
  {
   "cell_type": "code",
   "execution_count": null,
   "metadata": {},
   "outputs": [],
   "source": [
    "import pandas\n",
    "import matplotlib.pyplot as plt\n",
    "import numpy as np\n",
    "from random import randint\n",
    "from sklearn.neural_network import MLPClassifier\n",
    "from sklearn.naive_bayes import GaussianNB\n",
    "from sklearn.neighbors import KNeighborsClassifier\n",
    "from sklearn.metrics import classification_report, confusion_matrix  "
   ]
  },
  {
   "cell_type": "markdown",
   "metadata": {},
   "source": [
    "Lê os dados a partir de datasets/numericos.csv"
   ]
  },
  {
   "cell_type": "code",
   "execution_count": null,
   "metadata": {},
   "outputs": [],
   "source": [
    "arquivo = pandas.read_csv('datasets/numericos.csv', sep=',')\n",
    "dados = pandas.DataFrame(arquivo)"
   ]
  },
  {
   "cell_type": "code",
   "execution_count": null,
   "metadata": {},
   "outputs": [],
   "source": [
    "#randint(0,9)\n",
    "#x = dados.loc[2, 2]\n",
    "x1 = dados.iloc[:,[1,randint(2,51),randint(2,51)]]\n",
    "#x[0:398582, :]"
   ]
  },
  {
   "cell_type": "code",
   "execution_count": null,
   "metadata": {},
   "outputs": [],
   "source": [
    "a=1\n",
    "for i in x1.iloc[1:,0]:\n",
    "    if i >= 0 and i<=20:\n",
    "        x1.iloc[a,0]=1\n",
    "    elif i >= 21 and i<=40:\n",
    "        x1.iloc[a,0]=2\n",
    "    elif i >= 41 and i<=60:\n",
    "        x1.iloc[a,0]=3\n",
    "    elif i >= 61 and i<=80:\n",
    "        x1.iloc[a,0]=4\n",
    "    elif i >= 81 and i<=100:\n",
    "        x1.iloc[a,0]=5\n",
    "    a=a+1"
   ]
  },
  {
   "cell_type": "code",
   "execution_count": null,
   "metadata": {},
   "outputs": [],
   "source": [
    "x1_treino = x.iloc[0:398582,1:]\n",
    "x1_teste = x.iloc[398583:442867,1:]\n",
    "\n",
    "y1_treino=x1.iloc[0:398582,0]\n",
    "y1_teste=x1.iloc[398583:442867,0]\n",
    "\n",
    "clf = MLPClassifier(alpha=0.01,max_iter=2000)\n",
    "clf.fit(x1_treino, y1_treino)\n",
    "y1_previsto = clf.predict(x1_teste)\n",
    "\n",
    "print(\"\\n\")\n",
    "print(confusion_matrix(y1_teste,y1_previsto))  \n",
    "print(\"\\n\")\n",
    "print(classification_report(y1_teste,y1_previsto))"
   ]
  },
  {
   "cell_type": "code",
   "execution_count": null,
   "metadata": {},
   "outputs": [],
   "source": []
  }
 ],
 "metadata": {
  "kernelspec": {
   "display_name": "Python 3",
   "language": "python",
   "name": "python3"
  },
  "language_info": {
   "codemirror_mode": {
    "name": "ipython",
    "version": 2
   },
   "file_extension": ".py",
   "mimetype": "text/x-python",
   "name": "python",
   "nbconvert_exporter": "python",
   "pygments_lexer": "ipython2",
   "version": "2.7.15rc1"
  }
 },
 "nbformat": 4,
 "nbformat_minor": 2
}
