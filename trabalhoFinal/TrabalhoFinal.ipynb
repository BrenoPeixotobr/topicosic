{
 "cells": [
  {
   "cell_type": "markdown",
   "metadata": {},
   "source": [
    "Importa as bibliotecas necessárias"
   ]
  },
  {
   "cell_type": "code",
   "execution_count": 25,
   "metadata": {},
   "outputs": [],
   "source": [
    "import pandas\n",
    "import matplotlib.pyplot as plt\n",
    "import numpy as np\n",
    "from random import randint\n",
    "from sklearn.neural_network import MLPClassifier\n",
    "from sklearn.naive_bayes import GaussianNB\n",
    "from sklearn.neighbors import KNeighborsClassifier\n",
    "from sklearn.metrics import classification_report, confusion_matrix  "
   ]
  },
  {
   "cell_type": "markdown",
   "metadata": {},
   "source": [
    "Lê os dados a partir de datasets/numericos.csv"
   ]
  },
  {
   "cell_type": "code",
   "execution_count": 26,
   "metadata": {},
   "outputs": [],
   "source": [
    "arquivo = pandas.read_csv('datasets/numericos.csv', sep=',')\n",
    "dados = pandas.DataFrame(arquivo)"
   ]
  },
  {
   "cell_type": "code",
   "execution_count": 28,
   "metadata": {},
   "outputs": [],
   "source": [
    "#randint(0,9)\n",
    "#x = dados.loc[2, 2]\n",
    "c1=randint(2,51)\n",
    "c2=randint(2,51)\n",
    "x1 = dados.iloc[:,[1,c1,c2]]\n"
   ]
  },
  {
   "cell_type": "code",
   "execution_count": 29,
   "metadata": {
    "scrolled": true
   },
   "outputs": [],
   "source": [
    "a=0\n",
    "y=[]\n",
    "for i in x1.iloc[:,0]:\n",
    "    if i >= 0 and i<=20:\n",
    "        y.append(1)\n",
    "    elif i >20 and i<=40:\n",
    "        y.append(2)\n",
    "    elif i > 40 and i<=60:\n",
    "        y.append(3)\n",
    "    elif i > 60 and i<=80:\n",
    "        y.append(4)\n",
    "    elif i> 80 and i<=100:\n",
    "         y.append(5)\n",
    "    a=a+1\n",
    "\n"
   ]
  },
  {
   "cell_type": "code",
   "execution_count": 30,
   "metadata": {},
   "outputs": [
    {
     "name": "stdout",
     "output_type": "stream",
     "text": [
      "\n",
      "\n",
      "[[    0    30  1788     0     0]\n",
      " [    0   205 18481     0     0]\n",
      " [    0   142 19432     0     0]\n",
      " [    0    23  4070     0     0]\n",
      " [    0     2   111     0     0]]\n",
      "\n",
      "\n",
      "             precision    recall  f1-score   support\n",
      "\n",
      "          1       0.00      0.00      0.00      1818\n",
      "          2       0.51      0.01      0.02     18686\n",
      "          3       0.44      0.99      0.61     19574\n",
      "          4       0.00      0.00      0.00      4093\n",
      "          5       0.00      0.00      0.00       113\n",
      "\n",
      "avg / total       0.41      0.44      0.28     44284\n",
      "\n"
     ]
    }
   ],
   "source": [
    "x1_treino = x1.iloc[0:398582,1:]\n",
    "x1_teste = x1.iloc[398583:442867,1:]\n",
    "\n",
    "y1_treino=y[0:398582]\n",
    "y1_teste=y[398583:442867]\n",
    "\n",
    "\n",
    "clf = MLPClassifier(alpha=0.01,max_iter=2000)\n",
    "clf.fit(x1_treino, y1_treino) \n",
    "\n",
    "y1_previsto = clf.predict(x1_teste)\n",
    "\n",
    "print(\"\\n\")\n",
    "print(confusion_matrix(y1_teste,y1_previsto))  \n",
    "print(\"\\n\")\n",
    "print(classification_report(y1_teste,y1_previsto))\n",
    "\n"
   ]
  },
  {
   "cell_type": "code",
   "execution_count": 34,
   "metadata": {},
   "outputs": [
    {
     "ename": "TypeError",
     "evalue": "unsupported operand type(s) for +: 'int' and 'str'",
     "output_type": "error",
     "traceback": [
      "\u001b[0;31m---------------------------------------------------------------------------\u001b[0m",
      "\u001b[0;31mTypeError\u001b[0m                                 Traceback (most recent call last)",
      "\u001b[0;32m<ipython-input-34-5f5d84f64ac8>\u001b[0m in \u001b[0;36m<module>\u001b[0;34m()\u001b[0m\n\u001b[1;32m      2\u001b[0m \u001b[0;32mwith\u001b[0m \u001b[0mopen\u001b[0m\u001b[0;34m(\u001b[0m\u001b[0;34m'output.txt'\u001b[0m\u001b[0;34m,\u001b[0m \u001b[0;34m'a'\u001b[0m\u001b[0;34m)\u001b[0m \u001b[0;32mas\u001b[0m \u001b[0mf\u001b[0m\u001b[0;34m:\u001b[0m\u001b[0;34m\u001b[0m\u001b[0m\n\u001b[1;32m      3\u001b[0m     \u001b[0;32mprint\u001b[0m \u001b[0;34m>>\u001b[0m\u001b[0mf\u001b[0m\u001b[0;34m,\u001b[0m\u001b[0;34m'Variaveis'\u001b[0m\u001b[0;34m+\u001b[0m\u001b[0;34m'1'\u001b[0m\u001b[0;34m+\u001b[0m\u001b[0;34m'\\n'\u001b[0m\u001b[0;34m\u001b[0m\u001b[0m\n\u001b[0;32m----> 4\u001b[0;31m     \u001b[0;32mprint\u001b[0m \u001b[0;34m>>\u001b[0m \u001b[0mf\u001b[0m\u001b[0;34m,\u001b[0m \u001b[0mc1\u001b[0m\u001b[0;34m,\u001b[0m\u001b[0mc2\u001b[0m\u001b[0;34m+\u001b[0m\u001b[0;34m'\\n'\u001b[0m\u001b[0;34m\u001b[0m\u001b[0m\n\u001b[0m\u001b[1;32m      5\u001b[0m     \u001b[0;32mprint\u001b[0m \u001b[0;34m>>\u001b[0m\u001b[0mf\u001b[0m\u001b[0;34m,\u001b[0m\u001b[0;34m'Matriz de confusão'\u001b[0m\u001b[0;34m+\u001b[0m\u001b[0;34m'1'\u001b[0m\u001b[0;34m+\u001b[0m\u001b[0;34m'\\n'\u001b[0m\u001b[0;34m\u001b[0m\u001b[0m\n\u001b[1;32m      6\u001b[0m     \u001b[0;32mprint\u001b[0m  \u001b[0;34m>>\u001b[0m\u001b[0mf\u001b[0m\u001b[0;34m,\u001b[0m\u001b[0mconfusion_matrix\u001b[0m\u001b[0;34m(\u001b[0m\u001b[0my1_teste\u001b[0m\u001b[0;34m,\u001b[0m\u001b[0my1_previsto\u001b[0m\u001b[0;34m)\u001b[0m\u001b[0;34m\u001b[0m\u001b[0m\n",
      "\u001b[0;31mTypeError\u001b[0m: unsupported operand type(s) for +: 'int' and 'str'"
     ]
    }
   ],
   "source": [
    "\n",
    "with open('output.txt', 'a') as f:    \n",
    "    print >>f,'Variaveis'+'1'+'\\n'\n",
    "    print >> f, c1,c2+'\\n'\n",
    "    print >>f,'Matriz de confusão'+'1'+'\\n'\n",
    "    print  >>f,confusion_matrix(y1_teste,y1_previsto)\n",
    "    print >>f,'resulatdo classificação'+'1'+'\\n'\n",
    "    print  >>f,classification_report(y1_teste,y1_previsto)\n"
   ]
  },
  {
   "cell_type": "code",
   "execution_count": 24,
   "metadata": {},
   "outputs": [
    {
     "data": {
      "text/plain": [
       "Index([u'NT_GER', u'CO_CATEGAD', u'QE_I53'], dtype='object')"
      ]
     },
     "execution_count": 24,
     "metadata": {},
     "output_type": "execute_result"
    }
   ],
   "source": [
    "x1.columns"
   ]
  },
  {
   "cell_type": "code",
   "execution_count": null,
   "metadata": {},
   "outputs": [],
   "source": []
  }
 ],
 "metadata": {
  "kernelspec": {
   "display_name": "Python 3",
   "language": "python",
   "name": "python3"
  },
  "language_info": {
   "codemirror_mode": {
    "name": "ipython",
    "version": 2
   },
   "file_extension": ".py",
   "mimetype": "text/x-python",
   "name": "python",
   "nbconvert_exporter": "python",
   "pygments_lexer": "ipython2",
   "version": "2.7.15rc1"
  }
 },
 "nbformat": 4,
 "nbformat_minor": 2
}
