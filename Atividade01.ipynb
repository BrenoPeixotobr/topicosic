{
 "cells": [
  {
   "cell_type": "code",
   "execution_count": 3,
   "metadata": {},
   "outputs": [],
   "source": [
    "from sklearn import datasets\n",
    "import matplotlib.pyplot as plt\n",
    "from sklearn.neural_network import MLPClassifier\n",
    "import numpy"
   ]
  },
  {
   "cell_type": "code",
   "execution_count": 4,
   "metadata": {},
   "outputs": [],
   "source": [
    "iris = datasets.load_iris() # Carrega o dataset iris\n",
    "\n",
    "x = iris.data[:,:2] # Todas as 150 amostras, mas apenas as duas primeiras características\n",
    "y = iris.target # Classificação\n",
    "\n",
    "x_treino = numpy.concatenate( [ x[0:40, :], x[50:90, :], x[100:140, :] ] )\n",
    "x_teste = numpy.concatenate( [ x[40:50, :], x[90:100, :], x[140:150, :] ] )\n",
    "\n",
    "y_treino = numpy.concatenate( [ y[0:40], y[50:90], y[100:140] ] )\n",
    "y_teste = numpy.concatenate( [ y[40:50], y[90:100], y[140:150] ] )\n"
   ]
  },
  {
   "cell_type": "code",
   "execution_count": 6,
   "metadata": {},
   "outputs": [
    {
     "name": "stdout",
     "output_type": "stream",
     "text": [
      "[0 1 0 0 0 0 0 0 0 0 1 1 1 1 1 1 1 1 1 1 2 2 1 2 2 2 2 2 1 1]\n",
      "[0 0 0 0 0 0 0 0 0 0 1 1 1 1 1 1 1 1 1 1 2 2 2 2 2 2 2 2 2 2]\n"
     ]
    }
   ],
   "source": [
    "clf = MLPClassifier(alpha=0.01,max_iter=2000)\n",
    "clf.fit(x_treino, y_treino) \n",
    "\n",
    "y_previsto = clf.predict(x_teste)\n",
    "\n",
    "print(y_previsto)\n",
    "print(y_teste)"
   ]
  },
  {
   "cell_type": "code",
   "execution_count": 8,
   "metadata": {},
   "outputs": [
    {
     "name": "stdout",
     "output_type": "stream",
     "text": [
      "[0 1 0 0 0 0 0 0 0 0 1 2 1 1 2 1 1 2 2 1 1 1 1 2 2 1 1 2 2 1]\n",
      "[0 0 0 0 0 0 0 0 0 0 1 1 1 1 1 1 1 1 1 1 2 2 2 2 2 2 2 2 2 2]\n"
     ]
    }
   ],
   "source": [
    "from sklearn import tree\n",
    "\n",
    "clf = tree.DecisionTreeClassifier()\n",
    "clf.fit(x_treino, y_treino)\n",
    "\n",
    "y_previsto = clf.predict(x_teste)\n",
    "\n",
    "print(y_previsto)\n",
    "print(y_teste)"
   ]
  },
  {
   "cell_type": "code",
   "execution_count": null,
   "metadata": {},
   "outputs": [],
   "source": [
    "from sklearn.neighbors import KNeighborsClassifier\n",
    "\n",
    "clf = KNeighborsClassifier(n_neighbors = 1)\n",
    "clf.fit(x_treino, y_treino)\n",
    "\n",
    "y_previsto = clf.predict(x_teste)\n",
    "\n",
    "print(y_previsto)\n",
    "print(y_teste)"
   ]
  }
 ],
 "metadata": {
  "kernelspec": {
   "display_name": "Python 3",
   "language": "python",
   "name": "python3"
  },
  "language_info": {
   "codemirror_mode": {
    "name": "ipython",
    "version": 3
   },
   "file_extension": ".py",
   "mimetype": "text/x-python",
   "name": "python",
   "nbconvert_exporter": "python",
   "pygments_lexer": "ipython3",
   "version": "3.6.5"
  }
 },
 "nbformat": 4,
 "nbformat_minor": 2
}
