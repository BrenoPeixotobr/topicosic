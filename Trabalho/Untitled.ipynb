{
 "cells": [
  {
   "cell_type": "code",
   "execution_count": null,
   "metadata": {},
   "outputs": [],
   "source": [
    "import pandas\n",
    "import matplotlib.pyplot as plt\n",
    "\n",
    "enade2017=pandas.read_csv(\"datasets/dados.csv\", sep=',',dtype={\n",
    "    \"NT_GER\":str,\n",
    "    \"CO_IES\":str,\n",
    "    \"CO_CATEGAD\": str, \n",
    "    \"CO_ORGACAD\": str,\n",
    "    \"CO_MODALIDADE\": str,\n",
    "    \"CO_UF_CURSO\": str,\n",
    "    \"CO_REGIAO_CURSO\": str,\n",
    "    \"CO_REGIAO_CURSO\": str,\n",
    "    \"NU_IDADE\": str,\n",
    "    \"TP_SEXO\": str,\n",
    "    \"QE_I01\": str,\n",
    "    \"QE_I02\": str,\n",
    "    \"QE_I03\": str,\n",
    "    \"QE_I04\": str,\n",
    "    \"QE_I05\": str,\n",
    "    \n",
    "    \n",
    "    \"DS_VT_ESC_OFG\": str, \n",
    "                                                                               'DS_VT_ESC_OCE':str,\n",
    "                                                                              'DS_VT_ACE_OCE':str,\n",
    "                                                                              'NT_GER':str,\n",
    "                                                                              'NT_FG':str,\n",
    "                                                                              'NT_OBJ_FG':str,\n",
    "                                                                              'NT_DIS_FG':str,\n",
    "                                                                              'NT_CE':str,\n",
    "                                                                              'NT_OBJ_CE':str,\n",
    "                                                                              'NT_DIS_CE':str})\n",
    "\n",
    "\n",
    "enade2017.shape"
   ]
  }
 ],
 "metadata": {
  "kernelspec": {
   "display_name": "Python 3",
   "language": "python",
   "name": "python3"
  },
  "language_info": {
   "codemirror_mode": {
    "name": "ipython",
    "version": 3
   },
   "file_extension": ".py",
   "mimetype": "text/x-python",
   "name": "python",
   "nbconvert_exporter": "python",
   "pygments_lexer": "ipython3",
   "version": "3.6.5"
  }
 },
 "nbformat": 4,
 "nbformat_minor": 2
}
