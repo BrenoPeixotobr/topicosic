{
 "cells": [
  {
   "cell_type": "markdown",
   "metadata": {},
   "source": [
    "# Disciplina: Tópicos em Inteligência Computacional\n",
    "Instituto Federal do Norte de Minas Gerais Campus Montes Claros <br/>\n",
    "Curso: Ciência da Computação <br/>\n",
    "Professora: Luciana Balieiro Cosme<br/>\n",
    "**Aula 5: Exploração de outras bases de dados** <br/>"
   ]
  },
  {
   "cell_type": "code",
   "execution_count": 1,
   "metadata": {},
   "outputs": [
    {
     "data": {
      "text/plain": [
       "(376180, 115)"
      ]
     },
     "execution_count": 1,
     "metadata": {},
     "output_type": "execute_result"
    }
   ],
   "source": [
    "import pandas\n",
    "import matplotlib.pyplot as plt\n",
    "\n",
    "enade2011=pandas.read_csv(\"datasets/MICRODADOS_ENADE_2011.txt\", sep=';',dtype={\"DS_VT_ESC_OFG\": str, \n",
    "                                                                               'DS_VT_ESC_OCE':str,\n",
    "                                                                              'DS_VT_ACE_OCE':str,\n",
    "                                                                              'NT_GER':str,\n",
    "                                                                              'NT_FG':str,\n",
    "                                                                              'NT_OBJ_FG':str,\n",
    "                                                                              'NT_DIS_FG':str,\n",
    "                                                                              'NT_CE':str,\n",
    "                                                                              'NT_OBJ_CE':str,\n",
    "                                                                              'NT_DIS_CE':str})\n",
    "\n",
    "\n",
    "enade2011.shape"
   ]
  },
  {
   "cell_type": "code",
   "execution_count": 2,
   "metadata": {},
   "outputs": [
    {
     "data": {
      "text/plain": [
       "Index([u'NU_ANO', u'CO_IES', u'CO_CATEGAD', u'CO_ORGACAD', u'CO_GRUPO',\n",
       "       u'CO_CURSO', u'CO_MODALIDADE', u'CO_MUNIC_CURSO', u'CO_UF_CURSO',\n",
       "       u'CO_REGIAO_CURSO',\n",
       "       ...\n",
       "       u'QE_I45', u'QE_I46', u'QE_I47', u'QE_I48', u'QE_I49', u'QE_I50',\n",
       "       u'QE_I51', u'QE_I52', u'QE_I53', u'QE_I54'],\n",
       "      dtype='object', length=115)"
      ]
     },
     "execution_count": 2,
     "metadata": {},
     "output_type": "execute_result"
    }
   ],
   "source": [
    "enade2011.columns[0:]"
   ]
  },
  {
   "cell_type": "code",
   "execution_count": 3,
   "metadata": {},
   "outputs": [],
   "source": [
    "'''\n",
    "nota geral: 0-98 \n",
    "questão08: Qual a renda total de sua família, incluindo seus rendimentos?\n",
    "A = Até 1,5 salário mínimo (até R$ 1.405,50).\n",
    "B = De 1,5 a 3 salários mínimos (R$ 1.405,51 a R$ 2.811,00).\n",
    "C = De 3 a 4,5 salários mínimos (R$ 2.811,01 a R$ 4.216,50).\n",
    "D = De 4,5 a 6 salários mínimos (R$ 4.216,51 a R$ 5.622,00).\n",
    "E = De 6 a 10 salários mínimos (R$ 5. 622,01 a R$ 9.370,00).\n",
    "F = De 10 a 30 salários mínimos (R$ 9.370,01 a R$ 28.110,00).\n",
    "G = Acima de 30 salários mínimos (mais de R$ 28.110,00).\n",
    "\n",
    "i05 escolaridade da mae\n",
    "A = Nenhuma.\n",
    "B = Ensino fundamental: 1º ao 5º ano (1ª a 4ª série).\n",
    "C = Ensino fundamental: 6º ao 9º ano (5ª a 8ª série).\n",
    "D = Ensino médio.\n",
    "E = Ensino Superior - Graduação.\n",
    "F = Pós-graduação.\n",
    "\n",
    "'''\n",
    "\n",
    "tabela = pandas.DataFrame(enade2011, columns=['NT_GER', 'CO_CURSO', 'QE_I08', 'CO_IES', 'QE_I05', 'QE_I16', 'CO_REGIAO_CURSO'])"
   ]
  },
  {
   "cell_type": "code",
   "execution_count": 4,
   "metadata": {},
   "outputs": [],
   "source": [
    "##limpeza dos dados\n",
    "\n",
    "#substitui vírgula por ponto\n",
    "tabela['NT_GER'] = tabela['NT_GER'].str.replace(',', '.')\n",
    "\n",
    "#observe os NaN (not a number)"
   ]
  },
  {
   "cell_type": "code",
   "execution_count": 5,
   "metadata": {},
   "outputs": [],
   "source": [
    "'''No arquivo 'Dicionário de variáveis dos Microdados do Enade_Edição 2017' descreve que:\n",
    "o codigo 222 no campo TP_PR_GER significa ausente \n",
    "556 e 888 são participações desconsideradas.\n",
    "Portanto, algumas notas podem ser desconsideradas dependendo do seu objetivo, \n",
    "e aqui, será de calcular a média daqueles que fizeram a prova.\n",
    "'''\n",
    "tabela=tabela.loc[(tabela['NT_GER'].notnull())]\n",
    "#print(tabela['NT_GER'])\n",
    "#converte de str para float\n",
    "tabela['NT_GER'] = pandas.to_numeric(tabela['NT_GER'])\n",
    "\n"
   ]
  },
  {
   "cell_type": "code",
   "execution_count": 6,
   "metadata": {},
   "outputs": [],
   "source": [
    "#Calcula a média de um curso especifico\n",
    "#Código da área de enquadramento do curso no Enade == ciencia da computacao\n",
    "\n",
    "#ccomp = tabela[tabela['CO_CURSO']==]"
   ]
  },
  {
   "cell_type": "code",
   "execution_count": 7,
   "metadata": {},
   "outputs": [],
   "source": [
    "import matplotlib.pyplot as plt\n"
   ]
  },
  {
   "cell_type": "code",
   "execution_count": 8,
   "metadata": {},
   "outputs": [
    {
     "data": {
      "image/png": "[encoded data removed]",
      "text/plain": [
       "<Figure size 432x288 with 1 Axes>"
      ]
     },
     "metadata": {
      "needs_background": "light"
     },
     "output_type": "display_data"
    }
   ],
   "source": [
    "# Verificar o impacto do ensino médio no ensino superior\n",
    "\"\"\"\n",
    "A = Todo em escola pública.\n",
    "B = Todo em escola privada (particular).\n",
    "C = Todo no exterior.\n",
    "D = A maior parte em escola pública.\n",
    "E = A maior parte em escola privada (particular).\n",
    "F = Parte no Brasil e parte no exterior.\n",
    "\"\"\"\n",
    "#escola = tabela['QE_I16'].map({'A': 1, 'B': 2, 'C': 3, 'D': 4,'E': 5, 'F':6})\n",
    "#print(escola)\n",
    "tabela['QE_I16'] = tabela['QE_I16'].map({'A': 1, 'B': 2, 'C': 3, 'D': 4})\n",
    "tabela=tabela.loc[(tabela['QE_I16'].notnull())]\n",
    "plt.scatter( tabela.NT_GER, tabela.QE_I16 )\n",
    "plt.xlabel('Nota Geral')\n",
    "plt.ylabel('Tipo de escola do ensino medio')\n",
    "plt.show()"
   ]
  },
  {
   "cell_type": "code",
   "execution_count": 9,
   "metadata": {},
   "outputs": [
    {
     "data": {
      "text/html": [
       "<div>\n",
       "<style scoped>\n",
       "    .dataframe tbody tr th:only-of-type {\n",
       "        vertical-align: middle;\n",
       "    }\n",
       "\n",
       "    .dataframe tbody tr th {\n",
       "        vertical-align: top;\n",
       "    }\n",
       "\n",
       "    .dataframe thead th {\n",
       "        text-align: right;\n",
       "    }\n",
       "</style>\n",
       "<table border=\"1\" class=\"dataframe\">\n",
       "  <thead>\n",
       "    <tr style=\"text-align: right;\">\n",
       "      <th></th>\n",
       "      <th>count</th>\n",
       "      <th>mean</th>\n",
       "      <th>std</th>\n",
       "      <th>min</th>\n",
       "      <th>25%</th>\n",
       "      <th>50%</th>\n",
       "      <th>75%</th>\n",
       "      <th>max</th>\n",
       "    </tr>\n",
       "    <tr>\n",
       "      <th>QE_I16</th>\n",
       "      <th></th>\n",
       "      <th></th>\n",
       "      <th></th>\n",
       "      <th></th>\n",
       "      <th></th>\n",
       "      <th></th>\n",
       "      <th></th>\n",
       "      <th></th>\n",
       "    </tr>\n",
       "  </thead>\n",
       "  <tbody>\n",
       "    <tr>\n",
       "      <th>1.0</th>\n",
       "      <td>238741.0</td>\n",
       "      <td>42.675507</td>\n",
       "      <td>15.519992</td>\n",
       "      <td>0.0</td>\n",
       "      <td>32.1</td>\n",
       "      <td>42.90</td>\n",
       "      <td>53.70</td>\n",
       "      <td>93.2</td>\n",
       "    </tr>\n",
       "    <tr>\n",
       "      <th>2.0</th>\n",
       "      <td>36570.0</td>\n",
       "      <td>42.026946</td>\n",
       "      <td>16.264246</td>\n",
       "      <td>0.0</td>\n",
       "      <td>32.0</td>\n",
       "      <td>42.90</td>\n",
       "      <td>53.40</td>\n",
       "      <td>90.0</td>\n",
       "    </tr>\n",
       "    <tr>\n",
       "      <th>3.0</th>\n",
       "      <td>14391.0</td>\n",
       "      <td>42.696540</td>\n",
       "      <td>15.927114</td>\n",
       "      <td>0.0</td>\n",
       "      <td>32.4</td>\n",
       "      <td>43.20</td>\n",
       "      <td>53.90</td>\n",
       "      <td>89.4</td>\n",
       "    </tr>\n",
       "    <tr>\n",
       "      <th>4.0</th>\n",
       "      <td>462.0</td>\n",
       "      <td>40.343074</td>\n",
       "      <td>16.910805</td>\n",
       "      <td>0.0</td>\n",
       "      <td>29.9</td>\n",
       "      <td>41.35</td>\n",
       "      <td>51.85</td>\n",
       "      <td>76.7</td>\n",
       "    </tr>\n",
       "  </tbody>\n",
       "</table>\n",
       "</div>"
      ],
      "text/plain": [
       "           count       mean        std  min   25%    50%    75%   max\n",
       "QE_I16                                                               \n",
       "1.0     238741.0  42.675507  15.519992  0.0  32.1  42.90  53.70  93.2\n",
       "2.0      36570.0  42.026946  16.264246  0.0  32.0  42.90  53.40  90.0\n",
       "3.0      14391.0  42.696540  15.927114  0.0  32.4  43.20  53.90  89.4\n",
       "4.0        462.0  40.343074  16.910805  0.0  29.9  41.35  51.85  76.7"
      ]
     },
     "execution_count": 9,
     "metadata": {},
     "output_type": "execute_result"
    }
   ],
   "source": [
    "tabela['NT_GER'].groupby(tabela['QE_I16']).describe()"
   ]
  },
  {
   "cell_type": "code",
   "execution_count": 10,
   "metadata": {},
   "outputs": [
    {
     "data": {
      "text/plain": [
       "<matplotlib.axes._subplots.AxesSubplot at 0x7feb8c300690>"
      ]
     },
     "execution_count": 10,
     "metadata": {},
     "output_type": "execute_result"
    },
    {
     "data": {
      "image/png": "[encoded data removed]",
      "text/plain": [
       "<Figure size 432x288 with 1 Axes>"
      ]
     },
     "metadata": {
      "needs_background": "light"
     },
     "output_type": "display_data"
    }
   ],
   "source": [
    "qe09 = pandas.DataFrame(tabela, columns=['NT_GER', 'QE_I16'])\n",
    "qe09.boxplot(by='QE_I16')"
   ]
  },
  {
   "cell_type": "code",
   "execution_count": 11,
   "metadata": {},
   "outputs": [
    {
     "name": "stdout",
     "output_type": "stream",
     "text": [
      "(0.9952857494354248, 0.0)\n",
      "(0.9839144945144653, 0.0)\n"
     ]
    },
    {
     "name": "stderr",
     "output_type": "stream",
     "text": [
      "/usr/lib/python2.7/dist-packages/scipy/stats/morestats.py:1326: UserWarning: p-value may not be accurate for N > 5000.\n",
      "  warnings.warn(\"p-value may not be accurate for N > 5000.\")\n"
     ]
    },
    {
     "data": {
      "text/plain": [
       "<matplotlib.legend.Legend at 0x7feb7e6ad310>"
      ]
     },
     "execution_count": 11,
     "metadata": {},
     "output_type": "execute_result"
    },
    {
     "data": {
      "image/png": "[encoded data removed]",
      "text/plain": [
       "<Figure size 432x288 with 1 Axes>"
      ]
     },
     "metadata": {
      "needs_background": "light"
     },
     "output_type": "display_data"
    }
   ],
   "source": [
    "import scipy.stats as stats\n",
    "\n",
    "print(stats.shapiro(qe09.NT_GER.loc[qe09.QE_I16 == 1]))\n",
    "\n",
    "print(stats.shapiro(qe09.NT_GER.loc[qe09.QE_I16 == 2]))\n",
    "\n",
    "#a saída do teste é o valor W e o p-value\n",
    "#Considera-se que a suposição não é violada quando o p-value é maior que alpha, normalmente 0.05\n",
    "\n",
    "#pelo histograma, também é possível observar a distribuição dos dados. \n",
    "qe09.NT_GER.loc[qe09.QE_I16 ==1].hist(label=\"Toda em Escola Publica\")\n",
    "qe09.NT_GER.loc[qe09.QE_I16 ==2].hist(label=\"Toda em Escola Privada\")\n",
    "plt.xlabel(\"Notas\")\n",
    "plt.ylabel(\"Quantidade de Alunos\")\n",
    "plt.legend()"
   ]
  },
  {
   "cell_type": "code",
   "execution_count": null,
   "metadata": {},
   "outputs": [],
   "source": []
  },
  {
   "cell_type": "code",
   "execution_count": 12,
   "metadata": {},
   "outputs": [
    {
     "ename": "NameError",
     "evalue": "name 'escolas' is not defined",
     "output_type": "error",
     "traceback": [
      "\u001b[0;31m---------------------------------------------------------------------------\u001b[0m",
      "\u001b[0;31mNameError\u001b[0m                                 Traceback (most recent call last)",
      "\u001b[0;32m<ipython-input-12-09ec2ed6d6ef>\u001b[0m in \u001b[0;36m<module>\u001b[0;34m()\u001b[0m\n\u001b[1;32m      1\u001b[0m \u001b[0;31m#escolas = tabela[tabela['CO_GRUPO']==4004]\u001b[0m\u001b[0;34m\u001b[0m\u001b[0;34m\u001b[0m\u001b[0m\n\u001b[1;32m      2\u001b[0m \u001b[0;34m\u001b[0m\u001b[0m\n\u001b[0;32m----> 3\u001b[0;31m \u001b[0mescolas\u001b[0m\u001b[0;34m[\u001b[0m\u001b[0;34m'QE_I17'\u001b[0m\u001b[0;34m]\u001b[0m \u001b[0;34m=\u001b[0m \u001b[0mescolas\u001b[0m\u001b[0;34m[\u001b[0m\u001b[0;34m'QE_I17'\u001b[0m\u001b[0;34m]\u001b[0m\u001b[0;34m.\u001b[0m\u001b[0mmap\u001b[0m\u001b[0;34m(\u001b[0m\u001b[0;34m{\u001b[0m\u001b[0;34m'A'\u001b[0m\u001b[0;34m:\u001b[0m \u001b[0;36m1\u001b[0m\u001b[0;34m,\u001b[0m \u001b[0;34m'B'\u001b[0m\u001b[0;34m:\u001b[0m \u001b[0;36m2\u001b[0m\u001b[0;34m,\u001b[0m \u001b[0;34m'C'\u001b[0m\u001b[0;34m:\u001b[0m \u001b[0;36m3\u001b[0m\u001b[0;34m,\u001b[0m \u001b[0;34m'D'\u001b[0m\u001b[0;34m:\u001b[0m \u001b[0;36m1\u001b[0m\u001b[0;34m,\u001b[0m\u001b[0;34m'E'\u001b[0m\u001b[0;34m:\u001b[0m \u001b[0;36m2\u001b[0m\u001b[0;34m,\u001b[0m \u001b[0;34m'F'\u001b[0m\u001b[0;34m:\u001b[0m\u001b[0;36m3\u001b[0m\u001b[0;34m}\u001b[0m\u001b[0;34m)\u001b[0m\u001b[0;34m\u001b[0m\u001b[0m\n\u001b[0m\u001b[1;32m      4\u001b[0m \u001b[0mescolas\u001b[0m\u001b[0;34m=\u001b[0m\u001b[0mescolas\u001b[0m\u001b[0;34m.\u001b[0m\u001b[0mloc\u001b[0m\u001b[0;34m[\u001b[0m\u001b[0;34m(\u001b[0m\u001b[0mescolas\u001b[0m\u001b[0;34m[\u001b[0m\u001b[0;34m'QE_I17'\u001b[0m\u001b[0;34m]\u001b[0m\u001b[0;34m.\u001b[0m\u001b[0mnotnull\u001b[0m\u001b[0;34m(\u001b[0m\u001b[0;34m)\u001b[0m\u001b[0;34m)\u001b[0m\u001b[0;34m]\u001b[0m\u001b[0;34m\u001b[0m\u001b[0m\n\u001b[1;32m      5\u001b[0m \u001b[0mplt\u001b[0m\u001b[0;34m.\u001b[0m\u001b[0mscatter\u001b[0m\u001b[0;34m(\u001b[0m \u001b[0mescolas\u001b[0m\u001b[0;34m.\u001b[0m\u001b[0mNT_GER\u001b[0m\u001b[0;34m,\u001b[0m \u001b[0mescolas\u001b[0m\u001b[0;34m.\u001b[0m\u001b[0mQE_I17\u001b[0m \u001b[0;34m)\u001b[0m\u001b[0;34m\u001b[0m\u001b[0m\n",
      "\u001b[0;31mNameError\u001b[0m: name 'escolas' is not defined"
     ]
    }
   ],
   "source": [
    "#escolas = tabela[tabela['CO_GRUPO']==4004]\n",
    "\n",
    "escolas['QE_I17'] = escolas['QE_I17'].map({'A': 1, 'B': 2, 'C': 3, 'D': 1,'E': 2, 'F':3})\n",
    "escolas=escolas.loc[(escolas['QE_I17'].notnull())]\n",
    "plt.scatter( escolas.NT_GER, escolas.QE_I17 )\n",
    "plt.xlabel('Nota Geral')\n",
    "plt.ylabel('Tipo de escola do ensino medio')\n",
    "plt.show()\n",
    "\n",
    "escolas['NT_GER'].groupby(escolas['QE_I17']).describe()"
   ]
  },
  {
   "cell_type": "code",
   "execution_count": null,
   "metadata": {},
   "outputs": [],
   "source": [
    "qe08 = pandas.DataFrame(escolas, columns=['NT_GER', 'QE_I16'])\n",
    "qe08.boxplot(by='QE_I16')"
   ]
  },
  {
   "cell_type": "code",
   "execution_count": null,
   "metadata": {},
   "outputs": [],
   "source": [
    "print(stats.shapiro(qe08.NT_GER.loc[qe08.QE_I17 == 1]))\n",
    "print(stats.shapiro(qe08.NT_GER.loc[qe08.QE_I17 == 2]))\n",
    "qe08.NT_GER.loc[qe08.QE_I17 ==1].hist(label=\"Toda e Maior Parte Publica\")\n",
    "qe08.NT_GER.loc[qe08.QE_I17 ==2].hist(label=\"Toda e Maior Parte Privada\")\n",
    "plt.xlabel(\"Notas\")\n",
    "plt.ylabel(\"Quantidade de Alunos\")\n",
    "plt.legend()"
   ]
  },
  {
   "cell_type": "code",
   "execution_count": 13,
   "metadata": {},
   "outputs": [
    {
     "data": {
      "image/png": "[encoded data removed]",
      "text/plain": [
       "<Figure size 432x288 with 1 Axes>"
      ]
     },
     "metadata": {
      "needs_background": "light"
     },
     "output_type": "display_data"
    },
    {
     "data": {
      "text/html": [
       "<div>\n",
       "<style scoped>\n",
       "    .dataframe tbody tr th:only-of-type {\n",
       "        vertical-align: middle;\n",
       "    }\n",
       "\n",
       "    .dataframe tbody tr th {\n",
       "        vertical-align: top;\n",
       "    }\n",
       "\n",
       "    .dataframe thead th {\n",
       "        text-align: right;\n",
       "    }\n",
       "</style>\n",
       "<table border=\"1\" class=\"dataframe\">\n",
       "  <thead>\n",
       "    <tr style=\"text-align: right;\">\n",
       "      <th></th>\n",
       "      <th>count</th>\n",
       "      <th>mean</th>\n",
       "      <th>std</th>\n",
       "      <th>min</th>\n",
       "      <th>25%</th>\n",
       "      <th>50%</th>\n",
       "      <th>75%</th>\n",
       "      <th>max</th>\n",
       "    </tr>\n",
       "    <tr>\n",
       "      <th>CO_REGIAO_CURSO</th>\n",
       "      <th></th>\n",
       "      <th></th>\n",
       "      <th></th>\n",
       "      <th></th>\n",
       "      <th></th>\n",
       "      <th></th>\n",
       "      <th></th>\n",
       "      <th></th>\n",
       "    </tr>\n",
       "  </thead>\n",
       "  <tbody>\n",
       "    <tr>\n",
       "      <th>1</th>\n",
       "      <td>21876.0</td>\n",
       "      <td>40.007707</td>\n",
       "      <td>14.454953</td>\n",
       "      <td>0.0</td>\n",
       "      <td>29.8</td>\n",
       "      <td>39.7</td>\n",
       "      <td>49.9</td>\n",
       "      <td>89.4</td>\n",
       "    </tr>\n",
       "    <tr>\n",
       "      <th>2</th>\n",
       "      <td>49782.0</td>\n",
       "      <td>42.107446</td>\n",
       "      <td>15.742756</td>\n",
       "      <td>0.0</td>\n",
       "      <td>31.8</td>\n",
       "      <td>42.5</td>\n",
       "      <td>53.3</td>\n",
       "      <td>89.8</td>\n",
       "    </tr>\n",
       "    <tr>\n",
       "      <th>3</th>\n",
       "      <td>130970.0</td>\n",
       "      <td>42.554131</td>\n",
       "      <td>16.173245</td>\n",
       "      <td>0.0</td>\n",
       "      <td>31.8</td>\n",
       "      <td>42.9</td>\n",
       "      <td>54.0</td>\n",
       "      <td>93.2</td>\n",
       "    </tr>\n",
       "    <tr>\n",
       "      <th>4</th>\n",
       "      <td>64502.0</td>\n",
       "      <td>44.108156</td>\n",
       "      <td>14.951044</td>\n",
       "      <td>0.0</td>\n",
       "      <td>34.1</td>\n",
       "      <td>44.5</td>\n",
       "      <td>54.7</td>\n",
       "      <td>90.0</td>\n",
       "    </tr>\n",
       "    <tr>\n",
       "      <th>5</th>\n",
       "      <td>23034.0</td>\n",
       "      <td>42.051867</td>\n",
       "      <td>14.850279</td>\n",
       "      <td>0.0</td>\n",
       "      <td>31.7</td>\n",
       "      <td>42.1</td>\n",
       "      <td>52.5</td>\n",
       "      <td>90.1</td>\n",
       "    </tr>\n",
       "  </tbody>\n",
       "</table>\n",
       "</div>"
      ],
      "text/plain": [
       "                    count       mean        std  min   25%   50%   75%   max\n",
       "CO_REGIAO_CURSO                                                             \n",
       "1                 21876.0  40.007707  14.454953  0.0  29.8  39.7  49.9  89.4\n",
       "2                 49782.0  42.107446  15.742756  0.0  31.8  42.5  53.3  89.8\n",
       "3                130970.0  42.554131  16.173245  0.0  31.8  42.9  54.0  93.2\n",
       "4                 64502.0  44.108156  14.951044  0.0  34.1  44.5  54.7  90.0\n",
       "5                 23034.0  42.051867  14.850279  0.0  31.7  42.1  52.5  90.1"
      ]
     },
     "execution_count": 13,
     "metadata": {},
     "output_type": "execute_result"
    }
   ],
   "source": [
    "# Verificar os resultados a partir da região do país\n",
    "\"\"\"\n",
    "1 Norte\n",
    "2 Nordeste\n",
    "3 Sudeste\n",
    "4 Sul\n",
    "5 Centro-Oeste\n",
    "\"\"\"\n",
    "#escola = tabela['QE_I17'].map({'A': 1, 'B': 2, 'C': 3, 'D': 4,'E': 5, 'F':6})\n",
    "#print(escola)\n",
    "#tabela['CO_REGIAO_CURSO'] = tabela['CO_REGIAO_CURSO'].map({1 : 'N', 2 : 'NE', 3 : 'SE', 4 : 'S', 5 : 'CO'})\n",
    "tabela=tabela.loc[(tabela['CO_REGIAO_CURSO'].notnull())]\n",
    "plt.scatter( tabela.NT_GER, tabela.CO_REGIAO_CURSO )\n",
    "plt.xlabel('Nota Geral')\n",
    "plt.ylabel('Regiao Curso')\n",
    "plt.show()\n",
    "#nota geral agrupada pela questão 05\n",
    "tabela['NT_GER'].groupby(tabela['CO_REGIAO_CURSO']).describe()\n",
    "\n"
   ]
  },
  {
   "cell_type": "code",
   "execution_count": null,
   "metadata": {},
   "outputs": [],
   "source": [
    "#nota geral agrupada pela questão 05\n",
    "#tabela['CO_REGIAO_CURSO'] = tabela['CO_REGIAO_CURSO'].map({1 : 'N', 2 : 'NE', 3 : 'SE', 4 : 'S', 5 : 'CO'})\n",
    "tabela['NT_GER'].groupby(tabela['CO_REGIAO_CURSO']).describe()"
   ]
  },
  {
   "cell_type": "code",
   "execution_count": null,
   "metadata": {},
   "outputs": [],
   "source": [
    "#Como verificar se a média dos alunos do campo QE_I05 para todos os alunos são realmente diferentes\n",
    "qe05 = pandas.DataFrame(ccomp, columns=['NT_GER', 'CO_REGIAO_CURSO'])\n",
    "qe05.boxplot(by='CO_REGIAO_CURSO')"
   ]
  },
  {
   "cell_type": "code",
   "execution_count": null,
   "metadata": {},
   "outputs": [],
   "source": [
    "#print(stats.shapiro(qe05.NT_GER.loc[qe05.CO_REGIAO_CURSO == 'N']))\n",
    "\n",
    "#print(stats.shapiro(qe05.NT_GER.loc[qe05.CO_REGIAO_CURSO == 'S']))\n",
    "\n",
    "#a saída do teste é o valor W e o p-value\n",
    "#Considera-se que a suposição não é violada quando o p-value é maior que alpha, normalmente 0.05\n",
    "\n",
    "#pelo histograma, também é possível observar a distribuição dos dados. \n",
    "#qe05.NT_GER.loc[qe05.CO_REGIAO_CURSO =='S'].hist(label=\"Sul\")\n",
    "#qe05.NT_GER.loc[qe05.CO_REGIAO_CURSO =='N'].hist(label=\"Norte\")\n",
    "#plt.xlabel(\"Notas\")\n",
    "#plt.ylabel(\"Quantidade de Alunos\")\n",
    "#plt.legend()"
   ]
  },
  {
   "cell_type": "code",
   "execution_count": null,
   "metadata": {},
   "outputs": [],
   "source": []
  },
  {
   "cell_type": "code",
   "execution_count": null,
   "metadata": {},
   "outputs": [],
   "source": []
  }
 ],
 "metadata": {
  "kernelspec": {
   "display_name": "Python 3",
   "language": "python",
   "name": "python3"
  },
  "language_info": {
   "codemirror_mode": {
    "name": "ipython",
    "version": 2
   },
   "file_extension": ".py",
   "mimetype": "text/x-python",
   "name": "python",
   "nbconvert_exporter": "python",
   "pygments_lexer": "ipython2",
   "version": "2.7.15rc1"
  }
 },
 "nbformat": 4,
 "nbformat_minor": 2
}
