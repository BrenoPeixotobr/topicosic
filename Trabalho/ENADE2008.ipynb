{
 "cells": [
  {
   "cell_type": "markdown",
   "metadata": {},
   "source": [
    "# Disciplina: Tópicos em Inteligência Computacional\n",
    "Instituto Federal do Norte de Minas Gerais Campus Montes Claros <br/>\n",
    "Curso: Ciência da Computação <br/>\n",
    "Professora: Luciana Balieiro Cosme<br/>\n",
    "**Aula 5: Exploração de outras bases de dados** <br/>"
   ]
  },
  {
   "cell_type": "code",
   "execution_count": 27,
   "metadata": {},
   "outputs": [
    {
     "data": {
      "text/plain": [
       "(461776, 198)"
      ]
     },
     "execution_count": 27,
     "metadata": {},
     "output_type": "execute_result"
    }
   ],
   "source": [
    "import pandas\n",
    "import matplotlib.pyplot as plt\n",
    "\n",
    "enade2008=pandas.read_csv(\"datasets/MICRODADOS_ENADE_2008.csv\", sep=';',dtype={\"DS_VT_ESC_OFG\": str, \n",
    "                                                                               'DS_VT_ESC_OCE':str,\n",
    "                                                                              'DS_VT_ACE_OCE':str,\n",
    "                                                                              'NT_GER':str,\n",
    "                                                                              'NT_FG':str,\n",
    "                                                                              'NT_OBJ_FG':str,\n",
    "                                                                              'NT_DIS_FG':str,\n",
    "                                                                              'NT_CE':str,\n",
    "                                                                              'NT_OBJ_CE':str,\n",
    "                                                                              'NT_DIS_CE':str})\n",
    "\n",
    "\n",
    "enade2008.shape"
   ]
  },
  {
   "cell_type": "code",
   "execution_count": 28,
   "metadata": {},
   "outputs": [
    {
     "data": {
      "text/plain": [
       "Index([u'nu_ano', u'co_ies', u'cd_catad', u'cd_orgac', u'co_grupo',\n",
       "       u'co_subarea', u'co_regiao_habil', u'co_uf_habil', u'co_munic_habil',\n",
       "       u'co_curso',\n",
       "       ...\n",
       "       u'QE_I106', u'QE_I107', u'QE_I108', u'QE_I109', u'QE_I110', u'QE_I111',\n",
       "       u'QE_I112', u'QE_I113', u'QE_I114', u'QE_I115'],\n",
       "      dtype='object', length=198)"
      ]
     },
     "execution_count": 28,
     "metadata": {},
     "output_type": "execute_result"
    }
   ],
   "source": [
    "enade2008.columns[0:]"
   ]
  },
  {
   "cell_type": "code",
   "execution_count": 29,
   "metadata": {},
   "outputs": [],
   "source": [
    "'''\n",
    "nota geral: 0-98 \n",
    "questão08: Qual a renda total de sua família, incluindo seus rendimentos?\n",
    "A = Até 1,5 salário mínimo (até R$ 1.405,50).\n",
    "B = De 1,5 a 3 salários mínimos (R$ 1.405,51 a R$ 2.811,00).\n",
    "C = De 3 a 4,5 salários mínimos (R$ 2.811,01 a R$ 4.216,50).\n",
    "D = De 4,5 a 6 salários mínimos (R$ 4.216,51 a R$ 5.622,00).\n",
    "E = De 6 a 10 salários mínimos (R$ 5. 622,01 a R$ 9.370,00).\n",
    "F = De 10 a 30 salários mínimos (R$ 9.370,01 a R$ 28.110,00).\n",
    "G = Acima de 30 salários mínimos (mais de R$ 28.110,00).\n",
    "\n",
    "i05 escolaridade da mae\n",
    "A = Nenhuma.\n",
    "B = Ensino fundamental: 1º ao 5º ano (1ª a 4ª série).\n",
    "C = Ensino fundamental: 6º ao 9º ano (5ª a 8ª série).\n",
    "D = Ensino médio.\n",
    "E = Ensino Superior - Graduação.\n",
    "F = Pós-graduação.\n",
    "\n",
    "'''\n",
    "\n",
    "tabela = pandas.DataFrame(enade2008, columns=['nt_ger','co_subarea','CO_CURSO', 'QE_I08', 'CO_IES', 'QE_I05', 'QE_I17', 'CO_REGIAO_CURSO','co_regiao_habil'])"
   ]
  },
  {
   "cell_type": "code",
   "execution_count": 30,
   "metadata": {},
   "outputs": [],
   "source": [
    "##limpeza dos dados\n",
    "\n",
    "#substitui vírgula por ponto\n",
    "#tabela['NT_GER'] = tabela['NT_GER'].str.replace(',', '.')\n",
    "\n",
    "#observe os NaN (not a number)"
   ]
  },
  {
   "cell_type": "code",
   "execution_count": 34,
   "metadata": {},
   "outputs": [],
   "source": [
    "'''No arquivo 'Dicionário de variáveis dos Microdados do Enade_Edição 2017' descreve que:\n",
    "o codigo 222 no campo TP_PR_GER significa ausente \n",
    "556 e 888 são participações desconsideradas.\n",
    "Portanto, algumas notas podem ser desconsideradas dependendo do seu objetivo, \n",
    "e aqui, será de calcular a média daqueles que fizeram a prova.\n",
    "'''\n",
    "tabela=tabela.loc[(tabela['nt_ger'].notnull())]\n",
    "#print(tabela['NT_GER'])\n",
    "#converte de str para float\n",
    "tabela['nt_ger'] = pandas.to_numeric(tabela['nt_ger'])\n",
    "\n"
   ]
  },
  {
   "cell_type": "code",
   "execution_count": 35,
   "metadata": {},
   "outputs": [],
   "source": [
    "#Calcula a média de um curso especifico\n",
    "#Código da área de enquadramento do curso no Enade == ciencia da computacao\n",
    "\n",
    "ccomp = tabela[tabela['co_subarea']==4001]"
   ]
  },
  {
   "cell_type": "code",
   "execution_count": 36,
   "metadata": {},
   "outputs": [],
   "source": [
    "import matplotlib.pyplot as plt\n"
   ]
  },
  {
   "cell_type": "code",
   "execution_count": 38,
   "metadata": {},
   "outputs": [
    {
     "data": {
      "image/png": "[encoded data removed]",
      "text/plain": [
       "<Figure size 432x288 with 1 Axes>"
      ]
     },
     "metadata": {
      "needs_background": "light"
     },
     "output_type": "display_data"
    },
    {
     "data": {
      "text/html": [
       "<div>\n",
       "<style scoped>\n",
       "    .dataframe tbody tr th:only-of-type {\n",
       "        vertical-align: middle;\n",
       "    }\n",
       "\n",
       "    .dataframe tbody tr th {\n",
       "        vertical-align: top;\n",
       "    }\n",
       "\n",
       "    .dataframe thead th {\n",
       "        text-align: right;\n",
       "    }\n",
       "</style>\n",
       "<table border=\"1\" class=\"dataframe\">\n",
       "  <thead>\n",
       "    <tr style=\"text-align: right;\">\n",
       "      <th></th>\n",
       "      <th>count</th>\n",
       "      <th>mean</th>\n",
       "      <th>std</th>\n",
       "      <th>min</th>\n",
       "      <th>25%</th>\n",
       "      <th>50%</th>\n",
       "      <th>75%</th>\n",
       "      <th>max</th>\n",
       "    </tr>\n",
       "    <tr>\n",
       "      <th>co_regiao_habil</th>\n",
       "      <th></th>\n",
       "      <th></th>\n",
       "      <th></th>\n",
       "      <th></th>\n",
       "      <th></th>\n",
       "      <th></th>\n",
       "      <th></th>\n",
       "      <th></th>\n",
       "    </tr>\n",
       "  </thead>\n",
       "  <tbody>\n",
       "    <tr>\n",
       "      <th>1</th>\n",
       "      <td>26734.0</td>\n",
       "      <td>28.191277</td>\n",
       "      <td>19.714673</td>\n",
       "      <td>0.0</td>\n",
       "      <td>8.625000</td>\n",
       "      <td>30.900000</td>\n",
       "      <td>42.099998</td>\n",
       "      <td>85.699997</td>\n",
       "    </tr>\n",
       "    <tr>\n",
       "      <th>2</th>\n",
       "      <td>87887.0</td>\n",
       "      <td>30.380577</td>\n",
       "      <td>20.503605</td>\n",
       "      <td>0.0</td>\n",
       "      <td>16.000000</td>\n",
       "      <td>32.900002</td>\n",
       "      <td>44.900002</td>\n",
       "      <td>92.300003</td>\n",
       "    </tr>\n",
       "    <tr>\n",
       "      <th>3</th>\n",
       "      <td>219933.0</td>\n",
       "      <td>32.259402</td>\n",
       "      <td>19.726957</td>\n",
       "      <td>0.0</td>\n",
       "      <td>21.600000</td>\n",
       "      <td>34.000000</td>\n",
       "      <td>45.599998</td>\n",
       "      <td>95.099998</td>\n",
       "    </tr>\n",
       "    <tr>\n",
       "      <th>4</th>\n",
       "      <td>83471.0</td>\n",
       "      <td>34.359156</td>\n",
       "      <td>19.000498</td>\n",
       "      <td>0.0</td>\n",
       "      <td>24.700001</td>\n",
       "      <td>35.900002</td>\n",
       "      <td>47.000000</td>\n",
       "      <td>91.800003</td>\n",
       "    </tr>\n",
       "    <tr>\n",
       "      <th>5</th>\n",
       "      <td>43007.0</td>\n",
       "      <td>31.524194</td>\n",
       "      <td>18.894230</td>\n",
       "      <td>0.0</td>\n",
       "      <td>21.600000</td>\n",
       "      <td>33.500000</td>\n",
       "      <td>44.000000</td>\n",
       "      <td>91.400002</td>\n",
       "    </tr>\n",
       "  </tbody>\n",
       "</table>\n",
       "</div>"
      ],
      "text/plain": [
       "                    count       mean        std  min        25%        50%  \\\n",
       "co_regiao_habil                                                              \n",
       "1                 26734.0  28.191277  19.714673  0.0   8.625000  30.900000   \n",
       "2                 87887.0  30.380577  20.503605  0.0  16.000000  32.900002   \n",
       "3                219933.0  32.259402  19.726957  0.0  21.600000  34.000000   \n",
       "4                 83471.0  34.359156  19.000498  0.0  24.700001  35.900002   \n",
       "5                 43007.0  31.524194  18.894230  0.0  21.600000  33.500000   \n",
       "\n",
       "                       75%        max  \n",
       "co_regiao_habil                        \n",
       "1                42.099998  85.699997  \n",
       "2                44.900002  92.300003  \n",
       "3                45.599998  95.099998  \n",
       "4                47.000000  91.800003  \n",
       "5                44.000000  91.400002  "
      ]
     },
     "execution_count": 38,
     "metadata": {},
     "output_type": "execute_result"
    }
   ],
   "source": [
    "# Verificar os resultados a partir da região do país\n",
    "\"\"\"\n",
    "1 Norte\n",
    "2 Nordeste\n",
    "3 Sudeste\n",
    "4 Sul\n",
    "5 Centro-Oeste\n",
    "\"\"\"\n",
    "#escola = tabela['QE_I17'].map({'A': 1, 'B': 2, 'C': 3, 'D': 4,'E': 5, 'F':6})\n",
    "#print(escola)\n",
    "#tabela['CO_REGIAO_CURSO'] = tabela['CO_REGIAO_CURSO'].map({1 : 'N', 2 : 'NE', 3 : 'SE', 4 : 'S', 5 : 'CO'})\n",
    "tabela=tabela.loc[(tabela['co_regiao_habil'].notnull())]\n",
    "plt.scatter( tabela.nt_ger, tabela.co_regiao_habil )\n",
    "plt.xlabel('Nota Geral')\n",
    "plt.ylabel('Regiao Curso')\n",
    "plt.show()\n",
    "#nota geral agrupada pela questão 05\n",
    "tabela['nt_ger'].groupby(tabela['co_regiao_habil']).describe()\n",
    "\n"
   ]
  },
  {
   "cell_type": "code",
   "execution_count": 39,
   "metadata": {},
   "outputs": [
    {
     "data": {
      "text/plain": [
       "<matplotlib.axes._subplots.AxesSubplot at 0x7fa626db2cd0>"
      ]
     },
     "execution_count": 39,
     "metadata": {},
     "output_type": "execute_result"
    },
    {
     "data": {
      "image/png": "[encoded data removed]",
      "text/plain": [
       "<Figure size 432x288 with 1 Axes>"
      ]
     },
     "metadata": {
      "needs_background": "light"
     },
     "output_type": "display_data"
    }
   ],
   "source": [
    "#Como verificar se a média dos alunos do campo QE_I05 para todos os alunos são realmente diferentes\n",
    "qe05 = pandas.DataFrame(ccomp, columns=['nt_ger', 'co_regiao_habil'])\n",
    "qe05.boxplot(by='co_regiao_habil')"
   ]
  },
  {
   "cell_type": "code",
   "execution_count": null,
   "metadata": {},
   "outputs": [],
   "source": [
    "#print(stats.shapiro(qe05.NT_GER.loc[qe05.CO_REGIAO_CURSO == 'N']))\n",
    "\n",
    "#print(stats.shapiro(qe05.NT_GER.loc[qe05.CO_REGIAO_CURSO == 'S']))\n",
    "\n",
    "#a saída do teste é o valor W e o p-value\n",
    "#Considera-se que a suposição não é violada quando o p-value é maior que alpha, normalmente 0.05\n",
    "\n",
    "#pelo histograma, também é possível observar a distribuição dos dados. \n",
    "#qe05.NT_GER.loc[qe05.CO_REGIAO_CURSO =='S'].hist(label=\"Sul\")\n",
    "#qe05.NT_GER.loc[qe05.CO_REGIAO_CURSO =='N'].hist(label=\"Norte\")\n",
    "#plt.xlabel(\"Notas\")\n",
    "#plt.ylabel(\"Quantidade de Alunos\")\n",
    "#plt.legend()"
   ]
  },
  {
   "cell_type": "code",
   "execution_count": 41,
   "metadata": {},
   "outputs": [
    {
     "data": {
      "text/html": [
       "<div>\n",
       "<style scoped>\n",
       "    .dataframe tbody tr th:only-of-type {\n",
       "        vertical-align: middle;\n",
       "    }\n",
       "\n",
       "    .dataframe tbody tr th {\n",
       "        vertical-align: top;\n",
       "    }\n",
       "\n",
       "    .dataframe thead th {\n",
       "        text-align: right;\n",
       "    }\n",
       "</style>\n",
       "<table border=\"1\" class=\"dataframe\">\n",
       "  <thead>\n",
       "    <tr style=\"text-align: right;\">\n",
       "      <th></th>\n",
       "      <th>count</th>\n",
       "      <th>mean</th>\n",
       "      <th>std</th>\n",
       "      <th>min</th>\n",
       "      <th>25%</th>\n",
       "      <th>50%</th>\n",
       "      <th>75%</th>\n",
       "      <th>max</th>\n",
       "    </tr>\n",
       "    <tr>\n",
       "      <th>co_regiao_habil</th>\n",
       "      <th></th>\n",
       "      <th></th>\n",
       "      <th></th>\n",
       "      <th></th>\n",
       "      <th></th>\n",
       "      <th></th>\n",
       "      <th></th>\n",
       "      <th></th>\n",
       "    </tr>\n",
       "  </thead>\n",
       "  <tbody>\n",
       "    <tr>\n",
       "      <th>1</th>\n",
       "      <td>780.0</td>\n",
       "      <td>21.531410</td>\n",
       "      <td>16.041636</td>\n",
       "      <td>0.0</td>\n",
       "      <td>0.000000</td>\n",
       "      <td>24.750000</td>\n",
       "      <td>32.799999</td>\n",
       "      <td>69.000000</td>\n",
       "    </tr>\n",
       "    <tr>\n",
       "      <th>2</th>\n",
       "      <td>2778.0</td>\n",
       "      <td>24.681929</td>\n",
       "      <td>18.050076</td>\n",
       "      <td>0.0</td>\n",
       "      <td>0.000000</td>\n",
       "      <td>27.400000</td>\n",
       "      <td>37.200001</td>\n",
       "      <td>86.500000</td>\n",
       "    </tr>\n",
       "    <tr>\n",
       "      <th>3</th>\n",
       "      <td>9669.0</td>\n",
       "      <td>25.380215</td>\n",
       "      <td>15.514078</td>\n",
       "      <td>0.0</td>\n",
       "      <td>18.100000</td>\n",
       "      <td>27.799999</td>\n",
       "      <td>35.099998</td>\n",
       "      <td>85.800003</td>\n",
       "    </tr>\n",
       "    <tr>\n",
       "      <th>4</th>\n",
       "      <td>3335.0</td>\n",
       "      <td>27.207226</td>\n",
       "      <td>16.216960</td>\n",
       "      <td>0.0</td>\n",
       "      <td>19.799999</td>\n",
       "      <td>29.299999</td>\n",
       "      <td>37.049999</td>\n",
       "      <td>85.599998</td>\n",
       "    </tr>\n",
       "    <tr>\n",
       "      <th>5</th>\n",
       "      <td>1834.0</td>\n",
       "      <td>23.611941</td>\n",
       "      <td>15.980863</td>\n",
       "      <td>0.0</td>\n",
       "      <td>12.125000</td>\n",
       "      <td>26.299999</td>\n",
       "      <td>34.299999</td>\n",
       "      <td>75.699997</td>\n",
       "    </tr>\n",
       "  </tbody>\n",
       "</table>\n",
       "</div>"
      ],
      "text/plain": [
       "                  count       mean        std  min        25%        50%  \\\n",
       "co_regiao_habil                                                            \n",
       "1                 780.0  21.531410  16.041636  0.0   0.000000  24.750000   \n",
       "2                2778.0  24.681929  18.050076  0.0   0.000000  27.400000   \n",
       "3                9669.0  25.380215  15.514078  0.0  18.100000  27.799999   \n",
       "4                3335.0  27.207226  16.216960  0.0  19.799999  29.299999   \n",
       "5                1834.0  23.611941  15.980863  0.0  12.125000  26.299999   \n",
       "\n",
       "                       75%        max  \n",
       "co_regiao_habil                        \n",
       "1                32.799999  69.000000  \n",
       "2                37.200001  86.500000  \n",
       "3                35.099998  85.800003  \n",
       "4                37.049999  85.599998  \n",
       "5                34.299999  75.699997  "
      ]
     },
     "execution_count": 41,
     "metadata": {},
     "output_type": "execute_result"
    }
   ],
   "source": [
    "ccomp['nt_ger'].groupby(ccomp['co_regiao_habil']).describe()"
   ]
  },
  {
   "cell_type": "code",
   "execution_count": null,
   "metadata": {},
   "outputs": [],
   "source": []
  }
 ],
 "metadata": {
  "kernelspec": {
   "display_name": "Python 3",
   "language": "python",
   "name": "python3"
  },
  "language_info": {
   "codemirror_mode": {
    "name": "ipython",
    "version": 2
   },
   "file_extension": ".py",
   "mimetype": "text/x-python",
   "name": "python",
   "nbconvert_exporter": "python",
   "pygments_lexer": "ipython2",
   "version": "2.7.15rc1"
  }
 },
 "nbformat": 4,
 "nbformat_minor": 2
}
