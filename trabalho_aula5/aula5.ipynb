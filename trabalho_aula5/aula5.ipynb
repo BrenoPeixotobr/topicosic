{
 "cells": [
  {
   "cell_type": "markdown",
   "metadata": {},
   "source": [
    "# Disciplina: Tópicos em Inteligência Computacional\n",
    "Instituto Federal do Norte de Minas Gerais Campus Montes Claros <br/>\n",
    "Curso: Ciência da Computação <br/>\n",
    "Professora: Luciana Balieiro Cosme<br/>\n",
    "**Aula 5: Exploração de outras bases de dados** <br/>"
   ]
  },
  {
   "cell_type": "code",
   "execution_count": null,
   "metadata": {},
   "outputs": [],
   "source": [
    "import pandas\n",
    "import matplotlib.pyplot as plt\n",
    "\n",
    "enade2017=pandas.read_csv(\"datasets/MICRODADOS_ENADE_2017.txt\", sep=';',dtype={\"DS_VT_ESC_OFG\": str, \n",
    "                                                                               'DS_VT_ESC_OCE':str,\n",
    "                                                                              'DS_VT_ACE_OCE':str,\n",
    "                                                                              'NT_GER':str,\n",
    "                                                                              'NT_FG':str,\n",
    "                                                                              'NT_OBJ_FG':str,\n",
    "                                                                              'NT_DIS_FG':str,\n",
    "                                                                              'NT_CE':str,\n",
    "                                                                              'NT_OBJ_CE':str,\n",
    "                                                                              'NT_DIS_CE':str})\n",
    "\n",
    "\n",
    "enade2017.shape"
   ]
  },
  {
   "cell_type": "code",
   "execution_count": null,
   "metadata": {},
   "outputs": [],
   "source": [
    "enade2017.columns[0:]"
   ]
  },
  {
   "cell_type": "code",
   "execution_count": null,
   "metadata": {},
   "outputs": [],
   "source": [
    "'''\n",
    "nota geral: 0-98 \n",
    "questão08: Qual a renda total de sua família, incluindo seus rendimentos?\n",
    "A = Até 1,5 salário mínimo (até R$ 1.405,50).\n",
    "B = De 1,5 a 3 salários mínimos (R$ 1.405,51 a R$ 2.811,00).\n",
    "C = De 3 a 4,5 salários mínimos (R$ 2.811,01 a R$ 4.216,50).\n",
    "D = De 4,5 a 6 salários mínimos (R$ 4.216,51 a R$ 5.622,00).\n",
    "E = De 6 a 10 salários mínimos (R$ 5. 622,01 a R$ 9.370,00).\n",
    "F = De 10 a 30 salários mínimos (R$ 9.370,01 a R$ 28.110,00).\n",
    "G = Acima de 30 salários mínimos (mais de R$ 28.110,00).\n",
    "\n",
    "i05 escolaridade da mae\n",
    "A = Nenhuma.\n",
    "B = Ensino fundamental: 1º ao 5º ano (1ª a 4ª série).\n",
    "C = Ensino fundamental: 6º ao 9º ano (5ª a 8ª série).\n",
    "D = Ensino médio.\n",
    "E = Ensino Superior - Graduação.\n",
    "F = Pós-graduação.\n",
    "\n",
    "'''\n",
    "\n",
    "tabela = pandas.DataFrame(enade2017, columns=['NT_GER', 'CO_GRUPO', 'QE_I08', 'CO_IES', 'QE_I05', 'QE_I17', 'CO_REGIAO_CURSO'])"
   ]
  },
  {
   "cell_type": "code",
   "execution_count": null,
   "metadata": {},
   "outputs": [],
   "source": [
    "##limpeza dos dados\n",
    "\n",
    "#substitui vírgula por ponto\n",
    "tabela['NT_GER'] = tabela['NT_GER'].str.replace(',', '.')\n",
    "\n",
    "#observe os NaN (not a number)"
   ]
  },
  {
   "cell_type": "code",
   "execution_count": null,
   "metadata": {},
   "outputs": [],
   "source": [
    "'''No arquivo 'Dicionário de variáveis dos Microdados do Enade_Edição 2017' descreve que:\n",
    "o codigo 222 no campo TP_PR_GER significa ausente \n",
    "556 e 888 são participações desconsideradas.\n",
    "Portanto, algumas notas podem ser desconsideradas dependendo do seu objetivo, \n",
    "e aqui, será de calcular a média daqueles que fizeram a prova.\n",
    "'''\n",
    "tabela=tabela.loc[(tabela['NT_GER'].notnull())]\n",
    "#print(tabela['NT_GER'])\n",
    "#converte de str para float\n",
    "tabela['NT_GER'] = pandas.to_numeric(tabela['NT_GER'])\n",
    "\n"
   ]
  },
  {
   "cell_type": "code",
   "execution_count": null,
   "metadata": {},
   "outputs": [],
   "source": [
    "#Calcula a média de um curso especifico\n",
    "#Código da área de enquadramento do curso no Enade == ciencia da computacao\n",
    "\n",
    "ccomp = tabela[tabela['CO_GRUPO']==4004]"
   ]
  },
  {
   "cell_type": "code",
   "execution_count": null,
   "metadata": {},
   "outputs": [],
   "source": [
    "import matplotlib.pyplot as plt\n"
   ]
  },
  {
   "cell_type": "code",
   "execution_count": null,
   "metadata": {},
   "outputs": [],
   "source": [
    "# Verificar o impacto do ensino médio no ensino superior\n",
    "\"\"\"\n",
    "A = Todo em escola pública.\n",
    "B = Todo em escola privada (particular).\n",
    "C = Todo no exterior.\n",
    "D = A maior parte em escola pública.\n",
    "E = A maior parte em escola privada (particular).\n",
    "F = Parte no Brasil e parte no exterior.\n",
    "\"\"\"\n",
    "#escola = tabela['QE_I17'].map({'A': 1, 'B': 2, 'C': 3, 'D': 4,'E': 5, 'F':6})\n",
    "#print(escola)\n",
    "ccomp['QE_I17'] = ccomp['QE_I17'].map({'A': 1, 'B': 2, 'C': 3, 'D': 4,'E': 5, 'F':6})\n",
    "ccomp=ccomp.loc[(ccomp['QE_I17'].notnull())]\n",
    "plt.scatter( ccomp.NT_GER, ccomp.QE_I17 )\n",
    "plt.xlabel('Nota Geral')\n",
    "plt.ylabel('Tipo de escola do ensino medio')\n",
    "plt.show()"
   ]
  },
  {
   "cell_type": "code",
   "execution_count": null,
   "metadata": {},
   "outputs": [],
   "source": [
    "tabela['NT_GER'].groupby(tabela['QE_I17']).describe()"
   ]
  },
  {
   "cell_type": "code",
   "execution_count": null,
   "metadata": {},
   "outputs": [],
   "source": [
    "qe09 = pandas.DataFrame(ccomp, columns=['NT_GER', 'QE_I17'])\n",
    "qe09.boxplot(by='QE_I17')"
   ]
  },
  {
   "cell_type": "code",
   "execution_count": null,
   "metadata": {},
   "outputs": [],
   "source": [
    "import scipy.stats as stats\n",
    "\n",
    "print(stats.shapiro(qe09.NT_GER.loc[qe09.QE_I17 == 1]))\n",
    "\n",
    "print(stats.shapiro(qe09.NT_GER.loc[qe09.QE_I17 == 2]))\n",
    "\n",
    "#a saída do teste é o valor W e o p-value\n",
    "#Considera-se que a suposição não é violada quando o p-value é maior que alpha, normalmente 0.05\n",
    "\n",
    "#pelo histograma, também é possível observar a distribuição dos dados. \n",
    "qe09.NT_GER.loc[qe09.QE_I17 ==1].hist()\n",
    "qe09.NT_GER.loc[qe09.QE_I17 ==2].hist()"
   ]
  },
  {
   "cell_type": "code",
   "execution_count": null,
   "metadata": {},
   "outputs": [],
   "source": [
    "escolas = tabela[tabela['CO_GRUPO']==4004]\n",
    "\n",
    "escolas['QE_I17'] = escolas['QE_I17'].map({'A': 1, 'B': 2, 'C': 3, 'D': 1,'E': 2, 'F':3})\n",
    "escolas=escolas.loc[(escolas['QE_I17'].notnull())]\n",
    "plt.scatter( escolas.NT_GER, escolas.QE_I17 )\n",
    "plt.xlabel('Nota Geral')\n",
    "plt.ylabel('Tipo de escola do ensino medio')\n",
    "plt.show()\n",
    "\n",
    "escolas['NT_GER'].groupby(escolas['QE_I17']).describe()"
   ]
  },
  {
   "cell_type": "code",
   "execution_count": null,
   "metadata": {},
   "outputs": [],
   "source": [
    "# Verificar os resultados a partir da região do país\n",
    "\"\"\"\n",
    "N Nordeste\n",
    "S Sul\n",
    "SE Sudeste\n",
    "NE Nordeste\n",
    "CO Centro-Oeste\n",
    "\"\"\"\n",
    "#escola = tabela['QE_I17'].map({'A': 1, 'B': 2, 'C': 3, 'D': 4,'E': 5, 'F':6})\n",
    "#print(escola)\n",
    "ccomp['CO_REGIAO_CURSO'] = ccomp['CO_REGIAO_CURSO'].map({1 : 'N', 2 : 'NE', 3 : 'SE', 4 : 'S', 5 : 'CO'})\n",
    "ccomp=ccomp.loc[(ccomp['CO_REGIAO_CURSO'].notnull())]\n",
    "plt.scatter( ccomp.NT_GER, ccomp.CO_REGIAO_CURSO )\n",
    "plt.xlabel('Nota Geral')\n",
    "plt.ylabel('Regiao Curso')\n",
    "plt.show()\n",
    "#nota geral agrupada pela questão 05\n",
    "ccomp['NT_GER'].groupby(ccomp['CO_REGIAO_CURSO']).describe()\n",
    "\n"
   ]
  },
  {
   "cell_type": "code",
   "execution_count": null,
   "metadata": {},
   "outputs": [],
   "source": [
    "#nota geral agrupada pela questão 05\n",
    "tabela['CO_REGIAO_CURSO'] = tabela['CO_REGIAO_CURSO'].map({1 : 'N', 2 : 'NE', 3 : 'SE', 4 : 'S', 5 : 'CO'})\n",
    "tabela['NT_GER'].groupby(tabela['CO_REGIAO_CURSO']).describe()"
   ]
  },
  {
   "cell_type": "code",
   "execution_count": null,
   "metadata": {},
   "outputs": [],
   "source": [
    "#Como verificar se a média dos alunos do campo QE_I05 para todos os alunos são realmente diferentes\n",
    "qe05 = pandas.DataFrame(ccomp, columns=['NT_GER', 'CO_REGIAO_CURSO'])\n",
    "qe05.boxplot(by='CO_REGIAO_CURSO')"
   ]
  },
  {
   "cell_type": "code",
   "execution_count": null,
   "metadata": {},
   "outputs": [],
   "source": [
    "print(stats.shapiro(qe05.NT_GER.loc[qe05.CO_REGIAO_CURSO == 'N']))\n",
    "\n",
    "print(stats.shapiro(qe05.NT_GER.loc[qe05.CO_REGIAO_CURSO == 'S']))\n",
    "\n",
    "#a saída do teste é o valor W e o p-value\n",
    "#Considera-se que a suposição não é violada quando o p-value é maior que alpha, normalmente 0.05\n",
    "\n",
    "#pelo histograma, também é possível observar a distribuição dos dados. \n",
    "qe05.NT_GER.loc[qe05.CO_REGIAO_CURSO =='S'].hist()\n"
   ]
  },
  {
   "cell_type": "code",
   "execution_count": null,
   "metadata": {},
   "outputs": [],
   "source": [
    "qe05.NT_GER.loc[qe05.CO_REGIAO_CURSO =='N'].hist()"
   ]
  },
  {
   "cell_type": "code",
   "execution_count": null,
   "metadata": {},
   "outputs": [],
   "source": []
  }
 ],
 "metadata": {
  "kernelspec": {
   "display_name": "Python 3",
   "language": "python",
   "name": "python3"
  },
  "language_info": {
   "codemirror_mode": {
    "name": "ipython",
    "version": 2
   },
   "file_extension": ".py",
   "mimetype": "text/x-python",
   "name": "python",
   "nbconvert_exporter": "python",
   "pygments_lexer": "ipython2",
   "version": "2.7.15rc1"
  }
 },
 "nbformat": 4,
 "nbformat_minor": 2
}
