{
 "cells": [
  {
   "cell_type": "markdown",
   "metadata": {},
   "source": [
    "# Disciplina: Tópicos em Inteligência Computacional\n",
    "Instituto Federal do Norte de Minas Gerais Campus Montes Claros <br/>\n",
    "Curso: Ciência da Computação <br/>\n",
    "Professora: Luciana Balieiro Cosme<br/>\n",
    "**Aula 5: Exploração de outras bases de dados** <br/>"
   ]
  },
  {
   "cell_type": "markdown",
   "metadata": {},
   "source": [
    "**ENADE 2017**\n",
    "\n",
    "Segundo matéria abaixo, os resultados do ENADE 2017 foram apresentados:\n",
    "\n",
    "\"Os resultados do Exame Nacional de Desempenho de Estudantes (Enade) de 2017 foram apresentados pelo Ministério da Educação e pelo Instituto Nacional de Estudos e Pesquisas Educacionais Anísio Teixeira (Inep), em 9 de outubro, em Brasília (DF), juntamente com um perfil dos participantes da edição.\n",
    "\n",
    "...\n",
    "\n",
    "Além dos resultados nas provas, o Enade, por meio do Questionário do Estudante, permite traçar o perfil dos concluintes avaliados. A informação, combinada ao desempenho na prova, pode ajudar na definição de políticas públicas e também guiar melhorias das próprias instituições e cursos.\" \n",
    "\n",
    "http://portal.inep.gov.br/artigo/-/asset_publisher/B4AQV9zFY7Bv/content/mec-e-inep-divulgam-resultados-do-enade-2017-e-indicadores-de-qualidade-da-educacao-superior/21206\n",
    "\n",
    "**Para aprofundar a ánalise dos dados, os micradados do exame serão analisados nesta disciplina.** Podem ser baixados no link abaixo. Usaremos o ano de 2017.\n",
    "\n",
    "http://portal.inep.gov.br/web/guest/microdados\n"
   ]
  },
  {
   "cell_type": "code",
   "execution_count": 86,
   "metadata": {},
   "outputs": [
    {
     "data": {
      "text/plain": [
       "(537436, 150)"
      ]
     },
     "execution_count": 86,
     "metadata": {},
     "output_type": "execute_result"
    }
   ],
   "source": [
    "import pandas\n",
    "import matplotlib.pyplot as plt\n",
    "\n",
    "enade2017=pandas.read_csv(\"datasets/MICRODADOS_ENADE_2017.txt\", sep=';',dtype={\"DS_VT_ESC_OFG\": str, \n",
    "                                                                               'DS_VT_ESC_OCE':str,\n",
    "                                                                              'DS_VT_ACE_OCE':str,\n",
    "                                                                              'NT_GER':str,\n",
    "                                                                              'NT_FG':str,\n",
    "                                                                              'NT_OBJ_FG':str,\n",
    "                                                                              'NT_DIS_FG':str,\n",
    "                                                                              'NT_CE':str,\n",
    "                                                                              'NT_OBJ_CE':str,\n",
    "                                                                              'NT_DIS_CE':str})\n",
    "\n",
    "\n",
    "enade2017.shape"
   ]
  },
  {
   "cell_type": "code",
   "execution_count": 87,
   "metadata": {},
   "outputs": [
    {
     "data": {
      "text/plain": [
       "Index(['NU_ANO', 'CO_IES', 'CO_CATEGAD', 'CO_ORGACAD', 'CO_GRUPO', 'CO_CURSO',\n",
       "       'CO_MODALIDADE', 'CO_MUNIC_CURSO', 'CO_UF_CURSO', 'CO_REGIAO_CURSO',\n",
       "       ...\n",
       "       'QE_I72', 'QE_I73', 'QE_I74', 'QE_I75', 'QE_I76', 'QE_I77', 'QE_I78',\n",
       "       'QE_I79', 'QE_I80', 'QE_I81'],\n",
       "      dtype='object', length=150)"
      ]
     },
     "execution_count": 87,
     "metadata": {},
     "output_type": "execute_result"
    }
   ],
   "source": [
    "enade2017.columns[0:]"
   ]
  },
  {
   "cell_type": "code",
   "execution_count": 88,
   "metadata": {},
   "outputs": [
    {
     "data": {
      "text/html": [
       "<div>\n",
       "<style scoped>\n",
       "    .dataframe tbody tr th:only-of-type {\n",
       "        vertical-align: middle;\n",
       "    }\n",
       "\n",
       "    .dataframe tbody tr th {\n",
       "        vertical-align: top;\n",
       "    }\n",
       "\n",
       "    .dataframe thead th {\n",
       "        text-align: right;\n",
       "    }\n",
       "</style>\n",
       "<table border=\"1\" class=\"dataframe\">\n",
       "  <thead>\n",
       "    <tr style=\"text-align: right;\">\n",
       "      <th></th>\n",
       "      <th>NT_GER</th>\n",
       "      <th>CO_GRUPO</th>\n",
       "      <th>QE_I08</th>\n",
       "      <th>CO_IES</th>\n",
       "      <th>QE_I05</th>\n",
       "      <th>QE_I17</th>\n",
       "      <th>CO_REGIAO_CURSO</th>\n",
       "    </tr>\n",
       "  </thead>\n",
       "  <tbody>\n",
       "    <tr>\n",
       "      <th>0</th>\n",
       "      <td>52,6</td>\n",
       "      <td>5710</td>\n",
       "      <td>B</td>\n",
       "      <td>1</td>\n",
       "      <td>F</td>\n",
       "      <td>B</td>\n",
       "      <td>5</td>\n",
       "    </tr>\n",
       "    <tr>\n",
       "      <th>1</th>\n",
       "      <td>63,1</td>\n",
       "      <td>5710</td>\n",
       "      <td>B</td>\n",
       "      <td>1</td>\n",
       "      <td>D</td>\n",
       "      <td>A</td>\n",
       "      <td>5</td>\n",
       "    </tr>\n",
       "    <tr>\n",
       "      <th>2</th>\n",
       "      <td>33,7</td>\n",
       "      <td>5710</td>\n",
       "      <td>F</td>\n",
       "      <td>1</td>\n",
       "      <td>F</td>\n",
       "      <td>B</td>\n",
       "      <td>5</td>\n",
       "    </tr>\n",
       "    <tr>\n",
       "      <th>3</th>\n",
       "      <td>58,1</td>\n",
       "      <td>5710</td>\n",
       "      <td>B</td>\n",
       "      <td>1</td>\n",
       "      <td>D</td>\n",
       "      <td>A</td>\n",
       "      <td>5</td>\n",
       "    </tr>\n",
       "    <tr>\n",
       "      <th>4</th>\n",
       "      <td>46,3</td>\n",
       "      <td>5710</td>\n",
       "      <td>F</td>\n",
       "      <td>1</td>\n",
       "      <td>F</td>\n",
       "      <td>B</td>\n",
       "      <td>5</td>\n",
       "    </tr>\n",
       "    <tr>\n",
       "      <th>5</th>\n",
       "      <td>64,2</td>\n",
       "      <td>5710</td>\n",
       "      <td>C</td>\n",
       "      <td>1</td>\n",
       "      <td>B</td>\n",
       "      <td>A</td>\n",
       "      <td>5</td>\n",
       "    </tr>\n",
       "    <tr>\n",
       "      <th>6</th>\n",
       "      <td>41,4</td>\n",
       "      <td>5710</td>\n",
       "      <td>C</td>\n",
       "      <td>1</td>\n",
       "      <td>D</td>\n",
       "      <td>A</td>\n",
       "      <td>5</td>\n",
       "    </tr>\n",
       "    <tr>\n",
       "      <th>7</th>\n",
       "      <td>48,8</td>\n",
       "      <td>5710</td>\n",
       "      <td>C</td>\n",
       "      <td>1</td>\n",
       "      <td>E</td>\n",
       "      <td>B</td>\n",
       "      <td>5</td>\n",
       "    </tr>\n",
       "    <tr>\n",
       "      <th>8</th>\n",
       "      <td>52,9</td>\n",
       "      <td>5710</td>\n",
       "      <td>E</td>\n",
       "      <td>1</td>\n",
       "      <td>F</td>\n",
       "      <td>A</td>\n",
       "      <td>5</td>\n",
       "    </tr>\n",
       "    <tr>\n",
       "      <th>9</th>\n",
       "      <td>62,7</td>\n",
       "      <td>5710</td>\n",
       "      <td>C</td>\n",
       "      <td>1</td>\n",
       "      <td>D</td>\n",
       "      <td>B</td>\n",
       "      <td>5</td>\n",
       "    </tr>\n",
       "  </tbody>\n",
       "</table>\n",
       "</div>"
      ],
      "text/plain": [
       "  NT_GER  CO_GRUPO QE_I08  CO_IES QE_I05 QE_I17  CO_REGIAO_CURSO\n",
       "0   52,6      5710      B       1      F      B                5\n",
       "1   63,1      5710      B       1      D      A                5\n",
       "2   33,7      5710      F       1      F      B                5\n",
       "3   58,1      5710      B       1      D      A                5\n",
       "4   46,3      5710      F       1      F      B                5\n",
       "5   64,2      5710      C       1      B      A                5\n",
       "6   41,4      5710      C       1      D      A                5\n",
       "7   48,8      5710      C       1      E      B                5\n",
       "8   52,9      5710      E       1      F      A                5\n",
       "9   62,7      5710      C       1      D      B                5"
      ]
     },
     "execution_count": 88,
     "metadata": {},
     "output_type": "execute_result"
    }
   ],
   "source": [
    "'''\n",
    "nota geral: 0-98 \n",
    "questão08: Qual a renda total de sua família, incluindo seus rendimentos?\n",
    "A = Até 1,5 salário mínimo (até R$ 1.405,50).\n",
    "B = De 1,5 a 3 salários mínimos (R$ 1.405,51 a R$ 2.811,00).\n",
    "C = De 3 a 4,5 salários mínimos (R$ 2.811,01 a R$ 4.216,50).\n",
    "D = De 4,5 a 6 salários mínimos (R$ 4.216,51 a R$ 5.622,00).\n",
    "E = De 6 a 10 salários mínimos (R$ 5. 622,01 a R$ 9.370,00).\n",
    "F = De 10 a 30 salários mínimos (R$ 9.370,01 a R$ 28.110,00).\n",
    "G = Acima de 30 salários mínimos (mais de R$ 28.110,00).\n",
    "\n",
    "i05 escolaridade da mae\n",
    "A = Nenhuma.\n",
    "B = Ensino fundamental: 1º ao 5º ano (1ª a 4ª série).\n",
    "C = Ensino fundamental: 6º ao 9º ano (5ª a 8ª série).\n",
    "D = Ensino médio.\n",
    "E = Ensino Superior - Graduação.\n",
    "F = Pós-graduação.\n",
    "\n",
    "'''\n",
    "\n",
    "tabela = pandas.DataFrame(enade2017, columns=['NT_GER', 'CO_GRUPO', 'QE_I08', 'CO_IES', 'QE_I05', 'QE_I17', 'CO_REGIAO_CURSO'])\n",
    "tabela.head(10)"
   ]
  },
  {
   "cell_type": "code",
   "execution_count": 89,
   "metadata": {},
   "outputs": [
    {
     "name": "stdout",
     "output_type": "stream",
     "text": [
      "0         52.6\n",
      "1         63.1\n",
      "2         33.7\n",
      "3         58.1\n",
      "4         46.3\n",
      "5         64.2\n",
      "6         41.4\n",
      "7         48.8\n",
      "8         52.9\n",
      "9         62.7\n",
      "10        51.9\n",
      "11        58.4\n",
      "12        77.7\n",
      "13        37.5\n",
      "14        66.4\n",
      "15        71.5\n",
      "16        57.8\n",
      "17        62.7\n",
      "18        75.1\n",
      "19        50.5\n",
      "20        46.1\n",
      "21        44.1\n",
      "22        47.9\n",
      "23        55.1\n",
      "24        73.5\n",
      "25        60.4\n",
      "26        62.7\n",
      "27        49.5\n",
      "28        44.9\n",
      "29        27.7\n",
      "          ... \n",
      "537406     NaN\n",
      "537407     NaN\n",
      "537408     NaN\n",
      "537409     NaN\n",
      "537410     NaN\n",
      "537411     NaN\n",
      "537412     NaN\n",
      "537413     NaN\n",
      "537414     NaN\n",
      "537415     NaN\n",
      "537416     NaN\n",
      "537417     NaN\n",
      "537418     NaN\n",
      "537419     NaN\n",
      "537420     NaN\n",
      "537421     NaN\n",
      "537422     NaN\n",
      "537423     NaN\n",
      "537424     NaN\n",
      "537425     NaN\n",
      "537426     NaN\n",
      "537427     NaN\n",
      "537428     NaN\n",
      "537429     NaN\n",
      "537430     NaN\n",
      "537431     NaN\n",
      "537432     NaN\n",
      "537433     NaN\n",
      "537434     NaN\n",
      "537435     NaN\n",
      "Name: NT_GER, Length: 537436, dtype: object\n"
     ]
    }
   ],
   "source": [
    "##limpeza dos dados\n",
    "\n",
    "#substitui vírgula por ponto\n",
    "tabela['NT_GER'] = tabela['NT_GER'].str.replace(',', '.')\n",
    "print (tabela['NT_GER'])\n",
    "\n",
    "#observe os NaN (not a number)"
   ]
  },
  {
   "cell_type": "code",
   "execution_count": 90,
   "metadata": {},
   "outputs": [
    {
     "name": "stdout",
     "output_type": "stream",
     "text": [
      "0         52.6\n",
      "1         63.1\n",
      "2         33.7\n",
      "3         58.1\n",
      "4         46.3\n",
      "5         64.2\n",
      "6         41.4\n",
      "7         48.8\n",
      "8         52.9\n",
      "9         62.7\n",
      "10        51.9\n",
      "11        58.4\n",
      "12        77.7\n",
      "13        37.5\n",
      "14        66.4\n",
      "15        71.5\n",
      "16        57.8\n",
      "17        62.7\n",
      "18        75.1\n",
      "19        50.5\n",
      "20        46.1\n",
      "21        44.1\n",
      "22        47.9\n",
      "23        55.1\n",
      "24        73.5\n",
      "25        60.4\n",
      "26        62.7\n",
      "27        49.5\n",
      "28        44.9\n",
      "29        27.7\n",
      "          ... \n",
      "534887    43.8\n",
      "534888    46.9\n",
      "534890    48.2\n",
      "534891    49.6\n",
      "534892    63.2\n",
      "534893    31.9\n",
      "534895    71.5\n",
      "534896    59.6\n",
      "534897    15.1\n",
      "534898    44.7\n",
      "534900    30.8\n",
      "534901    16.3\n",
      "534902    66.3\n",
      "534903    34.9\n",
      "534904    71.9\n",
      "534905    56.0\n",
      "534906    45.9\n",
      "534907    43.3\n",
      "534908    68.4\n",
      "534909    39.3\n",
      "534910    69.6\n",
      "534911    53.8\n",
      "534912    15.2\n",
      "534913    59.8\n",
      "534914    42.7\n",
      "534915    35.6\n",
      "534916    66.1\n",
      "534917    70.2\n",
      "534918    51.9\n",
      "534919    52.8\n",
      "Name: NT_GER, Length: 449932, dtype: float64\n",
      "43.52396851079471\n"
     ]
    }
   ],
   "source": [
    "'''No arquivo 'Dicionário de variáveis dos Microdados do Enade_Edição 2017' descreve que:\n",
    "o codigo 222 no campo TP_PR_GER significa ausente \n",
    "556 e 888 são participações desconsideradas.\n",
    "Portanto, algumas notas podem ser desconsideradas dependendo do seu objetivo, \n",
    "e aqui, será de calcular a média daqueles que fizeram a prova.\n",
    "'''\n",
    "tabela=tabela.loc[(tabela['NT_GER'].notnull())]\n",
    "#print(tabela['NT_GER'])\n",
    "#converte de str para float\n",
    "tabela['NT_GER'] = pandas.to_numeric(tabela['NT_GER'])\n",
    "print(tabela['NT_GER'])\n",
    "print(tabela['NT_GER'].mean())\n"
   ]
  },
  {
   "cell_type": "code",
   "execution_count": 91,
   "metadata": {},
   "outputs": [
    {
     "data": {
      "text/plain": [
       "count    449932.000000\n",
       "mean         43.523969\n",
       "std          14.080110\n",
       "min           0.000000\n",
       "25%          33.400000\n",
       "50%          42.900000\n",
       "75%          53.100000\n",
       "max          98.100000\n",
       "Name: NT_GER, dtype: float64"
      ]
     },
     "execution_count": 91,
     "metadata": {},
     "output_type": "execute_result"
    }
   ],
   "source": [
    "tabela['NT_GER'].describe()"
   ]
  },
  {
   "cell_type": "code",
   "execution_count": 92,
   "metadata": {},
   "outputs": [
    {
     "name": "stdout",
     "output_type": "stream",
     "text": [
      "indice da primeira maior nota:  72257\n",
      "Maior nota:  98.1\n"
     ]
    }
   ],
   "source": [
    "#outros comandos\n",
    "print('indice da primeira maior nota: ', tabela['NT_GER'].idxmax())\n",
    "print('Maior nota: ', tabela['NT_GER'][72257])\n",
    "#print(tabela['NT_GER'].idxmax())"
   ]
  },
  {
   "cell_type": "code",
   "execution_count": 93,
   "metadata": {},
   "outputs": [
    {
     "name": "stdout",
     "output_type": "stream",
     "text": [
      "        NT_GER  CO_GRUPO QE_I08  CO_IES QE_I05 QE_I17  CO_REGIAO_CURSO\n",
      "383       58.7      4004      E       1      F      A                5\n",
      "384       49.8      4004      C       1      C      A                5\n",
      "386       40.1      4004      C       1      D      A                5\n",
      "387       53.2      4004      B       1      B      A                5\n",
      "388       52.4      4004      B       1      F      B                5\n",
      "389       22.4      4004      F       1      D      E                5\n",
      "390       53.3      4004      E       1      D      B                5\n",
      "391       44.4      4004      B       1      D      A                5\n",
      "392       66.0      4004      D       1      C      A                5\n",
      "393       36.5      4004      B       1      E      B                5\n",
      "394       32.1      4004      D       1      E      A                5\n",
      "395       23.0      4004      E       1      F      B                5\n",
      "396       55.8      4004      F       1      F      D                5\n",
      "397       35.5      4004      D       1      B      A                5\n",
      "398       39.5      4004      B       1      D      A                5\n",
      "399       68.3      4004      D       1      D      B                5\n",
      "400       46.5      4004      C       1      D      B                5\n",
      "401       39.1      4004      F       1      E      B                5\n",
      "402       25.4      4004      B       1      C      A                5\n",
      "403       36.0      4004      C       1      F      E                5\n",
      "404       54.9      4004      B       1      D      A                5\n",
      "405       61.9      4004      E       1      C      D                5\n",
      "450       43.3      4004      F       2      F      B                5\n",
      "451       50.6      4004    NaN       2    NaN    NaN                5\n",
      "452       62.8      4004      F       2      F      B                5\n",
      "453       42.7      4004      E       2      D      B                5\n",
      "454       51.5      4004    NaN       2    NaN    NaN                5\n",
      "455       79.9      4004      F       2      F      B                5\n",
      "457       73.9      4004      E       2      F      B                5\n",
      "458       51.8      4004      D       2      C      B                5\n",
      "...        ...       ...    ...     ...    ...    ...              ...\n",
      "534350    36.6      4004      D    2911      E      A                1\n",
      "534351    43.2      4004      B    2911      B      A                1\n",
      "534352    35.9      4004      B    2911      F      A                1\n",
      "534353    35.2      4004      A    2911      D      B                1\n",
      "534354    32.1      4004      A    2911      D      A                1\n",
      "534355    40.6      4004      A    2911      C      A                1\n",
      "534356    38.9      4004      C    2911      C      A                1\n",
      "534358    35.3      4004      A    2911      E      A                1\n",
      "534359    36.0      4004      B    2911      E      A                1\n",
      "534360    39.8      4004      A    2911      D      A                1\n",
      "534361    35.4      4004      A    2911      D      A                1\n",
      "534362    32.4      4004      A    2911      D      A                1\n",
      "534363    33.2      4004      A    2911      D      A                1\n",
      "534364    30.7      4004      B    2911      D      A                1\n",
      "534365    16.2      4004      A    2911      C      A                1\n",
      "534367    30.1      4004      A    2911      D      A                1\n",
      "534368    35.1      4004      A    2911      D      A                1\n",
      "534369    26.0      4004      B    2911      D      A                1\n",
      "534370    27.7      4004      A    2911      C      A                1\n",
      "534371    44.2      4004      E    2911      F      A                1\n",
      "534372    33.7      4004      A    2911      D      A                1\n",
      "534373    19.6      4004      A    2911      D      A                1\n",
      "534374    34.6      4004      A    2911      C      A                1\n",
      "534375    27.4      4004      A    2911      D      A                1\n",
      "534376    18.1      4004      B    2911      E      A                1\n",
      "534377    35.7      4004      B    2911      C      A                1\n",
      "534378    33.3      4004      B    2911      D      A                1\n",
      "534380    26.6      4004      A    2911      D      E                1\n",
      "534381    28.7      4004      B    2911      C      A                1\n",
      "534382    32.5      4004      B    2911      D      A                1\n",
      "\n",
      "[8489 rows x 7 columns]\n"
     ]
    }
   ],
   "source": [
    "#Calcula a média de um curso especifico\n",
    "#Código da área de enquadramento do curso no Enade == ciencia da computacao\n",
    "\n",
    "ccomp = tabela[tabela['CO_GRUPO']==4004]\n",
    "\n",
    "print(ccomp)"
   ]
  },
  {
   "cell_type": "code",
   "execution_count": 94,
   "metadata": {},
   "outputs": [
    {
     "data": {
      "text/plain": [
       "count    8489.000000\n",
       "mean       43.262775\n",
       "std        13.633212\n",
       "min         0.000000\n",
       "25%        33.700000\n",
       "50%        42.300000\n",
       "75%        52.400000\n",
       "max        95.100000\n",
       "Name: NT_GER, dtype: float64"
      ]
     },
     "execution_count": 94,
     "metadata": {},
     "output_type": "execute_result"
    }
   ],
   "source": [
    "ccomp['NT_GER'].describe()"
   ]
  },
  {
   "cell_type": "code",
   "execution_count": 95,
   "metadata": {},
   "outputs": [
    {
     "data": {
      "text/html": [
       "<div>\n",
       "<style scoped>\n",
       "    .dataframe tbody tr th:only-of-type {\n",
       "        vertical-align: middle;\n",
       "    }\n",
       "\n",
       "    .dataframe tbody tr th {\n",
       "        vertical-align: top;\n",
       "    }\n",
       "\n",
       "    .dataframe thead th {\n",
       "        text-align: right;\n",
       "    }\n",
       "</style>\n",
       "<table border=\"1\" class=\"dataframe\">\n",
       "  <thead>\n",
       "    <tr style=\"text-align: right;\">\n",
       "      <th></th>\n",
       "      <th>NT_GER</th>\n",
       "      <th>CO_GRUPO</th>\n",
       "      <th>CO_IES</th>\n",
       "      <th>CO_REGIAO_CURSO</th>\n",
       "    </tr>\n",
       "  </thead>\n",
       "  <tbody>\n",
       "    <tr>\n",
       "      <th>count</th>\n",
       "      <td>6.000000</td>\n",
       "      <td>6.0</td>\n",
       "      <td>6.0</td>\n",
       "      <td>6.0</td>\n",
       "    </tr>\n",
       "    <tr>\n",
       "      <th>mean</th>\n",
       "      <td>52.883333</td>\n",
       "      <td>4004.0</td>\n",
       "      <td>3188.0</td>\n",
       "      <td>3.0</td>\n",
       "    </tr>\n",
       "    <tr>\n",
       "      <th>std</th>\n",
       "      <td>8.564442</td>\n",
       "      <td>0.0</td>\n",
       "      <td>0.0</td>\n",
       "      <td>0.0</td>\n",
       "    </tr>\n",
       "    <tr>\n",
       "      <th>min</th>\n",
       "      <td>40.300000</td>\n",
       "      <td>4004.0</td>\n",
       "      <td>3188.0</td>\n",
       "      <td>3.0</td>\n",
       "    </tr>\n",
       "    <tr>\n",
       "      <th>25%</th>\n",
       "      <td>48.325000</td>\n",
       "      <td>4004.0</td>\n",
       "      <td>3188.0</td>\n",
       "      <td>3.0</td>\n",
       "    </tr>\n",
       "    <tr>\n",
       "      <th>50%</th>\n",
       "      <td>53.450000</td>\n",
       "      <td>4004.0</td>\n",
       "      <td>3188.0</td>\n",
       "      <td>3.0</td>\n",
       "    </tr>\n",
       "    <tr>\n",
       "      <th>75%</th>\n",
       "      <td>58.875000</td>\n",
       "      <td>4004.0</td>\n",
       "      <td>3188.0</td>\n",
       "      <td>3.0</td>\n",
       "    </tr>\n",
       "    <tr>\n",
       "      <th>max</th>\n",
       "      <td>62.800000</td>\n",
       "      <td>4004.0</td>\n",
       "      <td>3188.0</td>\n",
       "      <td>3.0</td>\n",
       "    </tr>\n",
       "  </tbody>\n",
       "</table>\n",
       "</div>"
      ],
      "text/plain": [
       "          NT_GER  CO_GRUPO  CO_IES  CO_REGIAO_CURSO\n",
       "count   6.000000       6.0     6.0              6.0\n",
       "mean   52.883333    4004.0  3188.0              3.0\n",
       "std     8.564442       0.0     0.0              0.0\n",
       "min    40.300000    4004.0  3188.0              3.0\n",
       "25%    48.325000    4004.0  3188.0              3.0\n",
       "50%    53.450000    4004.0  3188.0              3.0\n",
       "75%    58.875000    4004.0  3188.0              3.0\n",
       "max    62.800000    4004.0  3188.0              3.0"
      ]
     },
     "execution_count": 95,
     "metadata": {},
     "output_type": "execute_result"
    }
   ],
   "source": [
    "#do curso do IFNMG\n",
    "ifccomp = ccomp[ccomp['CO_IES']==3188]\n",
    "ifccomp.describe()"
   ]
  },
  {
   "cell_type": "code",
   "execution_count": 96,
   "metadata": {},
   "outputs": [
    {
     "data": {
      "text/plain": [
       "count    8408.000000\n",
       "mean       43.324619\n",
       "std        13.626419\n",
       "min         0.000000\n",
       "25%        33.800000\n",
       "50%        42.300000\n",
       "75%        52.500000\n",
       "max        95.100000\n",
       "Name: NT_GER, dtype: float64"
      ]
     },
     "execution_count": 96,
     "metadata": {},
     "output_type": "execute_result"
    }
   ],
   "source": [
    "#somente as notas de quem respondeu a questão sobre a renda\n",
    "ccomp=ccomp.loc[(ccomp['QE_I08'].notnull())]\n",
    "ccomp.NT_GER.describe()"
   ]
  },
  {
   "cell_type": "code",
   "execution_count": 97,
   "metadata": {},
   "outputs": [
    {
     "data": {
      "text/plain": [
       "count    8408.000000\n",
       "mean       43.324619\n",
       "std        13.626419\n",
       "min         0.000000\n",
       "25%        33.800000\n",
       "50%        42.300000\n",
       "75%        52.500000\n",
       "max        95.100000\n",
       "Name: NT_GER, dtype: float64"
      ]
     },
     "execution_count": 97,
     "metadata": {},
     "output_type": "execute_result"
    }
   ],
   "source": [
    "ccomp=ccomp.loc[(ccomp['QE_I05'].notnull())]\n",
    "ccomp.NT_GER.describe()"
   ]
  },
  {
   "cell_type": "code",
   "execution_count": 98,
   "metadata": {},
   "outputs": [
    {
     "data": {
      "text/plain": [
       "383    5\n",
       "384    3\n",
       "386    3\n",
       "387    2\n",
       "388    2\n",
       "389    6\n",
       "390    5\n",
       "391    2\n",
       "392    4\n",
       "393    2\n",
       "Name: QE_I08, dtype: int64"
      ]
     },
     "execution_count": 98,
     "metadata": {},
     "output_type": "execute_result"
    }
   ],
   "source": [
    "ccomp.QE_I08.head(10)\n",
    "\n",
    "ccomp['QE_I08'] = ccomp['QE_I08'].map({'A': 1, 'B': 2, 'C': 3, 'D': 4,'E': 5, 'F':6,'G':7})\n",
    "\n",
    "ccomp.QE_I08.head(10)"
   ]
  },
  {
   "cell_type": "code",
   "execution_count": 99,
   "metadata": {},
   "outputs": [
    {
     "data": {
      "image/png": "[encoded data removed]",
      "text/plain": [
       "<Figure size 432x288 with 1 Axes>"
      ]
     },
     "metadata": {},
     "output_type": "display_data"
    }
   ],
   "source": [
    "import matplotlib.pyplot as plt\n",
    "#visualmente\n",
    "plt.scatter( ccomp.NT_GER, ccomp.QE_I08)\n",
    "plt.ylabel('Faixa de renda')\n",
    "plt.xlabel('Nota do curso de C. da Comp.')\n",
    "plt.show()"
   ]
  },
  {
   "cell_type": "code",
   "execution_count": 100,
   "metadata": {},
   "outputs": [
    {
     "data": {
      "text/plain": [
       "383    6\n",
       "384    3\n",
       "386    4\n",
       "387    2\n",
       "388    6\n",
       "389    4\n",
       "390    4\n",
       "391    4\n",
       "392    3\n",
       "393    5\n",
       "Name: QE_I05, dtype: int64"
      ]
     },
     "execution_count": 100,
     "metadata": {},
     "output_type": "execute_result"
    }
   ],
   "source": [
    "ccomp.QE_I05 = ccomp['QE_I05'].map({'A': 1, 'B': 2, 'C': 3, 'D': 4,'E': 5, 'F':6})\n",
    "\n",
    "ccomp.QE_I05.head(10)"
   ]
  },
  {
   "cell_type": "code",
   "execution_count": 101,
   "metadata": {},
   "outputs": [
    {
     "data": {
      "image/png": "[encoded data removed]",
      "text/plain": [
       "<Figure size 432x288 with 1 Axes>"
      ]
     },
     "metadata": {},
     "output_type": "display_data"
    }
   ],
   "source": [
    "#visualmente\n",
    "plt.scatter( ccomp.NT_GER, ccomp.QE_I05)\n",
    "plt.ylabel('Escolaridade da mãe')\n",
    "plt.xlabel('Nota do curso de C. da Comp.')\n",
    "plt.show()\n"
   ]
  },
  {
   "cell_type": "code",
   "execution_count": 102,
   "metadata": {},
   "outputs": [
    {
     "data": {
      "text/plain": [
       "count    112.000000\n",
       "mean      38.037500\n",
       "std       12.315676\n",
       "min       10.700000\n",
       "25%       30.725000\n",
       "50%       36.000000\n",
       "75%       46.600000\n",
       "max       66.300000\n",
       "Name: NT_GER, dtype: float64"
      ]
     },
     "execution_count": 102,
     "metadata": {},
     "output_type": "execute_result"
    }
   ],
   "source": [
    "escolaridade = ccomp.loc[ccomp.QE_I05 ==1]\n",
    "escolaridade.NT_GER.describe()"
   ]
  },
  {
   "cell_type": "markdown",
   "metadata": {},
   "source": [
    "**Links utilizados:**\n",
    "\n",
    "http://portal.inep.gov.br/artigo/-/asset_publisher/B4AQV9zFY7Bv/content/mec-e-inep-divulgam-resultados-do-enade-2017-e-indicadores-de-qualidade-da-educacao-superior/21206\n",
    "\n",
    "http://portal.inep.gov.br/web/guest/microdados\n",
    "\n",
    "https://paulovasconcellos.com.br/28-comandos-%C3%BAteis-de-pandas-que-talvez-voc%C3%AA-n%C3%A3o-conhe%C3%A7a-6ab64beefa93"
   ]
  },
  {
   "cell_type": "code",
   "execution_count": 103,
   "metadata": {},
   "outputs": [
    {
     "data": {
      "image/png": "[encoded data removed]",
      "text/plain": [
       "<Figure size 432x288 with 1 Axes>"
      ]
     },
     "metadata": {},
     "output_type": "display_data"
    }
   ],
   "source": [
    "# Verificar o impacto do ensino médio no ensino superior\n",
    "\"\"\"\n",
    "A = Todo em escola pública.\n",
    "B = Todo em escola privada (particular).\n",
    "C = Todo no exterior.\n",
    "D = A maior parte em escola pública.\n",
    "E = A maior parte em escola privada (particular).\n",
    "F = Parte no Brasil e parte no exterior.\n",
    "\"\"\"\n",
    "#escola = tabela['QE_I17'].map({'A': 1, 'B': 2, 'C': 3, 'D': 4,'E': 5, 'F':6})\n",
    "#print(escola)\n",
    "ccomp['QE_I17'] = ccomp['QE_I17'].map({'A': 1, 'B': 2, 'C': 3, 'D': 4,'E': 5, 'F':6})\n",
    "ccomp=ccomp.loc[(ccomp['QE_I17'].notnull())]\n",
    "plt.scatter( ccomp.NT_GER, ccomp.QE_I17 )\n",
    "plt.xlabel('Nota Geral')\n",
    "plt.ylabel('Tipo de escola do ensino medio')\n",
    "plt.show()\n"
   ]
  },
  {
   "cell_type": "code",
   "execution_count": 104,
   "metadata": {},
   "outputs": [
    {
     "data": {
      "image/png": "[encoded data removed]",
      "text/plain": [
       "<Figure size 432x288 with 1 Axes>"
      ]
     },
     "metadata": {},
     "output_type": "display_data"
    },
    {
     "data": {
      "text/html": [
       "<div>\n",
       "<style scoped>\n",
       "    .dataframe tbody tr th:only-of-type {\n",
       "        vertical-align: middle;\n",
       "    }\n",
       "\n",
       "    .dataframe tbody tr th {\n",
       "        vertical-align: top;\n",
       "    }\n",
       "\n",
       "    .dataframe thead th {\n",
       "        text-align: right;\n",
       "    }\n",
       "</style>\n",
       "<table border=\"1\" class=\"dataframe\">\n",
       "  <thead>\n",
       "    <tr style=\"text-align: right;\">\n",
       "      <th></th>\n",
       "      <th>count</th>\n",
       "      <th>mean</th>\n",
       "      <th>std</th>\n",
       "      <th>min</th>\n",
       "      <th>25%</th>\n",
       "      <th>50%</th>\n",
       "      <th>75%</th>\n",
       "      <th>max</th>\n",
       "    </tr>\n",
       "    <tr>\n",
       "      <th>CO_REGIAO_CURSO</th>\n",
       "      <th></th>\n",
       "      <th></th>\n",
       "      <th></th>\n",
       "      <th></th>\n",
       "      <th></th>\n",
       "      <th></th>\n",
       "      <th></th>\n",
       "      <th></th>\n",
       "    </tr>\n",
       "  </thead>\n",
       "  <tbody>\n",
       "    <tr>\n",
       "      <th>CO</th>\n",
       "      <td>607.0</td>\n",
       "      <td>41.387974</td>\n",
       "      <td>13.659021</td>\n",
       "      <td>0.0</td>\n",
       "      <td>32.10</td>\n",
       "      <td>41.1</td>\n",
       "      <td>51.1</td>\n",
       "      <td>79.9</td>\n",
       "    </tr>\n",
       "    <tr>\n",
       "      <th>N</th>\n",
       "      <td>413.0</td>\n",
       "      <td>38.421792</td>\n",
       "      <td>12.378746</td>\n",
       "      <td>6.1</td>\n",
       "      <td>29.70</td>\n",
       "      <td>37.0</td>\n",
       "      <td>45.1</td>\n",
       "      <td>76.6</td>\n",
       "    </tr>\n",
       "    <tr>\n",
       "      <th>NE</th>\n",
       "      <td>1615.0</td>\n",
       "      <td>44.043096</td>\n",
       "      <td>13.429269</td>\n",
       "      <td>0.0</td>\n",
       "      <td>34.65</td>\n",
       "      <td>43.3</td>\n",
       "      <td>52.6</td>\n",
       "      <td>93.9</td>\n",
       "    </tr>\n",
       "    <tr>\n",
       "      <th>S</th>\n",
       "      <td>1587.0</td>\n",
       "      <td>46.289351</td>\n",
       "      <td>13.732373</td>\n",
       "      <td>0.0</td>\n",
       "      <td>36.80</td>\n",
       "      <td>45.8</td>\n",
       "      <td>55.6</td>\n",
       "      <td>86.5</td>\n",
       "    </tr>\n",
       "    <tr>\n",
       "      <th>SE</th>\n",
       "      <td>4186.0</td>\n",
       "      <td>42.687984</td>\n",
       "      <td>13.528741</td>\n",
       "      <td>0.0</td>\n",
       "      <td>33.30</td>\n",
       "      <td>41.5</td>\n",
       "      <td>51.9</td>\n",
       "      <td>95.1</td>\n",
       "    </tr>\n",
       "  </tbody>\n",
       "</table>\n",
       "</div>"
      ],
      "text/plain": [
       "                  count       mean        std  min    25%   50%   75%   max\n",
       "CO_REGIAO_CURSO                                                            \n",
       "CO                607.0  41.387974  13.659021  0.0  32.10  41.1  51.1  79.9\n",
       "N                 413.0  38.421792  12.378746  6.1  29.70  37.0  45.1  76.6\n",
       "NE               1615.0  44.043096  13.429269  0.0  34.65  43.3  52.6  93.9\n",
       "S                1587.0  46.289351  13.732373  0.0  36.80  45.8  55.6  86.5\n",
       "SE               4186.0  42.687984  13.528741  0.0  33.30  41.5  51.9  95.1"
      ]
     },
     "execution_count": 104,
     "metadata": {},
     "output_type": "execute_result"
    }
   ],
   "source": [
    "# Verificar os resultados a partir da região do país\n",
    "\"\"\"\n",
    "N Nordeste\n",
    "S Sul\n",
    "SE Sudeste\n",
    "NE Nordeste\n",
    "CO Centro-Oeste\n",
    "\"\"\"\n",
    "#escola = tabela['QE_I17'].map({'A': 1, 'B': 2, 'C': 3, 'D': 4,'E': 5, 'F':6})\n",
    "#print(escola)\n",
    "ccomp['CO_REGIAO_CURSO'] = ccomp['CO_REGIAO_CURSO'].map({1 : 'N', 2 : 'NE', 3 : 'SE', 4 : 'S', 5 : 'CO'})\n",
    "ccomp=ccomp.loc[(ccomp['CO_REGIAO_CURSO'].notnull())]\n",
    "plt.scatter( ccomp.NT_GER, ccomp.CO_REGIAO_CURSO )\n",
    "plt.xlabel('Nota Geral')\n",
    "plt.ylabel('Regiao Curso')\n",
    "plt.show()\n",
    "#nota geral agrupada pela questão 05\n",
    "ccomp['NT_GER'].groupby(ccomp['CO_REGIAO_CURSO']).describe()\n",
    "\n"
   ]
  },
  {
   "cell_type": "code",
   "execution_count": 105,
   "metadata": {},
   "outputs": [
    {
     "data": {
      "text/html": [
       "<div>\n",
       "<style scoped>\n",
       "    .dataframe tbody tr th:only-of-type {\n",
       "        vertical-align: middle;\n",
       "    }\n",
       "\n",
       "    .dataframe tbody tr th {\n",
       "        vertical-align: top;\n",
       "    }\n",
       "\n",
       "    .dataframe thead th {\n",
       "        text-align: right;\n",
       "    }\n",
       "</style>\n",
       "<table border=\"1\" class=\"dataframe\">\n",
       "  <thead>\n",
       "    <tr style=\"text-align: right;\">\n",
       "      <th></th>\n",
       "      <th>count</th>\n",
       "      <th>mean</th>\n",
       "      <th>std</th>\n",
       "      <th>min</th>\n",
       "      <th>25%</th>\n",
       "      <th>50%</th>\n",
       "      <th>75%</th>\n",
       "      <th>max</th>\n",
       "    </tr>\n",
       "    <tr>\n",
       "      <th>CO_REGIAO_CURSO</th>\n",
       "      <th></th>\n",
       "      <th></th>\n",
       "      <th></th>\n",
       "      <th></th>\n",
       "      <th></th>\n",
       "      <th></th>\n",
       "      <th></th>\n",
       "      <th></th>\n",
       "    </tr>\n",
       "  </thead>\n",
       "  <tbody>\n",
       "    <tr>\n",
       "      <th>CO</th>\n",
       "      <td>33983.0</td>\n",
       "      <td>42.219242</td>\n",
       "      <td>14.034614</td>\n",
       "      <td>0.0</td>\n",
       "      <td>32.1</td>\n",
       "      <td>41.6</td>\n",
       "      <td>51.9</td>\n",
       "      <td>92.3</td>\n",
       "    </tr>\n",
       "    <tr>\n",
       "      <th>N</th>\n",
       "      <td>30173.0</td>\n",
       "      <td>39.985593</td>\n",
       "      <td>13.125199</td>\n",
       "      <td>0.0</td>\n",
       "      <td>30.6</td>\n",
       "      <td>39.4</td>\n",
       "      <td>48.8</td>\n",
       "      <td>93.2</td>\n",
       "    </tr>\n",
       "    <tr>\n",
       "      <th>NE</th>\n",
       "      <td>80074.0</td>\n",
       "      <td>42.983184</td>\n",
       "      <td>13.944656</td>\n",
       "      <td>0.0</td>\n",
       "      <td>33.0</td>\n",
       "      <td>42.4</td>\n",
       "      <td>52.4</td>\n",
       "      <td>98.1</td>\n",
       "    </tr>\n",
       "    <tr>\n",
       "      <th>S</th>\n",
       "      <td>97242.0</td>\n",
       "      <td>44.143470</td>\n",
       "      <td>14.138741</td>\n",
       "      <td>0.0</td>\n",
       "      <td>34.0</td>\n",
       "      <td>43.6</td>\n",
       "      <td>53.9</td>\n",
       "      <td>97.0</td>\n",
       "    </tr>\n",
       "    <tr>\n",
       "      <th>SE</th>\n",
       "      <td>208460.0</td>\n",
       "      <td>44.167560</td>\n",
       "      <td>14.146129</td>\n",
       "      <td>0.0</td>\n",
       "      <td>34.1</td>\n",
       "      <td>43.6</td>\n",
       "      <td>53.8</td>\n",
       "      <td>96.4</td>\n",
       "    </tr>\n",
       "  </tbody>\n",
       "</table>\n",
       "</div>"
      ],
      "text/plain": [
       "                    count       mean        std  min   25%   50%   75%   max\n",
       "CO_REGIAO_CURSO                                                             \n",
       "CO                33983.0  42.219242  14.034614  0.0  32.1  41.6  51.9  92.3\n",
       "N                 30173.0  39.985593  13.125199  0.0  30.6  39.4  48.8  93.2\n",
       "NE                80074.0  42.983184  13.944656  0.0  33.0  42.4  52.4  98.1\n",
       "S                 97242.0  44.143470  14.138741  0.0  34.0  43.6  53.9  97.0\n",
       "SE               208460.0  44.167560  14.146129  0.0  34.1  43.6  53.8  96.4"
      ]
     },
     "execution_count": 105,
     "metadata": {},
     "output_type": "execute_result"
    }
   ],
   "source": [
    "#nota geral agrupada pela questão 05\n",
    "tabela['CO_REGIAO_CURSO'] = tabela['CO_REGIAO_CURSO'].map({1 : 'N', 2 : 'NE', 3 : 'SE', 4 : 'S', 5 : 'CO'})\n",
    "tabela['NT_GER'].groupby(tabela['CO_REGIAO_CURSO']).describe()"
   ]
  },
  {
   "cell_type": "code",
   "execution_count": 106,
   "metadata": {},
   "outputs": [
    {
     "data": {
      "text/plain": [
       "<matplotlib.axes._subplots.AxesSubplot at 0x27119965f28>"
      ]
     },
     "execution_count": 106,
     "metadata": {},
     "output_type": "execute_result"
    },
    {
     "data": {
      "image/png": "[encoded data removed]",
      "text/plain": [
       "<Figure size 432x288 with 1 Axes>"
      ]
     },
     "metadata": {},
     "output_type": "display_data"
    }
   ],
   "source": [
    "#Como verificar se a média dos alunos do campo QE_I05 para todos os alunos são realmente diferentes\n",
    "qe05 = pandas.DataFrame(ccomp, columns=['NT_GER', 'CO_REGIAO_CURSO'])\n",
    "qe05.boxplot(by='CO_REGIAO_CURSO')"
   ]
  },
  {
   "cell_type": "code",
   "execution_count": 108,
   "metadata": {},
   "outputs": [
    {
     "name": "stdout",
     "output_type": "stream",
     "text": [
      "(0.989157497882843, 0.0037451637908816338)\n",
      "(0.9968446493148804, 0.0025786878541111946)\n"
     ]
    },
    {
     "data": {
      "text/plain": [
       "<matplotlib.axes._subplots.AxesSubplot at 0x2712c250ac8>"
      ]
     },
     "execution_count": 108,
     "metadata": {},
     "output_type": "execute_result"
    },
    {
     "data": {
      "image/png": "[encoded data removed]",
      "text/plain": [
       "<Figure size 432x288 with 1 Axes>"
      ]
     },
     "metadata": {},
     "output_type": "display_data"
    }
   ],
   "source": [
    "import scipy.stats as stats\n",
    "\n",
    "print(stats.shapiro(qe05.NT_GER.loc[qe05.CO_REGIAO_CURSO == 'N']))\n",
    "\n",
    "print(stats.shapiro(qe05.NT_GER.loc[qe05.CO_REGIAO_CURSO == 'S']))\n",
    "\n",
    "#a saída do teste é o valor W e o p-value\n",
    "#Considera-se que a suposição não é violada quando o p-value é maior que alpha, normalmente 0.05\n",
    "\n",
    "#pelo histograma, também é possível observar a distribuição dos dados. \n",
    "qe05.NT_GER.loc[qe05.CO_REGIAO_CURSO =='S'].hist()\n"
   ]
  },
  {
   "cell_type": "code",
   "execution_count": 109,
   "metadata": {},
   "outputs": [
    {
     "data": {
      "text/plain": [
       "<matplotlib.axes._subplots.AxesSubplot at 0x27125c89c50>"
      ]
     },
     "execution_count": 109,
     "metadata": {},
     "output_type": "execute_result"
    },
    {
     "data": {
      "image/png": "[encoded data removed]",
      "text/plain": [
       "<Figure size 432x288 with 1 Axes>"
      ]
     },
     "metadata": {},
     "output_type": "display_data"
    }
   ],
   "source": [
    "qe05.NT_GER.loc[qe05.CO_REGIAO_CURSO =='N'].hist()"
   ]
  },
  {
   "cell_type": "code",
   "execution_count": null,
   "metadata": {},
   "outputs": [],
   "source": []
  }
 ],
 "metadata": {
  "kernelspec": {
   "display_name": "Python 3",
   "language": "python",
   "name": "python3"
  },
  "language_info": {
   "codemirror_mode": {
    "name": "ipython",
    "version": 3
   },
   "file_extension": ".py",
   "mimetype": "text/x-python",
   "name": "python",
   "nbconvert_exporter": "python",
   "pygments_lexer": "ipython3",
   "version": "3.6.5"
  }
 },
 "nbformat": 4,
 "nbformat_minor": 2
}
