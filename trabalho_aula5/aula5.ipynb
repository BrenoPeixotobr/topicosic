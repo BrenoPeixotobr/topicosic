{
 "cells": [
  {
   "cell_type": "markdown",
   "metadata": {},
   "source": [
    "# Disciplina: Tópicos em Inteligência Computacional\n",
    "Instituto Federal do Norte de Minas Gerais Campus Montes Claros <br/>\n",
    "Curso: Ciência da Computação <br/>\n",
    "Professora: Luciana Balieiro Cosme<br/>\n",
    "**Aula 5: Exploração de outras bases de dados** <br/>"
   ]
  },
  {
   "cell_type": "code",
   "execution_count": 1,
   "metadata": {},
   "outputs": [
    {
     "data": {
      "text/plain": [
       "(537436, 150)"
      ]
     },
     "execution_count": 1,
     "metadata": {},
     "output_type": "execute_result"
    }
   ],
   "source": [
    "import pandas\n",
    "import matplotlib.pyplot as plt\n",
    "\n",
    "enade2017=pandas.read_csv(\"datasets/MICRODADOS_ENADE_2017.txt\", sep=';',dtype={\"DS_VT_ESC_OFG\": str, \n",
    "                                                                               'DS_VT_ESC_OCE':str,\n",
    "                                                                              'DS_VT_ACE_OCE':str,\n",
    "                                                                              'NT_GER':str,\n",
    "                                                                              'NT_FG':str,\n",
    "                                                                              'NT_OBJ_FG':str,\n",
    "                                                                              'NT_DIS_FG':str,\n",
    "                                                                              'NT_CE':str,\n",
    "                                                                              'NT_OBJ_CE':str,\n",
    "                                                                              'NT_DIS_CE':str})\n",
    "\n",
    "\n",
    "enade2017.shape"
   ]
  },
  {
   "cell_type": "code",
   "execution_count": 2,
   "metadata": {},
   "outputs": [
    {
     "data": {
      "text/plain": [
       "Index([u'NU_ANO', u'CO_IES', u'CO_CATEGAD', u'CO_ORGACAD', u'CO_GRUPO',\n",
       "       u'CO_CURSO', u'CO_MODALIDADE', u'CO_MUNIC_CURSO', u'CO_UF_CURSO',\n",
       "       u'CO_REGIAO_CURSO',\n",
       "       ...\n",
       "       u'QE_I72', u'QE_I73', u'QE_I74', u'QE_I75', u'QE_I76', u'QE_I77',\n",
       "       u'QE_I78', u'QE_I79', u'QE_I80', u'QE_I81'],\n",
       "      dtype='object', length=150)"
      ]
     },
     "execution_count": 2,
     "metadata": {},
     "output_type": "execute_result"
    }
   ],
   "source": [
    "enade2017.columns[0:]"
   ]
  },
  {
   "cell_type": "code",
   "execution_count": 3,
   "metadata": {},
   "outputs": [],
   "source": [
    "'''\n",
    "nota geral: 0-98 \n",
    "questão08: Qual a renda total de sua família, incluindo seus rendimentos?\n",
    "A = Até 1,5 salário mínimo (até R$ 1.405,50).\n",
    "B = De 1,5 a 3 salários mínimos (R$ 1.405,51 a R$ 2.811,00).\n",
    "C = De 3 a 4,5 salários mínimos (R$ 2.811,01 a R$ 4.216,50).\n",
    "D = De 4,5 a 6 salários mínimos (R$ 4.216,51 a R$ 5.622,00).\n",
    "E = De 6 a 10 salários mínimos (R$ 5. 622,01 a R$ 9.370,00).\n",
    "F = De 10 a 30 salários mínimos (R$ 9.370,01 a R$ 28.110,00).\n",
    "G = Acima de 30 salários mínimos (mais de R$ 28.110,00).\n",
    "\n",
    "i05 escolaridade da mae\n",
    "A = Nenhuma.\n",
    "B = Ensino fundamental: 1º ao 5º ano (1ª a 4ª série).\n",
    "C = Ensino fundamental: 6º ao 9º ano (5ª a 8ª série).\n",
    "D = Ensino médio.\n",
    "E = Ensino Superior - Graduação.\n",
    "F = Pós-graduação.\n",
    "\n",
    "'''\n",
    "\n",
    "tabela = pandas.DataFrame(enade2017, columns=['NT_GER', 'CO_GRUPO', 'QE_I08', 'CO_IES', 'QE_I05', 'QE_I17', 'CO_REGIAO_CURSO'])"
   ]
  },
  {
   "cell_type": "code",
   "execution_count": 4,
   "metadata": {},
   "outputs": [],
   "source": [
    "##limpeza dos dados\n",
    "\n",
    "#substitui vírgula por ponto\n",
    "tabela['NT_GER'] = tabela['NT_GER'].str.replace(',', '.')\n",
    "\n",
    "#observe os NaN (not a number)"
   ]
  },
  {
   "cell_type": "code",
   "execution_count": 5,
   "metadata": {},
   "outputs": [],
   "source": [
    "'''No arquivo 'Dicionário de variáveis dos Microdados do Enade_Edição 2017' descreve que:\n",
    "o codigo 222 no campo TP_PR_GER significa ausente \n",
    "556 e 888 são participações desconsideradas.\n",
    "Portanto, algumas notas podem ser desconsideradas dependendo do seu objetivo, \n",
    "e aqui, será de calcular a média daqueles que fizeram a prova.\n",
    "'''\n",
    "tabela=tabela.loc[(tabela['NT_GER'].notnull())]\n",
    "#print(tabela['NT_GER'])\n",
    "#converte de str para float\n",
    "tabela['NT_GER'] = pandas.to_numeric(tabela['NT_GER'])\n",
    "\n"
   ]
  },
  {
   "cell_type": "code",
   "execution_count": 6,
   "metadata": {},
   "outputs": [],
   "source": [
    "#Calcula a média de um curso especifico\n",
    "#Código da área de enquadramento do curso no Enade == ciencia da computacao\n",
    "\n",
    "ccomp = tabela[tabela['CO_GRUPO']==4004]"
   ]
  },
  {
   "cell_type": "code",
   "execution_count": 7,
   "metadata": {},
   "outputs": [
    {
     "data": {
      "text/plain": [
       "count    8489.000000\n",
       "mean       43.262775\n",
       "std        13.633212\n",
       "min         0.000000\n",
       "25%        33.700000\n",
       "50%        42.300000\n",
       "75%        52.400000\n",
       "max        95.100000\n",
       "Name: NT_GER, dtype: float64"
      ]
     },
     "execution_count": 7,
     "metadata": {},
     "output_type": "execute_result"
    }
   ],
   "source": [
    "ccomp['NT_GER'].describe()"
   ]
  },
  {
   "cell_type": "code",
   "execution_count": 8,
   "metadata": {},
   "outputs": [],
   "source": [
    "#somente as notas de quem respondeu a questão sobre a renda\n",
    "ccomp=ccomp.loc[(ccomp['QE_I08'].notnull())]"
   ]
  },
  {
   "cell_type": "code",
   "execution_count": 9,
   "metadata": {},
   "outputs": [],
   "source": [
    "ccomp=ccomp.loc[(ccomp['QE_I05'].notnull())]"
   ]
  },
  {
   "cell_type": "code",
   "execution_count": 10,
   "metadata": {},
   "outputs": [],
   "source": [
    "import matplotlib.pyplot as plt\n"
   ]
  },
  {
   "cell_type": "code",
   "execution_count": 11,
   "metadata": {},
   "outputs": [
    {
     "data": {
      "image/png": "[encoded data removed]",
      "text/plain": [
       "<Figure size 432x288 with 1 Axes>"
      ]
     },
     "metadata": {
      "needs_background": "light"
     },
     "output_type": "display_data"
    }
   ],
   "source": [
    "# Verificar o impacto do ensino médio no ensino superior\n",
    "\"\"\"\n",
    "A = Todo em escola pública.\n",
    "B = Todo em escola privada (particular).\n",
    "C = Todo no exterior.\n",
    "D = A maior parte em escola pública.\n",
    "E = A maior parte em escola privada (particular).\n",
    "F = Parte no Brasil e parte no exterior.\n",
    "\"\"\"\n",
    "#escola = tabela['QE_I17'].map({'A': 1, 'B': 2, 'C': 3, 'D': 4,'E': 5, 'F':6})\n",
    "#print(escola)\n",
    "ccomp['QE_I17'] = ccomp['QE_I17'].map({'A': 1, 'B': 2, 'C': 3, 'D': 4,'E': 5, 'F':6})\n",
    "ccomp=ccomp.loc[(ccomp['QE_I17'].notnull())]\n",
    "plt.scatter( ccomp.NT_GER, ccomp.QE_I17 )\n",
    "plt.xlabel('Nota Geral')\n",
    "plt.ylabel('Tipo de escola do ensino medio')\n",
    "plt.show()\n"
   ]
  },
  {
   "cell_type": "code",
   "execution_count": 12,
   "metadata": {},
   "outputs": [
    {
     "data": {
      "image/png": "[encoded data removed]",
      "text/plain": [
       "<Figure size 432x288 with 1 Axes>"
      ]
     },
     "metadata": {
      "needs_background": "light"
     },
     "output_type": "display_data"
    },
    {
     "data": {
      "text/html": [
       "<div>\n",
       "<style scoped>\n",
       "    .dataframe tbody tr th:only-of-type {\n",
       "        vertical-align: middle;\n",
       "    }\n",
       "\n",
       "    .dataframe tbody tr th {\n",
       "        vertical-align: top;\n",
       "    }\n",
       "\n",
       "    .dataframe thead th {\n",
       "        text-align: right;\n",
       "    }\n",
       "</style>\n",
       "<table border=\"1\" class=\"dataframe\">\n",
       "  <thead>\n",
       "    <tr style=\"text-align: right;\">\n",
       "      <th></th>\n",
       "      <th>count</th>\n",
       "      <th>mean</th>\n",
       "      <th>std</th>\n",
       "      <th>min</th>\n",
       "      <th>25%</th>\n",
       "      <th>50%</th>\n",
       "      <th>75%</th>\n",
       "      <th>max</th>\n",
       "    </tr>\n",
       "    <tr>\n",
       "      <th>CO_REGIAO_CURSO</th>\n",
       "      <th></th>\n",
       "      <th></th>\n",
       "      <th></th>\n",
       "      <th></th>\n",
       "      <th></th>\n",
       "      <th></th>\n",
       "      <th></th>\n",
       "      <th></th>\n",
       "    </tr>\n",
       "  </thead>\n",
       "  <tbody>\n",
       "    <tr>\n",
       "      <th>CO</th>\n",
       "      <td>607.0</td>\n",
       "      <td>41.387974</td>\n",
       "      <td>13.659021</td>\n",
       "      <td>0.0</td>\n",
       "      <td>32.10</td>\n",
       "      <td>41.1</td>\n",
       "      <td>51.1</td>\n",
       "      <td>79.9</td>\n",
       "    </tr>\n",
       "    <tr>\n",
       "      <th>N</th>\n",
       "      <td>413.0</td>\n",
       "      <td>38.421792</td>\n",
       "      <td>12.378746</td>\n",
       "      <td>6.1</td>\n",
       "      <td>29.70</td>\n",
       "      <td>37.0</td>\n",
       "      <td>45.1</td>\n",
       "      <td>76.6</td>\n",
       "    </tr>\n",
       "    <tr>\n",
       "      <th>NE</th>\n",
       "      <td>1615.0</td>\n",
       "      <td>44.043096</td>\n",
       "      <td>13.429269</td>\n",
       "      <td>0.0</td>\n",
       "      <td>34.65</td>\n",
       "      <td>43.3</td>\n",
       "      <td>52.6</td>\n",
       "      <td>93.9</td>\n",
       "    </tr>\n",
       "    <tr>\n",
       "      <th>S</th>\n",
       "      <td>1587.0</td>\n",
       "      <td>46.289351</td>\n",
       "      <td>13.732373</td>\n",
       "      <td>0.0</td>\n",
       "      <td>36.80</td>\n",
       "      <td>45.8</td>\n",
       "      <td>55.6</td>\n",
       "      <td>86.5</td>\n",
       "    </tr>\n",
       "    <tr>\n",
       "      <th>SE</th>\n",
       "      <td>4186.0</td>\n",
       "      <td>42.687984</td>\n",
       "      <td>13.528741</td>\n",
       "      <td>0.0</td>\n",
       "      <td>33.30</td>\n",
       "      <td>41.5</td>\n",
       "      <td>51.9</td>\n",
       "      <td>95.1</td>\n",
       "    </tr>\n",
       "  </tbody>\n",
       "</table>\n",
       "</div>"
      ],
      "text/plain": [
       "                  count       mean        std  min    25%   50%   75%   max\n",
       "CO_REGIAO_CURSO                                                            \n",
       "CO                607.0  41.387974  13.659021  0.0  32.10  41.1  51.1  79.9\n",
       "N                 413.0  38.421792  12.378746  6.1  29.70  37.0  45.1  76.6\n",
       "NE               1615.0  44.043096  13.429269  0.0  34.65  43.3  52.6  93.9\n",
       "S                1587.0  46.289351  13.732373  0.0  36.80  45.8  55.6  86.5\n",
       "SE               4186.0  42.687984  13.528741  0.0  33.30  41.5  51.9  95.1"
      ]
     },
     "execution_count": 12,
     "metadata": {},
     "output_type": "execute_result"
    }
   ],
   "source": [
    "# Verificar os resultados a partir da região do país\n",
    "\"\"\"\n",
    "N Nordeste\n",
    "S Sul\n",
    "SE Sudeste\n",
    "NE Nordeste\n",
    "CO Centro-Oeste\n",
    "\"\"\"\n",
    "#escola = tabela['QE_I17'].map({'A': 1, 'B': 2, 'C': 3, 'D': 4,'E': 5, 'F':6})\n",
    "#print(escola)\n",
    "ccomp['CO_REGIAO_CURSO'] = ccomp['CO_REGIAO_CURSO'].map({1 : 'N', 2 : 'NE', 3 : 'SE', 4 : 'S', 5 : 'CO'})\n",
    "ccomp=ccomp.loc[(ccomp['CO_REGIAO_CURSO'].notnull())]\n",
    "plt.scatter( ccomp.NT_GER, ccomp.CO_REGIAO_CURSO )\n",
    "plt.xlabel('Nota Geral')\n",
    "plt.ylabel('Regiao Curso')\n",
    "plt.show()\n",
    "#nota geral agrupada pela questão 05\n",
    "ccomp['NT_GER'].groupby(ccomp['CO_REGIAO_CURSO']).describe()\n",
    "\n"
   ]
  },
  {
   "cell_type": "code",
   "execution_count": 13,
   "metadata": {},
   "outputs": [
    {
     "data": {
      "text/html": [
       "<div>\n",
       "<style scoped>\n",
       "    .dataframe tbody tr th:only-of-type {\n",
       "        vertical-align: middle;\n",
       "    }\n",
       "\n",
       "    .dataframe tbody tr th {\n",
       "        vertical-align: top;\n",
       "    }\n",
       "\n",
       "    .dataframe thead th {\n",
       "        text-align: right;\n",
       "    }\n",
       "</style>\n",
       "<table border=\"1\" class=\"dataframe\">\n",
       "  <thead>\n",
       "    <tr style=\"text-align: right;\">\n",
       "      <th></th>\n",
       "      <th>count</th>\n",
       "      <th>mean</th>\n",
       "      <th>std</th>\n",
       "      <th>min</th>\n",
       "      <th>25%</th>\n",
       "      <th>50%</th>\n",
       "      <th>75%</th>\n",
       "      <th>max</th>\n",
       "    </tr>\n",
       "    <tr>\n",
       "      <th>QE_I17</th>\n",
       "      <th></th>\n",
       "      <th></th>\n",
       "      <th></th>\n",
       "      <th></th>\n",
       "      <th></th>\n",
       "      <th></th>\n",
       "      <th></th>\n",
       "      <th></th>\n",
       "    </tr>\n",
       "  </thead>\n",
       "  <tbody>\n",
       "    <tr>\n",
       "      <th>A</th>\n",
       "      <td>303992.0</td>\n",
       "      <td>42.195132</td>\n",
       "      <td>13.678058</td>\n",
       "      <td>0.0</td>\n",
       "      <td>32.4</td>\n",
       "      <td>41.5</td>\n",
       "      <td>51.40</td>\n",
       "      <td>98.1</td>\n",
       "    </tr>\n",
       "    <tr>\n",
       "      <th>B</th>\n",
       "      <td>104507.0</td>\n",
       "      <td>48.054834</td>\n",
       "      <td>14.272882</td>\n",
       "      <td>0.0</td>\n",
       "      <td>38.1</td>\n",
       "      <td>47.9</td>\n",
       "      <td>58.00</td>\n",
       "      <td>97.0</td>\n",
       "    </tr>\n",
       "    <tr>\n",
       "      <th>C</th>\n",
       "      <td>463.0</td>\n",
       "      <td>43.876026</td>\n",
       "      <td>15.046402</td>\n",
       "      <td>7.5</td>\n",
       "      <td>32.5</td>\n",
       "      <td>42.9</td>\n",
       "      <td>54.75</td>\n",
       "      <td>84.8</td>\n",
       "    </tr>\n",
       "    <tr>\n",
       "      <th>D</th>\n",
       "      <td>18168.0</td>\n",
       "      <td>41.487307</td>\n",
       "      <td>13.772580</td>\n",
       "      <td>0.0</td>\n",
       "      <td>31.5</td>\n",
       "      <td>40.7</td>\n",
       "      <td>50.80</td>\n",
       "      <td>89.6</td>\n",
       "    </tr>\n",
       "    <tr>\n",
       "      <th>E</th>\n",
       "      <td>14831.0</td>\n",
       "      <td>43.688571</td>\n",
       "      <td>13.892160</td>\n",
       "      <td>0.0</td>\n",
       "      <td>33.9</td>\n",
       "      <td>43.1</td>\n",
       "      <td>53.10</td>\n",
       "      <td>91.7</td>\n",
       "    </tr>\n",
       "    <tr>\n",
       "      <th>F</th>\n",
       "      <td>907.0</td>\n",
       "      <td>50.508159</td>\n",
       "      <td>14.607773</td>\n",
       "      <td>0.0</td>\n",
       "      <td>40.3</td>\n",
       "      <td>50.6</td>\n",
       "      <td>60.70</td>\n",
       "      <td>89.4</td>\n",
       "    </tr>\n",
       "  </tbody>\n",
       "</table>\n",
       "</div>"
      ],
      "text/plain": [
       "           count       mean        std  min   25%   50%    75%   max\n",
       "QE_I17                                                              \n",
       "A       303992.0  42.195132  13.678058  0.0  32.4  41.5  51.40  98.1\n",
       "B       104507.0  48.054834  14.272882  0.0  38.1  47.9  58.00  97.0\n",
       "C          463.0  43.876026  15.046402  7.5  32.5  42.9  54.75  84.8\n",
       "D        18168.0  41.487307  13.772580  0.0  31.5  40.7  50.80  89.6\n",
       "E        14831.0  43.688571  13.892160  0.0  33.9  43.1  53.10  91.7\n",
       "F          907.0  50.508159  14.607773  0.0  40.3  50.6  60.70  89.4"
      ]
     },
     "execution_count": 13,
     "metadata": {},
     "output_type": "execute_result"
    }
   ],
   "source": [
    "tabela['NT_GER'].groupby(tabela['QE_I17']).describe()"
   ]
  },
  {
   "cell_type": "code",
   "execution_count": 14,
   "metadata": {},
   "outputs": [
    {
     "data": {
      "text/plain": [
       "<matplotlib.axes._subplots.AxesSubplot at 0x7fda2fcca310>"
      ]
     },
     "execution_count": 14,
     "metadata": {},
     "output_type": "execute_result"
    },
    {
     "data": {
      "image/png": "[encoded data removed]",
      "text/plain": [
       "<Figure size 432x288 with 1 Axes>"
      ]
     },
     "metadata": {
      "needs_background": "light"
     },
     "output_type": "display_data"
    }
   ],
   "source": [
    "qe09 = pandas.DataFrame(ccomp, columns=['NT_GER', 'QE_I17'])\n",
    "qe09.boxplot(by='QE_I17')"
   ]
  },
  {
   "cell_type": "code",
   "execution_count": 15,
   "metadata": {},
   "outputs": [
    {
     "name": "stdout",
     "output_type": "stream",
     "text": [
      "(0.9922361969947815, 1.5224135030772142e-15)\n",
      "(0.9986683130264282, 0.018041541799902916)\n"
     ]
    },
    {
     "data": {
      "text/plain": [
       "<matplotlib.axes._subplots.AxesSubplot at 0x7fda22d848d0>"
      ]
     },
     "execution_count": 15,
     "metadata": {},
     "output_type": "execute_result"
    },
    {
     "data": {
      "image/png": "[encoded data removed]",
      "text/plain": [
       "<Figure size 432x288 with 1 Axes>"
      ]
     },
     "metadata": {
      "needs_background": "light"
     },
     "output_type": "display_data"
    }
   ],
   "source": [
    "import scipy.stats as stats\n",
    "\n",
    "print(stats.shapiro(qe09.NT_GER.loc[qe09.QE_I17 == 1]))\n",
    "\n",
    "print(stats.shapiro(qe09.NT_GER.loc[qe09.QE_I17 == 2]))\n",
    "\n",
    "#a saída do teste é o valor W e o p-value\n",
    "#Considera-se que a suposição não é violada quando o p-value é maior que alpha, normalmente 0.05\n",
    "\n",
    "#pelo histograma, também é possível observar a distribuição dos dados. \n",
    "qe09.NT_GER.loc[qe09.QE_I17 ==1].hist()\n",
    "qe09.NT_GER.loc[qe09.QE_I17 ==2].hist()"
   ]
  },
  {
   "cell_type": "code",
   "execution_count": 16,
   "metadata": {},
   "outputs": [
    {
     "data": {
      "text/html": [
       "<div>\n",
       "<style scoped>\n",
       "    .dataframe tbody tr th:only-of-type {\n",
       "        vertical-align: middle;\n",
       "    }\n",
       "\n",
       "    .dataframe tbody tr th {\n",
       "        vertical-align: top;\n",
       "    }\n",
       "\n",
       "    .dataframe thead th {\n",
       "        text-align: right;\n",
       "    }\n",
       "</style>\n",
       "<table border=\"1\" class=\"dataframe\">\n",
       "  <thead>\n",
       "    <tr style=\"text-align: right;\">\n",
       "      <th></th>\n",
       "      <th>count</th>\n",
       "      <th>mean</th>\n",
       "      <th>std</th>\n",
       "      <th>min</th>\n",
       "      <th>25%</th>\n",
       "      <th>50%</th>\n",
       "      <th>75%</th>\n",
       "      <th>max</th>\n",
       "    </tr>\n",
       "    <tr>\n",
       "      <th>CO_REGIAO_CURSO</th>\n",
       "      <th></th>\n",
       "      <th></th>\n",
       "      <th></th>\n",
       "      <th></th>\n",
       "      <th></th>\n",
       "      <th></th>\n",
       "      <th></th>\n",
       "      <th></th>\n",
       "    </tr>\n",
       "  </thead>\n",
       "  <tbody>\n",
       "    <tr>\n",
       "      <th>CO</th>\n",
       "      <td>33983.0</td>\n",
       "      <td>42.219242</td>\n",
       "      <td>14.034614</td>\n",
       "      <td>0.0</td>\n",
       "      <td>32.1</td>\n",
       "      <td>41.6</td>\n",
       "      <td>51.9</td>\n",
       "      <td>92.3</td>\n",
       "    </tr>\n",
       "    <tr>\n",
       "      <th>N</th>\n",
       "      <td>30173.0</td>\n",
       "      <td>39.985593</td>\n",
       "      <td>13.125199</td>\n",
       "      <td>0.0</td>\n",
       "      <td>30.6</td>\n",
       "      <td>39.4</td>\n",
       "      <td>48.8</td>\n",
       "      <td>93.2</td>\n",
       "    </tr>\n",
       "    <tr>\n",
       "      <th>NE</th>\n",
       "      <td>80074.0</td>\n",
       "      <td>42.983184</td>\n",
       "      <td>13.944656</td>\n",
       "      <td>0.0</td>\n",
       "      <td>33.0</td>\n",
       "      <td>42.4</td>\n",
       "      <td>52.4</td>\n",
       "      <td>98.1</td>\n",
       "    </tr>\n",
       "    <tr>\n",
       "      <th>S</th>\n",
       "      <td>97242.0</td>\n",
       "      <td>44.143470</td>\n",
       "      <td>14.138741</td>\n",
       "      <td>0.0</td>\n",
       "      <td>34.0</td>\n",
       "      <td>43.6</td>\n",
       "      <td>53.9</td>\n",
       "      <td>97.0</td>\n",
       "    </tr>\n",
       "    <tr>\n",
       "      <th>SE</th>\n",
       "      <td>208460.0</td>\n",
       "      <td>44.167560</td>\n",
       "      <td>14.146129</td>\n",
       "      <td>0.0</td>\n",
       "      <td>34.1</td>\n",
       "      <td>43.6</td>\n",
       "      <td>53.8</td>\n",
       "      <td>96.4</td>\n",
       "    </tr>\n",
       "  </tbody>\n",
       "</table>\n",
       "</div>"
      ],
      "text/plain": [
       "                    count       mean        std  min   25%   50%   75%   max\n",
       "CO_REGIAO_CURSO                                                             \n",
       "CO                33983.0  42.219242  14.034614  0.0  32.1  41.6  51.9  92.3\n",
       "N                 30173.0  39.985593  13.125199  0.0  30.6  39.4  48.8  93.2\n",
       "NE                80074.0  42.983184  13.944656  0.0  33.0  42.4  52.4  98.1\n",
       "S                 97242.0  44.143470  14.138741  0.0  34.0  43.6  53.9  97.0\n",
       "SE               208460.0  44.167560  14.146129  0.0  34.1  43.6  53.8  96.4"
      ]
     },
     "execution_count": 16,
     "metadata": {},
     "output_type": "execute_result"
    }
   ],
   "source": [
    "#nota geral agrupada pela questão 05\n",
    "tabela['CO_REGIAO_CURSO'] = tabela['CO_REGIAO_CURSO'].map({1 : 'N', 2 : 'NE', 3 : 'SE', 4 : 'S', 5 : 'CO'})\n",
    "tabela['NT_GER'].groupby(tabela['CO_REGIAO_CURSO']).describe()"
   ]
  },
  {
   "cell_type": "code",
   "execution_count": 17,
   "metadata": {},
   "outputs": [
    {
     "data": {
      "text/plain": [
       "<matplotlib.axes._subplots.AxesSubplot at 0x7fda22946510>"
      ]
     },
     "execution_count": 17,
     "metadata": {},
     "output_type": "execute_result"
    },
    {
     "data": {
      "image/png": "[encoded data removed]",
      "text/plain": [
       "<Figure size 432x288 with 1 Axes>"
      ]
     },
     "metadata": {
      "needs_background": "light"
     },
     "output_type": "display_data"
    }
   ],
   "source": [
    "#Como verificar se a média dos alunos do campo QE_I05 para todos os alunos são realmente diferentes\n",
    "qe05 = pandas.DataFrame(ccomp, columns=['NT_GER', 'CO_REGIAO_CURSO'])\n",
    "qe05.boxplot(by='CO_REGIAO_CURSO')"
   ]
  },
  {
   "cell_type": "code",
   "execution_count": 18,
   "metadata": {},
   "outputs": [
    {
     "name": "stdout",
     "output_type": "stream",
     "text": [
      "(0.989157497882843, 0.0037451637908816338)\n",
      "(0.9968446493148804, 0.0025786878541111946)\n"
     ]
    },
    {
     "data": {
      "text/plain": [
       "<matplotlib.axes._subplots.AxesSubplot at 0x7fda2b3d9890>"
      ]
     },
     "execution_count": 18,
     "metadata": {},
     "output_type": "execute_result"
    },
    {
     "data": {
      "image/png": "[encoded data removed]",
      "text/plain": [
       "<Figure size 432x288 with 1 Axes>"
      ]
     },
     "metadata": {
      "needs_background": "light"
     },
     "output_type": "display_data"
    }
   ],
   "source": [
    "print(stats.shapiro(qe05.NT_GER.loc[qe05.CO_REGIAO_CURSO == 'N']))\n",
    "\n",
    "print(stats.shapiro(qe05.NT_GER.loc[qe05.CO_REGIAO_CURSO == 'S']))\n",
    "\n",
    "#a saída do teste é o valor W e o p-value\n",
    "#Considera-se que a suposição não é violada quando o p-value é maior que alpha, normalmente 0.05\n",
    "\n",
    "#pelo histograma, também é possível observar a distribuição dos dados. \n",
    "qe05.NT_GER.loc[qe05.CO_REGIAO_CURSO =='S'].hist()\n"
   ]
  },
  {
   "cell_type": "code",
   "execution_count": 19,
   "metadata": {},
   "outputs": [
    {
     "data": {
      "text/plain": [
       "<matplotlib.axes._subplots.AxesSubplot at 0x7fda2b361e50>"
      ]
     },
     "execution_count": 19,
     "metadata": {},
     "output_type": "execute_result"
    },
    {
     "data": {
      "image/png": "[encoded data removed]",
      "text/plain": [
       "<Figure size 432x288 with 1 Axes>"
      ]
     },
     "metadata": {
      "needs_background": "light"
     },
     "output_type": "display_data"
    }
   ],
   "source": [
    "qe05.NT_GER.loc[qe05.CO_REGIAO_CURSO =='N'].hist()"
   ]
  },
  {
   "cell_type": "code",
   "execution_count": null,
   "metadata": {},
   "outputs": [],
   "source": []
  }
 ],
 "metadata": {
  "kernelspec": {
   "display_name": "Python 3",
   "language": "python",
   "name": "python3"
  },
  "language_info": {
   "codemirror_mode": {
    "name": "ipython",
    "version": 2
   },
   "file_extension": ".py",
   "mimetype": "text/x-python",
   "name": "python",
   "nbconvert_exporter": "python",
   "pygments_lexer": "ipython2",
   "version": "2.7.15rc1"
  }
 },
 "nbformat": 4,
 "nbformat_minor": 2
}
