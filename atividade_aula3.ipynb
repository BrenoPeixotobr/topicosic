{
 "cells": [
  {
   "cell_type": "code",
   "execution_count": 3,
   "metadata": {},
   "outputs": [
    {
     "name": "stdout",
     "output_type": "stream",
     "text": [
      "[[22.         21.99732503 22.61237818 ... 22.61237818 21.99732503\n",
      "  22.        ]\n",
      " [21.99732503 21.99465005 22.6097032  ... 22.6097032  21.99465005\n",
      "  21.99732503]\n",
      " [22.61237818 22.6097032  23.22475636 ... 23.22475636 22.6097032\n",
      "  22.61237818]\n",
      " ...\n",
      " [22.61237818 22.6097032  23.22475636 ... 23.22475636 22.6097032\n",
      "  22.61237818]\n",
      " [21.99732503 21.99465005 22.6097032  ... 22.6097032  21.99465005\n",
      "  21.99732503]\n",
      " [22.         21.99732503 22.61237818 ... 22.61237818 21.99732503\n",
      "  22.        ]]\n"
     ]
    }
   ],
   "source": [
    "from matplotlib import cm\n",
    "from mpl_toolkits.mplot3d import Axes3D\n",
    "import math\n",
    "import matplotlib.pyplot as plt\n",
    "import numpy as np\n",
    "from scipy.optimize import minimize\n",
    "\n",
    "def rastrigin(*X, **kwargs):\n",
    "    A = kwargs.get('A', 10)\n",
    "    return A + sum([(x**2 - A * np.cos(2 * math.pi * x)) for x in X])\n",
    "\n",
    "#if __name__ == '__main__':\n",
    "X = np.linspace(-4, 4, 200)    \n",
    "Y = np.linspace(-4, 4, 200)    \n",
    "\n",
    "X, Y = np.meshgrid(X, Y)\n",
    "\n",
    "x0 = np.array([1000, 1000, 1000, 1000])\n",
    "res = rastrigin(X, Y, A=10)\n",
    "print(res)\n",
    "\n",
    "#Z = rastrigin(X, Y, A=10)\n",
    "\n",
    "#fig = plt.figure()\n",
    "#ax = fig.gca(projection='3d')\n",
    "\n",
    "#ax.plot_surface(X, Y, Z, rstride=1, cstride=1, cmap=cm.plasma, linewidth=0, antialiased=False)    \n",
    "#plt.savefig('rastrigin.png')"
   ]
  },
  {
   "cell_type": "code",
   "execution_count": null,
   "metadata": {},
   "outputs": [],
   "source": []
  },
  {
   "cell_type": "code",
   "execution_count": null,
   "metadata": {},
   "outputs": [],
   "source": []
  },
  {
   "cell_type": "code",
   "execution_count": null,
   "metadata": {},
   "outputs": [],
   "source": []
  }
 ],
 "metadata": {
  "kernelspec": {
   "display_name": "Python 3",
   "language": "python",
   "name": "python3"
  },
  "language_info": {
   "codemirror_mode": {
    "name": "ipython",
    "version": 3
   },
   "file_extension": ".py",
   "mimetype": "text/x-python",
   "name": "python",
   "nbconvert_exporter": "python",
   "pygments_lexer": "ipython3",
   "version": "3.6.5"
  }
 },
 "nbformat": 4,
 "nbformat_minor": 2
}
